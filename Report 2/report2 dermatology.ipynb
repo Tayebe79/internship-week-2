{
 "cells": [
  {
   "cell_type": "code",
   "execution_count": 1,
   "id": "dba20a37",
   "metadata": {},
   "outputs": [],
   "source": [
    "import pandas as pd\n",
    "import numpy as np\n",
    "from sklearn.linear_model import LinearRegression\n",
    "from sklearn.preprocessing import PolynomialFeatures\n",
    "from sklearn.model_selection import train_test_split\n",
    "from sklearn.metrics import accuracy_score,confusion_matrix\n",
    "from sklearn.metrics import precision_score, recall_score, f1_score, accuracy_score\n",
    "import matplotlib.pyplot as plt\n",
    "\n",
    "csv_file3 = 'datasetsForReport2/dermatology.csv'\n",
    "\n",
    "df3 = pd.read_csv(csv_file3)"
   ]
  },
  {
   "cell_type": "code",
   "execution_count": 2,
   "id": "65b9dbf8",
   "metadata": {},
   "outputs": [],
   "source": [
    "df3 = df3.drop(labels=[33,34,35,36,262,263,264,265], axis=0)\n",
    "df3['Age'] = pd.to_numeric(df3['Age'])\n",
    "x3=df3.iloc[:,:34]\n",
    "y3=df3.iloc[:,34]\n",
    "x_train3,x_test3,y_train3,y_test3=train_test_split(x3,y3,random_state=0)"
   ]
  },
  {
   "cell_type": "code",
   "execution_count": 3,
   "id": "5b760739",
   "metadata": {},
   "outputs": [
    {
     "name": "stdout",
     "output_type": "stream",
     "text": [
      "Accuracy: 0.94444\n"
     ]
    },
    {
     "name": "stderr",
     "output_type": "stream",
     "text": [
      "C:\\Users\\asus\\AppData\\Local\\Programs\\Python\\Python310\\lib\\site-packages\\sklearn\\linear_model\\_logistic.py:444: ConvergenceWarning: lbfgs failed to converge (status=1):\n",
      "STOP: TOTAL NO. of ITERATIONS REACHED LIMIT.\n",
      "\n",
      "Increase the number of iterations (max_iter) or scale the data as shown in:\n",
      "    https://scikit-learn.org/stable/modules/preprocessing.html\n",
      "Please also refer to the documentation for alternative solver options:\n",
      "    https://scikit-learn.org/stable/modules/linear_model.html#logistic-regression\n",
      "  n_iter_i = _check_optimize_result(\n"
     ]
    }
   ],
   "source": [
    "#Logistic Regression for dermatology = df3\n",
    "from sklearn.linear_model import LogisticRegression\n",
    "model31=LogisticRegression()\n",
    "model31.fit(x_train3,y_train3)\n",
    "y_pred31=model31.predict(x_test3)\n",
    "print('Accuracy: %.5f' % accuracy_score(y_test3, y_pred31))"
   ]
  },
  {
   "cell_type": "code",
   "execution_count": 4,
   "id": "103399d8",
   "metadata": {},
   "outputs": [
    {
     "name": "stdout",
     "output_type": "stream",
     "text": [
      "Accuracy: 0.93333\n"
     ]
    }
   ],
   "source": [
    "#Random forest for dermatology = df3\n",
    "from sklearn.ensemble import RandomForestClassifier \n",
    "model32= RandomForestClassifier(random_state = 100)\n",
    "model32= RandomForestClassifier(random_state = 100)\n",
    "model32.fit(x_train3,y_train3)\n",
    "y_pred32=model32.predict(x_test3)\n",
    "print('Accuracy: %.5f' % accuracy_score(y_test3, y_pred32))"
   ]
  },
  {
   "cell_type": "code",
   "execution_count": 5,
   "id": "171b4f7d",
   "metadata": {},
   "outputs": [
    {
     "name": "stdout",
     "output_type": "stream",
     "text": [
      "Accuracy: 0.65556\n"
     ]
    }
   ],
   "source": [
    "#SVG for dermatology = df3\n",
    "from sklearn.svm import SVC\n",
    "model33=SVC()\n",
    "model33.fit(x_train3,y_train3)\n",
    "y_pred33=model33.predict(x_test3)\n",
    "print('Accuracy: %.5f' % accuracy_score(y_test3, y_pred33))"
   ]
  },
  {
   "cell_type": "code",
   "execution_count": 6,
   "id": "7aa09235",
   "metadata": {},
   "outputs": [
    {
     "name": "stdout",
     "output_type": "stream",
     "text": [
      "The accuracy for optimal k = 3 using brute is 87.77777777777777\n"
     ]
    }
   ],
   "source": [
    "#KNN for wine = dermatology = df3\n",
    "from sklearn.neighbors import KNeighborsClassifier\n",
    "from sklearn.model_selection import cross_val_score\n",
    "cv_scores = []\n",
    "neighbors = list(np.arange(3,50,2))\n",
    "for n in neighbors:\n",
    "    knn = KNeighborsClassifier(n_neighbors = n,algorithm = 'brute')\n",
    "    \n",
    "    cross_val = cross_val_score(knn,x_train3,y_train3,cv = 5 , scoring = 'accuracy')\n",
    "    cv_scores.append(cross_val.mean())\n",
    "    \n",
    "error = [1-x for x in cv_scores]\n",
    "optimal_n = neighbors[ error.index(min(error)) ]\n",
    "knn_optimal = KNeighborsClassifier(n_neighbors = optimal_n,algorithm = 'brute')\n",
    "knn_optimal.fit(x_train3,y_train3)\n",
    "y_pred34 = knn_optimal.predict(x_test3)\n",
    "acc = accuracy_score(y_test3,y_pred34)*100\n",
    "print(\"The accuracy for optimal k = {0} using brute is {1}\".format(optimal_n,acc))"
   ]
  },
  {
   "cell_type": "code",
   "execution_count": 7,
   "id": "7c015105",
   "metadata": {},
   "outputs": [
    {
     "name": "stdout",
     "output_type": "stream",
     "text": [
      "Accuracy: 0.86667\n"
     ]
    }
   ],
   "source": [
    "#Decision tree for dermatology = df3\n",
    "from sklearn.tree import DecisionTreeClassifier\n",
    "model35 = DecisionTreeClassifier()\n",
    "model35.fit(x_train3,y_train3)\n",
    "y_pred35=model35.predict(x_test3)\n",
    "print('Accuracy: %.5f' % accuracy_score(y_test3, y_pred35))"
   ]
  },
  {
   "cell_type": "code",
   "execution_count": 8,
   "id": "5e5658c9",
   "metadata": {},
   "outputs": [
    {
     "name": "stdout",
     "output_type": "stream",
     "text": [
      "Accuracy: 0.93333\n"
     ]
    }
   ],
   "source": [
    "#xgboost for dermatology = df3\n",
    "from numpy import loadtxt\n",
    "from xgboost import XGBClassifier\n",
    "model36 = XGBClassifier()\n",
    "\n",
    "y_train3copy = y_train3\n",
    "d = {1:0, 2:1, 3:2, 4:3, 5:4, 6:5}\n",
    "y_train3copy=[d[i] for i in y_train3copy]\n",
    "y_test3copy = y_test3\n",
    "y_test3copy=[d[i] for i in y_test3copy]\n",
    "\n",
    "model36.fit(x_train3,y_train3copy)\n",
    "y_pred36=model36.predict(x_test3)\n",
    "print('Accuracy: %.5f' % accuracy_score(y_test3copy, y_pred36))"
   ]
  },
  {
   "cell_type": "code",
   "execution_count": 9,
   "id": "57a39f68",
   "metadata": {},
   "outputs": [],
   "source": [
    "import keras\n",
    "import seaborn as sns\n",
    "from sklearn.preprocessing import normalize\n",
    "\n",
    "from keras.models import Sequential \n",
    "from keras.layers import Dense,Activation,Dropout \n",
    "from tensorflow.keras.layers import BatchNormalization\n",
    "from keras.utils import np_utils"
   ]
  },
  {
   "cell_type": "code",
   "execution_count": 10,
   "id": "66095d52",
   "metadata": {},
   "outputs": [
    {
     "name": "stdout",
     "output_type": "stream",
     "text": [
      "Epoch 1/75\n",
      "9/9 - 1s - loss: 1.4654 - accuracy: 0.4755 - val_loss: 0.9688 - val_accuracy: 0.5556 - 1s/epoch - 112ms/step\n",
      "Epoch 2/75\n",
      "9/9 - 0s - loss: 0.5907 - accuracy: 0.7797 - val_loss: 0.3702 - val_accuracy: 0.8056 - 375ms/epoch - 42ms/step\n",
      "Epoch 3/75\n",
      "9/9 - 0s - loss: 0.1813 - accuracy: 0.9266 - val_loss: 0.5289 - val_accuracy: 0.8056 - 354ms/epoch - 39ms/step\n",
      "Epoch 4/75\n",
      "9/9 - 0s - loss: 0.1773 - accuracy: 0.9371 - val_loss: 0.1099 - val_accuracy: 0.9444 - 357ms/epoch - 40ms/step\n",
      "Epoch 5/75\n",
      "9/9 - 0s - loss: 0.1131 - accuracy: 0.9371 - val_loss: 0.0493 - val_accuracy: 0.9722 - 391ms/epoch - 43ms/step\n",
      "Epoch 6/75\n",
      "9/9 - 0s - loss: 0.0665 - accuracy: 0.9790 - val_loss: 0.0629 - val_accuracy: 0.9722 - 383ms/epoch - 43ms/step\n",
      "Epoch 7/75\n",
      "9/9 - 0s - loss: 0.0415 - accuracy: 0.9825 - val_loss: 0.5995 - val_accuracy: 0.8611 - 367ms/epoch - 41ms/step\n",
      "Epoch 8/75\n",
      "9/9 - 0s - loss: 0.1311 - accuracy: 0.9685 - val_loss: 0.0686 - val_accuracy: 0.9722 - 356ms/epoch - 40ms/step\n",
      "Epoch 9/75\n",
      "9/9 - 0s - loss: 0.0859 - accuracy: 0.9720 - val_loss: 0.0563 - val_accuracy: 0.9722 - 421ms/epoch - 47ms/step\n",
      "Epoch 10/75\n",
      "9/9 - 0s - loss: 0.1194 - accuracy: 0.9685 - val_loss: 0.0367 - val_accuracy: 1.0000 - 401ms/epoch - 45ms/step\n",
      "Epoch 11/75\n",
      "9/9 - 0s - loss: 0.0630 - accuracy: 0.9755 - val_loss: 0.0250 - val_accuracy: 1.0000 - 382ms/epoch - 42ms/step\n",
      "Epoch 12/75\n",
      "9/9 - 0s - loss: 0.0390 - accuracy: 0.9825 - val_loss: 0.0587 - val_accuracy: 0.9722 - 391ms/epoch - 43ms/step\n",
      "Epoch 13/75\n",
      "9/9 - 0s - loss: 0.0727 - accuracy: 0.9685 - val_loss: 0.3568 - val_accuracy: 0.9028 - 367ms/epoch - 41ms/step\n",
      "Epoch 14/75\n",
      "9/9 - 0s - loss: 0.0624 - accuracy: 0.9825 - val_loss: 0.0295 - val_accuracy: 0.9861 - 363ms/epoch - 40ms/step\n",
      "Epoch 15/75\n",
      "9/9 - 0s - loss: 0.0261 - accuracy: 0.9930 - val_loss: 0.2251 - val_accuracy: 0.9444 - 361ms/epoch - 40ms/step\n",
      "Epoch 16/75\n",
      "9/9 - 0s - loss: 0.0719 - accuracy: 0.9755 - val_loss: 0.0246 - val_accuracy: 0.9861 - 364ms/epoch - 40ms/step\n",
      "Epoch 17/75\n",
      "9/9 - 0s - loss: 0.0198 - accuracy: 0.9895 - val_loss: 0.1232 - val_accuracy: 0.9583 - 394ms/epoch - 44ms/step\n",
      "Epoch 18/75\n",
      "9/9 - 0s - loss: 0.0346 - accuracy: 0.9895 - val_loss: 0.0691 - val_accuracy: 0.9722 - 364ms/epoch - 40ms/step\n",
      "Epoch 19/75\n",
      "9/9 - 0s - loss: 0.0165 - accuracy: 0.9965 - val_loss: 0.0589 - val_accuracy: 0.9722 - 372ms/epoch - 41ms/step\n",
      "Epoch 20/75\n",
      "9/9 - 0s - loss: 0.0166 - accuracy: 0.9930 - val_loss: 0.0364 - val_accuracy: 0.9861 - 361ms/epoch - 40ms/step\n",
      "Epoch 21/75\n",
      "9/9 - 0s - loss: 0.0078 - accuracy: 0.9965 - val_loss: 0.0314 - val_accuracy: 0.9861 - 391ms/epoch - 43ms/step\n",
      "Epoch 22/75\n",
      "9/9 - 0s - loss: 0.0038 - accuracy: 1.0000 - val_loss: 0.0541 - val_accuracy: 0.9861 - 396ms/epoch - 44ms/step\n",
      "Epoch 23/75\n",
      "9/9 - 0s - loss: 0.0013 - accuracy: 1.0000 - val_loss: 0.0532 - val_accuracy: 0.9861 - 394ms/epoch - 44ms/step\n",
      "Epoch 24/75\n",
      "9/9 - 0s - loss: 0.0012 - accuracy: 1.0000 - val_loss: 0.0720 - val_accuracy: 0.9861 - 375ms/epoch - 42ms/step\n",
      "Epoch 25/75\n",
      "9/9 - 0s - loss: 3.0125e-04 - accuracy: 1.0000 - val_loss: 0.0751 - val_accuracy: 0.9861 - 389ms/epoch - 43ms/step\n",
      "Epoch 26/75\n",
      "9/9 - 0s - loss: 0.0013 - accuracy: 1.0000 - val_loss: 0.2592 - val_accuracy: 0.9444 - 373ms/epoch - 41ms/step\n",
      "Epoch 27/75\n",
      "9/9 - 0s - loss: 0.1451 - accuracy: 0.9650 - val_loss: 0.0398 - val_accuracy: 0.9861 - 375ms/epoch - 42ms/step\n",
      "Epoch 28/75\n",
      "9/9 - 0s - loss: 0.1035 - accuracy: 0.9580 - val_loss: 0.0425 - val_accuracy: 1.0000 - 370ms/epoch - 41ms/step\n",
      "Epoch 29/75\n",
      "9/9 - 0s - loss: 0.0682 - accuracy: 0.9755 - val_loss: 0.0599 - val_accuracy: 0.9861 - 377ms/epoch - 42ms/step\n",
      "Epoch 30/75\n",
      "9/9 - 0s - loss: 0.0817 - accuracy: 0.9790 - val_loss: 0.0412 - val_accuracy: 0.9861 - 371ms/epoch - 41ms/step\n",
      "Epoch 31/75\n",
      "9/9 - 0s - loss: 0.0378 - accuracy: 0.9860 - val_loss: 0.0762 - val_accuracy: 0.9861 - 381ms/epoch - 42ms/step\n",
      "Epoch 32/75\n",
      "9/9 - 0s - loss: 0.0089 - accuracy: 0.9965 - val_loss: 0.0713 - val_accuracy: 0.9861 - 386ms/epoch - 43ms/step\n",
      "Epoch 33/75\n",
      "9/9 - 0s - loss: 0.0050 - accuracy: 1.0000 - val_loss: 0.0898 - val_accuracy: 0.9861 - 364ms/epoch - 40ms/step\n",
      "Epoch 34/75\n",
      "9/9 - 0s - loss: 0.0075 - accuracy: 0.9965 - val_loss: 0.0615 - val_accuracy: 0.9861 - 383ms/epoch - 43ms/step\n",
      "Epoch 35/75\n",
      "9/9 - 0s - loss: 0.0525 - accuracy: 0.9860 - val_loss: 0.2009 - val_accuracy: 0.9583 - 387ms/epoch - 43ms/step\n",
      "Epoch 36/75\n",
      "9/9 - 0s - loss: 0.0065 - accuracy: 0.9965 - val_loss: 0.0706 - val_accuracy: 0.9861 - 408ms/epoch - 45ms/step\n",
      "Epoch 37/75\n",
      "9/9 - 0s - loss: 0.0168 - accuracy: 0.9965 - val_loss: 0.1523 - val_accuracy: 0.9583 - 401ms/epoch - 45ms/step\n",
      "Epoch 38/75\n",
      "9/9 - 0s - loss: 0.0150 - accuracy: 0.9895 - val_loss: 0.0840 - val_accuracy: 0.9861 - 392ms/epoch - 44ms/step\n",
      "Epoch 39/75\n",
      "9/9 - 0s - loss: 0.0061 - accuracy: 0.9965 - val_loss: 0.0694 - val_accuracy: 0.9861 - 396ms/epoch - 44ms/step\n",
      "Epoch 40/75\n",
      "9/9 - 0s - loss: 0.0032 - accuracy: 1.0000 - val_loss: 0.0844 - val_accuracy: 0.9861 - 449ms/epoch - 50ms/step\n",
      "Epoch 41/75\n",
      "9/9 - 0s - loss: 0.0012 - accuracy: 1.0000 - val_loss: 0.0898 - val_accuracy: 0.9861 - 419ms/epoch - 47ms/step\n",
      "Epoch 42/75\n",
      "9/9 - 0s - loss: 4.2374e-04 - accuracy: 1.0000 - val_loss: 0.0797 - val_accuracy: 0.9861 - 429ms/epoch - 48ms/step\n",
      "Epoch 43/75\n",
      "9/9 - 0s - loss: 3.7241e-04 - accuracy: 1.0000 - val_loss: 0.0869 - val_accuracy: 0.9861 - 425ms/epoch - 47ms/step\n",
      "Epoch 44/75\n",
      "9/9 - 0s - loss: 1.7886e-04 - accuracy: 1.0000 - val_loss: 0.0972 - val_accuracy: 0.9861 - 383ms/epoch - 43ms/step\n",
      "Epoch 45/75\n",
      "9/9 - 0s - loss: 1.6204e-04 - accuracy: 1.0000 - val_loss: 0.1054 - val_accuracy: 0.9861 - 406ms/epoch - 45ms/step\n",
      "Epoch 46/75\n",
      "9/9 - 0s - loss: 1.1142e-04 - accuracy: 1.0000 - val_loss: 0.1130 - val_accuracy: 0.9861 - 403ms/epoch - 45ms/step\n",
      "Epoch 47/75\n",
      "9/9 - 0s - loss: 7.7740e-05 - accuracy: 1.0000 - val_loss: 0.1182 - val_accuracy: 0.9861 - 402ms/epoch - 45ms/step\n",
      "Epoch 48/75\n",
      "9/9 - 0s - loss: 4.8315e-05 - accuracy: 1.0000 - val_loss: 0.1232 - val_accuracy: 0.9861 - 409ms/epoch - 45ms/step\n",
      "Epoch 49/75\n",
      "9/9 - 0s - loss: 1.8982e-05 - accuracy: 1.0000 - val_loss: 0.1274 - val_accuracy: 0.9861 - 403ms/epoch - 45ms/step\n",
      "Epoch 50/75\n",
      "9/9 - 0s - loss: 2.8637e-05 - accuracy: 1.0000 - val_loss: 0.1302 - val_accuracy: 0.9861 - 403ms/epoch - 45ms/step\n",
      "Epoch 51/75\n",
      "9/9 - 0s - loss: 2.5103e-05 - accuracy: 1.0000 - val_loss: 0.1333 - val_accuracy: 0.9861 - 377ms/epoch - 42ms/step\n",
      "Epoch 52/75\n",
      "9/9 - 0s - loss: 2.0459e-05 - accuracy: 1.0000 - val_loss: 0.1363 - val_accuracy: 0.9861 - 386ms/epoch - 43ms/step\n",
      "Epoch 53/75\n",
      "9/9 - 0s - loss: 2.5989e-05 - accuracy: 1.0000 - val_loss: 0.1395 - val_accuracy: 0.9861 - 381ms/epoch - 42ms/step\n",
      "Epoch 54/75\n",
      "9/9 - 0s - loss: 1.1155e-05 - accuracy: 1.0000 - val_loss: 0.1418 - val_accuracy: 0.9861 - 384ms/epoch - 43ms/step\n",
      "Epoch 55/75\n",
      "9/9 - 0s - loss: 9.7653e-06 - accuracy: 1.0000 - val_loss: 0.1432 - val_accuracy: 0.9861 - 428ms/epoch - 48ms/step\n",
      "Epoch 56/75\n",
      "9/9 - 0s - loss: 1.1658e-05 - accuracy: 1.0000 - val_loss: 0.1440 - val_accuracy: 0.9861 - 400ms/epoch - 44ms/step\n",
      "Epoch 57/75\n",
      "9/9 - 0s - loss: 1.2555e-05 - accuracy: 1.0000 - val_loss: 0.1440 - val_accuracy: 0.9861 - 393ms/epoch - 44ms/step\n",
      "Epoch 58/75\n",
      "9/9 - 0s - loss: 1.5764e-05 - accuracy: 1.0000 - val_loss: 0.1447 - val_accuracy: 0.9861 - 402ms/epoch - 45ms/step\n",
      "Epoch 59/75\n",
      "9/9 - 0s - loss: 9.2923e-06 - accuracy: 1.0000 - val_loss: 0.1461 - val_accuracy: 0.9861 - 397ms/epoch - 44ms/step\n",
      "Epoch 60/75\n",
      "9/9 - 0s - loss: 1.2100e-05 - accuracy: 1.0000 - val_loss: 0.1488 - val_accuracy: 0.9861 - 399ms/epoch - 44ms/step\n",
      "Epoch 61/75\n",
      "9/9 - 0s - loss: 1.1393e-05 - accuracy: 1.0000 - val_loss: 0.1508 - val_accuracy: 0.9861 - 387ms/epoch - 43ms/step\n",
      "Epoch 62/75\n",
      "9/9 - 0s - loss: 8.5350e-06 - accuracy: 1.0000 - val_loss: 0.1530 - val_accuracy: 0.9861 - 408ms/epoch - 45ms/step\n",
      "Epoch 63/75\n",
      "9/9 - 0s - loss: 5.5896e-06 - accuracy: 1.0000 - val_loss: 0.1564 - val_accuracy: 0.9861 - 398ms/epoch - 44ms/step\n",
      "Epoch 64/75\n",
      "9/9 - 0s - loss: 6.8393e-06 - accuracy: 1.0000 - val_loss: 0.1581 - val_accuracy: 0.9861 - 403ms/epoch - 45ms/step\n",
      "Epoch 65/75\n",
      "9/9 - 0s - loss: 8.8954e-06 - accuracy: 1.0000 - val_loss: 0.1581 - val_accuracy: 0.9861 - 425ms/epoch - 47ms/step\n",
      "Epoch 66/75\n",
      "9/9 - 0s - loss: 4.3766e-06 - accuracy: 1.0000 - val_loss: 0.1586 - val_accuracy: 0.9861 - 415ms/epoch - 46ms/step\n"
     ]
    },
    {
     "name": "stdout",
     "output_type": "stream",
     "text": [
      "Epoch 67/75\n",
      "9/9 - 0s - loss: 5.9480e-06 - accuracy: 1.0000 - val_loss: 0.1594 - val_accuracy: 0.9861 - 431ms/epoch - 48ms/step\n",
      "Epoch 68/75\n",
      "9/9 - 0s - loss: 3.0571e-06 - accuracy: 1.0000 - val_loss: 0.1604 - val_accuracy: 0.9861 - 436ms/epoch - 48ms/step\n",
      "Epoch 69/75\n",
      "9/9 - 0s - loss: 1.5238e-06 - accuracy: 1.0000 - val_loss: 0.1616 - val_accuracy: 0.9861 - 498ms/epoch - 55ms/step\n",
      "Epoch 70/75\n",
      "9/9 - 0s - loss: 3.9353e-06 - accuracy: 1.0000 - val_loss: 0.1636 - val_accuracy: 0.9861 - 400ms/epoch - 44ms/step\n",
      "Epoch 71/75\n",
      "9/9 - 0s - loss: 7.6832e-06 - accuracy: 1.0000 - val_loss: 0.1635 - val_accuracy: 0.9861 - 405ms/epoch - 45ms/step\n",
      "Epoch 72/75\n",
      "9/9 - 0s - loss: 3.6214e-06 - accuracy: 1.0000 - val_loss: 0.1658 - val_accuracy: 0.9861 - 412ms/epoch - 46ms/step\n",
      "Epoch 73/75\n",
      "9/9 - 0s - loss: 2.7759e-06 - accuracy: 1.0000 - val_loss: 0.1683 - val_accuracy: 0.9861 - 408ms/epoch - 45ms/step\n",
      "Epoch 74/75\n",
      "9/9 - 0s - loss: 5.8437e-06 - accuracy: 1.0000 - val_loss: 0.1695 - val_accuracy: 0.9861 - 398ms/epoch - 44ms/step\n",
      "Epoch 75/75\n",
      "9/9 - 0s - loss: 3.5170e-06 - accuracy: 1.0000 - val_loss: 0.1732 - val_accuracy: 0.9861 - 396ms/epoch - 44ms/step\n"
     ]
    },
    {
     "data": {
      "text/plain": [
       "<keras.callbacks.History at 0x125733400d0>"
      ]
     },
     "execution_count": 10,
     "metadata": {},
     "output_type": "execute_result"
    }
   ],
   "source": [
    "#neural networks for dermatology = df3\n",
    "total_length=len(df3)\n",
    "train_length=int(0.8*total_length)\n",
    "test_length=int(0.2*total_length)\n",
    "\n",
    "x3_normalized=normalize(x3,axis=0)\n",
    "x_train37=x3_normalized[:train_length]\n",
    "x_test37=x3_normalized[train_length:]\n",
    "y_train37=y3[:train_length]\n",
    "y_test37=y3[train_length:]\n",
    "\n",
    "y_train37copy = y_train37\n",
    "y_train37copy=[d[i] for i in y_train37copy]\n",
    "y_test37copy = y_test37\n",
    "y_test37copy=[d[i] for i in y_test37copy]\n",
    "y_train37copy=np_utils.to_categorical(y_train37copy,num_classes=6)\n",
    "y_test37copy=np_utils.to_categorical(y_test37copy,num_classes=6)\n",
    "\n",
    "model37=Sequential()\n",
    "model37.add(Dense(2000,input_dim=34,activation='relu'))\n",
    "model37.add(Dense(1500,activation='relu'))\n",
    "model37.add(Dense(1000,activation='relu'))\n",
    "model37.add(Dense(800,activation='relu'))\n",
    "model37.add(Dense(500,activation='relu'))\n",
    "model37.add(Dense(300,activation='relu'))\n",
    "model37.add(Dropout(0.2))\n",
    "model37.add(Dense(6,activation='softmax'))\n",
    "model37.compile(loss='categorical_crossentropy',optimizer='adam',metrics=['accuracy'])\n",
    "model37.fit(x_train37,y_train37copy,validation_data=(x_test37,y_test37copy),batch_size=32,epochs=75,verbose=2)"
   ]
  },
  {
   "cell_type": "code",
   "execution_count": 11,
   "id": "b20543f2",
   "metadata": {},
   "outputs": [
    {
     "name": "stdout",
     "output_type": "stream",
     "text": [
      "Accuracy : 98.61111111111111\n"
     ]
    }
   ],
   "source": [
    "prediction=model37.predict(x_test37)\n",
    "length=len(prediction)\n",
    "y_label=np.argmax(y_test37copy,axis=1)\n",
    "predict_label=np.argmax(prediction,axis=1)\n",
    "\n",
    "accuracy=np.sum(y_label==predict_label)/length * 100 \n",
    "print(\"Accuracy :\",accuracy )"
   ]
  },
  {
   "cell_type": "code",
   "execution_count": null,
   "id": "074ef5a2",
   "metadata": {},
   "outputs": [],
   "source": []
  }
 ],
 "metadata": {
  "kernelspec": {
   "display_name": "Python 3 (ipykernel)",
   "language": "python",
   "name": "python3"
  },
  "language_info": {
   "codemirror_mode": {
    "name": "ipython",
    "version": 3
   },
   "file_extension": ".py",
   "mimetype": "text/x-python",
   "name": "python",
   "nbconvert_exporter": "python",
   "pygments_lexer": "ipython3",
   "version": "3.10.4"
  }
 },
 "nbformat": 4,
 "nbformat_minor": 5
}
