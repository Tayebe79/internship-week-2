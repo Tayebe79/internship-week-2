{
 "cells": [
  {
   "cell_type": "code",
   "execution_count": 1,
   "id": "d2bc165f",
   "metadata": {},
   "outputs": [],
   "source": [
    "import pandas as pd\n",
    "import numpy as np\n",
    "from sklearn.linear_model import LinearRegression\n",
    "from sklearn.preprocessing import PolynomialFeatures\n",
    "from sklearn.model_selection import train_test_split\n",
    "from sklearn.metrics import accuracy_score,confusion_matrix\n",
    "from sklearn.metrics import precision_score, recall_score, f1_score, accuracy_score\n",
    "import matplotlib.pyplot as plt\n",
    "\n",
    "csv_file6 = 'datasetsForReport2/glass.csv'\n",
    "\n",
    "df6 = pd.read_csv(csv_file6)"
   ]
  },
  {
   "cell_type": "code",
   "execution_count": 2,
   "id": "abbbbd12",
   "metadata": {},
   "outputs": [],
   "source": [
    "x6=df6.iloc[:,:9]\n",
    "y6=df6.iloc[:,9]\n",
    "x_train6,x_test6,y_train6,y_test6=train_test_split(x6,y6,random_state=0)"
   ]
  },
  {
   "cell_type": "code",
   "execution_count": 3,
   "id": "f5915959",
   "metadata": {},
   "outputs": [
    {
     "name": "stdout",
     "output_type": "stream",
     "text": [
      "Accuracy: 0.66667\n"
     ]
    },
    {
     "name": "stderr",
     "output_type": "stream",
     "text": [
      "C:\\Users\\asus\\AppData\\Local\\Programs\\Python\\Python310\\lib\\site-packages\\sklearn\\linear_model\\_logistic.py:444: ConvergenceWarning: lbfgs failed to converge (status=1):\n",
      "STOP: TOTAL NO. of ITERATIONS REACHED LIMIT.\n",
      "\n",
      "Increase the number of iterations (max_iter) or scale the data as shown in:\n",
      "    https://scikit-learn.org/stable/modules/preprocessing.html\n",
      "Please also refer to the documentation for alternative solver options:\n",
      "    https://scikit-learn.org/stable/modules/linear_model.html#logistic-regression\n",
      "  n_iter_i = _check_optimize_result(\n"
     ]
    }
   ],
   "source": [
    "#Logistic Regression for glass = df6\n",
    "from sklearn.linear_model import LogisticRegression\n",
    "model61=LogisticRegression()\n",
    "model61.fit(x_train6,y_train6)\n",
    "y_pred61=model61.predict(x_test6)\n",
    "print('Accuracy: %.5f' % accuracy_score(y_test6, y_pred61))"
   ]
  },
  {
   "cell_type": "code",
   "execution_count": 4,
   "id": "1efd0a09",
   "metadata": {},
   "outputs": [
    {
     "name": "stdout",
     "output_type": "stream",
     "text": [
      "Accuracy: 0.87037\n"
     ]
    }
   ],
   "source": [
    "#Random forest for glass = df6\n",
    "from sklearn.ensemble import RandomForestClassifier \n",
    "model62= RandomForestClassifier(random_state = 100)\n",
    "model62= RandomForestClassifier(random_state = 100)\n",
    "model62.fit(x_train6,y_train6)\n",
    "y_pred62=model62.predict(x_test6)\n",
    "print('Accuracy: %.5f' % accuracy_score(y_test6, y_pred62))"
   ]
  },
  {
   "cell_type": "code",
   "execution_count": 5,
   "id": "ca01b513",
   "metadata": {},
   "outputs": [
    {
     "name": "stdout",
     "output_type": "stream",
     "text": [
      "Accuracy: 0.42593\n"
     ]
    }
   ],
   "source": [
    "#SVG for glass = df6\n",
    "from sklearn.svm import SVC\n",
    "model63=SVC()\n",
    "model63.fit(x_train6,y_train6)\n",
    "y_pred63=model63.predict(x_test6)\n",
    "print('Accuracy: %.5f' % accuracy_score(y_test6, y_pred63))"
   ]
  },
  {
   "cell_type": "code",
   "execution_count": 6,
   "id": "0636df28",
   "metadata": {},
   "outputs": [
    {
     "name": "stdout",
     "output_type": "stream",
     "text": [
      "The accuracy for optimal k = 3 using brute is 72.22222222222221\n"
     ]
    }
   ],
   "source": [
    "#KNN for glass = df6\n",
    "from sklearn.neighbors import KNeighborsClassifier\n",
    "from sklearn.model_selection import cross_val_score\n",
    "cv_scores = []\n",
    "neighbors = list(np.arange(3,50,2))\n",
    "for n in neighbors:\n",
    "    knn = KNeighborsClassifier(n_neighbors = n,algorithm = 'brute')\n",
    "    \n",
    "    cross_val = cross_val_score(knn,x_train6,y_train6,cv = 5 , scoring = 'accuracy')\n",
    "    cv_scores.append(cross_val.mean())\n",
    "    \n",
    "error = [1-x for x in cv_scores]\n",
    "optimal_n = neighbors[ error.index(min(error)) ]\n",
    "knn_optimal = KNeighborsClassifier(n_neighbors = optimal_n,algorithm = 'brute')\n",
    "knn_optimal.fit(x_train6,y_train6)\n",
    "y_pred64 = knn_optimal.predict(x_test6)\n",
    "acc = accuracy_score(y_test6,y_pred64)*100\n",
    "print(\"The accuracy for optimal k = {0} using brute is {1}\".format(optimal_n,acc))"
   ]
  },
  {
   "cell_type": "code",
   "execution_count": 7,
   "id": "9fc84627",
   "metadata": {},
   "outputs": [
    {
     "name": "stdout",
     "output_type": "stream",
     "text": [
      "Accuracy: 0.68519\n"
     ]
    }
   ],
   "source": [
    "#Decision tree for glass = df6\n",
    "from sklearn.tree import DecisionTreeClassifier\n",
    "model65 = DecisionTreeClassifier()\n",
    "model65.fit(x_train6,y_train6)\n",
    "y_pred65=model65.predict(x_test6)\n",
    "print('Accuracy: %.5f' % accuracy_score(y_test6, y_pred65))"
   ]
  },
  {
   "cell_type": "code",
   "execution_count": 8,
   "id": "e4f16cf8",
   "metadata": {},
   "outputs": [
    {
     "name": "stdout",
     "output_type": "stream",
     "text": [
      "Accuracy: 0.87037\n"
     ]
    }
   ],
   "source": [
    "#xgboost for glass = df6\n",
    "from numpy import loadtxt\n",
    "from xgboost import XGBClassifier\n",
    "model66 = XGBClassifier()\n",
    "\n",
    "y_train6copy = y_train6\n",
    "d = {\"'build wind float'\":0, \"'vehic wind float'\":1, 'tableware':2, \"'build wind non-float'\":3, 'headlamps':4,\n",
    "    'containers':5}\n",
    "y_train6copy=[d[i] for i in y_train6copy]\n",
    "y_test6copy = y_test6\n",
    "y_test6copy=[d[i] for i in y_test6copy]\n",
    "\n",
    "model66.fit(x_train6,y_train6copy)\n",
    "y_pred66=model66.predict(x_test6)\n",
    "print('Accuracy: %.5f' % accuracy_score(y_test6copy, y_pred66))"
   ]
  },
  {
   "cell_type": "code",
   "execution_count": 9,
   "id": "03a3e84e",
   "metadata": {},
   "outputs": [],
   "source": [
    "import keras\n",
    "import seaborn as sns\n",
    "from sklearn.preprocessing import normalize\n",
    "\n",
    "from keras.models import Sequential \n",
    "from keras.layers import Dense,Activation,Dropout \n",
    "from tensorflow.keras.layers import BatchNormalization\n",
    "from keras.utils import np_utils"
   ]
  },
  {
   "cell_type": "code",
   "execution_count": 10,
   "id": "059620ce",
   "metadata": {},
   "outputs": [
    {
     "name": "stdout",
     "output_type": "stream",
     "text": [
      "Epoch 1/75\n",
      "6/6 - 1s - loss: 1.7209 - accuracy: 0.3041 - val_loss: 1.5965 - val_accuracy: 0.3256 - 868ms/epoch - 145ms/step\n",
      "Epoch 2/75\n",
      "6/6 - 0s - loss: 1.4767 - accuracy: 0.3626 - val_loss: 1.4696 - val_accuracy: 0.3488 - 242ms/epoch - 40ms/step\n",
      "Epoch 3/75\n",
      "6/6 - 0s - loss: 1.3409 - accuracy: 0.4561 - val_loss: 1.3854 - val_accuracy: 0.4419 - 237ms/epoch - 39ms/step\n",
      "Epoch 4/75\n",
      "6/6 - 0s - loss: 1.2634 - accuracy: 0.3918 - val_loss: 1.2212 - val_accuracy: 0.4651 - 239ms/epoch - 40ms/step\n",
      "Epoch 5/75\n",
      "6/6 - 0s - loss: 1.2022 - accuracy: 0.4795 - val_loss: 1.1885 - val_accuracy: 0.4419 - 248ms/epoch - 41ms/step\n",
      "Epoch 6/75\n",
      "6/6 - 0s - loss: 1.1402 - accuracy: 0.4678 - val_loss: 1.1655 - val_accuracy: 0.4651 - 239ms/epoch - 40ms/step\n",
      "Epoch 7/75\n",
      "6/6 - 0s - loss: 1.0698 - accuracy: 0.5146 - val_loss: 1.3044 - val_accuracy: 0.3721 - 272ms/epoch - 45ms/step\n",
      "Epoch 8/75\n",
      "6/6 - 0s - loss: 1.1031 - accuracy: 0.5556 - val_loss: 1.1364 - val_accuracy: 0.4419 - 259ms/epoch - 43ms/step\n",
      "Epoch 9/75\n",
      "6/6 - 0s - loss: 1.0756 - accuracy: 0.5029 - val_loss: 1.1612 - val_accuracy: 0.4651 - 262ms/epoch - 44ms/step\n",
      "Epoch 10/75\n",
      "6/6 - 0s - loss: 1.1111 - accuracy: 0.5205 - val_loss: 1.1069 - val_accuracy: 0.5116 - 259ms/epoch - 43ms/step\n",
      "Epoch 11/75\n",
      "6/6 - 0s - loss: 1.0754 - accuracy: 0.5088 - val_loss: 1.1424 - val_accuracy: 0.4419 - 256ms/epoch - 43ms/step\n",
      "Epoch 12/75\n",
      "6/6 - 0s - loss: 0.9803 - accuracy: 0.5497 - val_loss: 1.0970 - val_accuracy: 0.4651 - 257ms/epoch - 43ms/step\n",
      "Epoch 13/75\n",
      "6/6 - 0s - loss: 0.9333 - accuracy: 0.5906 - val_loss: 1.0725 - val_accuracy: 0.5116 - 244ms/epoch - 41ms/step\n",
      "Epoch 14/75\n",
      "6/6 - 0s - loss: 0.9814 - accuracy: 0.5906 - val_loss: 1.4158 - val_accuracy: 0.4419 - 246ms/epoch - 41ms/step\n",
      "Epoch 15/75\n",
      "6/6 - 0s - loss: 1.3365 - accuracy: 0.4795 - val_loss: 1.2378 - val_accuracy: 0.4419 - 253ms/epoch - 42ms/step\n",
      "Epoch 16/75\n",
      "6/6 - 0s - loss: 1.1606 - accuracy: 0.5088 - val_loss: 1.2291 - val_accuracy: 0.4419 - 264ms/epoch - 44ms/step\n",
      "Epoch 17/75\n",
      "6/6 - 0s - loss: 1.0994 - accuracy: 0.5029 - val_loss: 1.1720 - val_accuracy: 0.4419 - 258ms/epoch - 43ms/step\n",
      "Epoch 18/75\n",
      "6/6 - 0s - loss: 1.0336 - accuracy: 0.4971 - val_loss: 1.1476 - val_accuracy: 0.4419 - 259ms/epoch - 43ms/step\n",
      "Epoch 19/75\n",
      "6/6 - 0s - loss: 1.0408 - accuracy: 0.4912 - val_loss: 1.1207 - val_accuracy: 0.4419 - 274ms/epoch - 46ms/step\n",
      "Epoch 20/75\n",
      "6/6 - 0s - loss: 1.0092 - accuracy: 0.4912 - val_loss: 1.1530 - val_accuracy: 0.4419 - 270ms/epoch - 45ms/step\n",
      "Epoch 21/75\n",
      "6/6 - 0s - loss: 0.9933 - accuracy: 0.4854 - val_loss: 1.1252 - val_accuracy: 0.4884 - 256ms/epoch - 43ms/step\n",
      "Epoch 22/75\n",
      "6/6 - 0s - loss: 0.9839 - accuracy: 0.5497 - val_loss: 1.1117 - val_accuracy: 0.4651 - 253ms/epoch - 42ms/step\n",
      "Epoch 23/75\n",
      "6/6 - 0s - loss: 0.9419 - accuracy: 0.5731 - val_loss: 1.1088 - val_accuracy: 0.6047 - 264ms/epoch - 44ms/step\n",
      "Epoch 24/75\n",
      "6/6 - 0s - loss: 0.9325 - accuracy: 0.5497 - val_loss: 1.2688 - val_accuracy: 0.4419 - 267ms/epoch - 45ms/step\n",
      "Epoch 25/75\n",
      "6/6 - 0s - loss: 0.8944 - accuracy: 0.5848 - val_loss: 1.1822 - val_accuracy: 0.4884 - 263ms/epoch - 44ms/step\n",
      "Epoch 26/75\n",
      "6/6 - 0s - loss: 0.9333 - accuracy: 0.5380 - val_loss: 1.2195 - val_accuracy: 0.4884 - 293ms/epoch - 49ms/step\n",
      "Epoch 27/75\n",
      "6/6 - 0s - loss: 0.9754 - accuracy: 0.5673 - val_loss: 1.3849 - val_accuracy: 0.3953 - 279ms/epoch - 46ms/step\n",
      "Epoch 28/75\n",
      "6/6 - 0s - loss: 0.8955 - accuracy: 0.5322 - val_loss: 1.2753 - val_accuracy: 0.4186 - 257ms/epoch - 43ms/step\n",
      "Epoch 29/75\n",
      "6/6 - 0s - loss: 0.8881 - accuracy: 0.5322 - val_loss: 1.1515 - val_accuracy: 0.5349 - 269ms/epoch - 45ms/step\n",
      "Epoch 30/75\n",
      "6/6 - 0s - loss: 0.8859 - accuracy: 0.5439 - val_loss: 1.2410 - val_accuracy: 0.5116 - 259ms/epoch - 43ms/step\n",
      "Epoch 31/75\n",
      "6/6 - 0s - loss: 0.8871 - accuracy: 0.5906 - val_loss: 1.1499 - val_accuracy: 0.5116 - 262ms/epoch - 44ms/step\n",
      "Epoch 32/75\n",
      "6/6 - 0s - loss: 0.9234 - accuracy: 0.5673 - val_loss: 1.1054 - val_accuracy: 0.5581 - 269ms/epoch - 45ms/step\n",
      "Epoch 33/75\n",
      "6/6 - 0s - loss: 0.8987 - accuracy: 0.5380 - val_loss: 1.1684 - val_accuracy: 0.5581 - 275ms/epoch - 46ms/step\n",
      "Epoch 34/75\n",
      "6/6 - 0s - loss: 0.8871 - accuracy: 0.6023 - val_loss: 1.0841 - val_accuracy: 0.4884 - 265ms/epoch - 44ms/step\n",
      "Epoch 35/75\n",
      "6/6 - 0s - loss: 0.8720 - accuracy: 0.6374 - val_loss: 1.0792 - val_accuracy: 0.4884 - 281ms/epoch - 47ms/step\n",
      "Epoch 36/75\n",
      "6/6 - 0s - loss: 0.8539 - accuracy: 0.6257 - val_loss: 1.1663 - val_accuracy: 0.4419 - 280ms/epoch - 47ms/step\n",
      "Epoch 37/75\n",
      "6/6 - 0s - loss: 0.8948 - accuracy: 0.5673 - val_loss: 1.1265 - val_accuracy: 0.5116 - 270ms/epoch - 45ms/step\n",
      "Epoch 38/75\n",
      "6/6 - 0s - loss: 0.8723 - accuracy: 0.5848 - val_loss: 1.1613 - val_accuracy: 0.4651 - 261ms/epoch - 43ms/step\n",
      "Epoch 39/75\n",
      "6/6 - 0s - loss: 0.9234 - accuracy: 0.5965 - val_loss: 1.0935 - val_accuracy: 0.4884 - 268ms/epoch - 45ms/step\n",
      "Epoch 40/75\n",
      "6/6 - 0s - loss: 0.8708 - accuracy: 0.5673 - val_loss: 1.1373 - val_accuracy: 0.4884 - 274ms/epoch - 46ms/step\n",
      "Epoch 41/75\n",
      "6/6 - 0s - loss: 0.8500 - accuracy: 0.5789 - val_loss: 1.1076 - val_accuracy: 0.6047 - 354ms/epoch - 59ms/step\n",
      "Epoch 42/75\n",
      "6/6 - 0s - loss: 0.8343 - accuracy: 0.6140 - val_loss: 1.1951 - val_accuracy: 0.4884 - 304ms/epoch - 51ms/step\n",
      "Epoch 43/75\n",
      "6/6 - 0s - loss: 0.9145 - accuracy: 0.5848 - val_loss: 1.0780 - val_accuracy: 0.5349 - 281ms/epoch - 47ms/step\n",
      "Epoch 44/75\n",
      "6/6 - 0s - loss: 0.8783 - accuracy: 0.6608 - val_loss: 1.0966 - val_accuracy: 0.5349 - 296ms/epoch - 49ms/step\n",
      "Epoch 45/75\n",
      "6/6 - 0s - loss: 0.8768 - accuracy: 0.5789 - val_loss: 1.1177 - val_accuracy: 0.4884 - 279ms/epoch - 47ms/step\n",
      "Epoch 46/75\n",
      "6/6 - 0s - loss: 0.8458 - accuracy: 0.5673 - val_loss: 1.1415 - val_accuracy: 0.4651 - 265ms/epoch - 44ms/step\n",
      "Epoch 47/75\n",
      "6/6 - 0s - loss: 0.8624 - accuracy: 0.5848 - val_loss: 1.1532 - val_accuracy: 0.5116 - 274ms/epoch - 46ms/step\n",
      "Epoch 48/75\n",
      "6/6 - 0s - loss: 0.8301 - accuracy: 0.6023 - val_loss: 1.1617 - val_accuracy: 0.5116 - 271ms/epoch - 45ms/step\n",
      "Epoch 49/75\n",
      "6/6 - 0s - loss: 0.7975 - accuracy: 0.6433 - val_loss: 1.1251 - val_accuracy: 0.4884 - 275ms/epoch - 46ms/step\n",
      "Epoch 50/75\n",
      "6/6 - 0s - loss: 0.7925 - accuracy: 0.6491 - val_loss: 1.0840 - val_accuracy: 0.6047 - 284ms/epoch - 47ms/step\n",
      "Epoch 51/75\n",
      "6/6 - 0s - loss: 0.7582 - accuracy: 0.6374 - val_loss: 1.0649 - val_accuracy: 0.5581 - 320ms/epoch - 53ms/step\n",
      "Epoch 52/75\n",
      "6/6 - 0s - loss: 0.7904 - accuracy: 0.6023 - val_loss: 1.0842 - val_accuracy: 0.5581 - 282ms/epoch - 47ms/step\n",
      "Epoch 53/75\n",
      "6/6 - 0s - loss: 0.7982 - accuracy: 0.6023 - val_loss: 1.1849 - val_accuracy: 0.5581 - 277ms/epoch - 46ms/step\n",
      "Epoch 54/75\n",
      "6/6 - 0s - loss: 0.7894 - accuracy: 0.6550 - val_loss: 1.1267 - val_accuracy: 0.5349 - 278ms/epoch - 46ms/step\n",
      "Epoch 55/75\n",
      "6/6 - 0s - loss: 0.8071 - accuracy: 0.6725 - val_loss: 1.1288 - val_accuracy: 0.6512 - 271ms/epoch - 45ms/step\n",
      "Epoch 56/75\n",
      "6/6 - 0s - loss: 0.8070 - accuracy: 0.5965 - val_loss: 1.2672 - val_accuracy: 0.4884 - 275ms/epoch - 46ms/step\n",
      "Epoch 57/75\n",
      "6/6 - 0s - loss: 0.8712 - accuracy: 0.5789 - val_loss: 1.2245 - val_accuracy: 0.4884 - 269ms/epoch - 45ms/step\n",
      "Epoch 58/75\n",
      "6/6 - 0s - loss: 0.8762 - accuracy: 0.5789 - val_loss: 1.1893 - val_accuracy: 0.5581 - 282ms/epoch - 47ms/step\n",
      "Epoch 59/75\n",
      "6/6 - 0s - loss: 0.8310 - accuracy: 0.6433 - val_loss: 1.4209 - val_accuracy: 0.6744 - 297ms/epoch - 50ms/step\n",
      "Epoch 60/75\n",
      "6/6 - 0s - loss: 0.9753 - accuracy: 0.6550 - val_loss: 1.1308 - val_accuracy: 0.6047 - 280ms/epoch - 47ms/step\n",
      "Epoch 61/75\n",
      "6/6 - 0s - loss: 0.8144 - accuracy: 0.6550 - val_loss: 1.0323 - val_accuracy: 0.6047 - 277ms/epoch - 46ms/step\n",
      "Epoch 62/75\n",
      "6/6 - 0s - loss: 0.8059 - accuracy: 0.6257 - val_loss: 1.1851 - val_accuracy: 0.4884 - 286ms/epoch - 48ms/step\n",
      "Epoch 63/75\n",
      "6/6 - 0s - loss: 0.8459 - accuracy: 0.5673 - val_loss: 1.0101 - val_accuracy: 0.5116 - 294ms/epoch - 49ms/step\n",
      "Epoch 64/75\n",
      "6/6 - 0s - loss: 0.8228 - accuracy: 0.6257 - val_loss: 1.1282 - val_accuracy: 0.5581 - 278ms/epoch - 46ms/step\n",
      "Epoch 65/75\n",
      "6/6 - 0s - loss: 0.8661 - accuracy: 0.6082 - val_loss: 1.0132 - val_accuracy: 0.6512 - 273ms/epoch - 45ms/step\n",
      "Epoch 66/75\n",
      "6/6 - 0s - loss: 0.8779 - accuracy: 0.5848 - val_loss: 1.0004 - val_accuracy: 0.6279 - 286ms/epoch - 48ms/step\n",
      "Epoch 67/75\n",
      "6/6 - 0s - loss: 0.7939 - accuracy: 0.6374 - val_loss: 1.0669 - val_accuracy: 0.5349 - 287ms/epoch - 48ms/step\n"
     ]
    },
    {
     "name": "stdout",
     "output_type": "stream",
     "text": [
      "Epoch 68/75\n",
      "6/6 - 0s - loss: 0.8369 - accuracy: 0.6199 - val_loss: 1.0808 - val_accuracy: 0.5581 - 309ms/epoch - 51ms/step\n",
      "Epoch 69/75\n",
      "6/6 - 0s - loss: 0.8020 - accuracy: 0.6550 - val_loss: 1.1291 - val_accuracy: 0.6279 - 283ms/epoch - 47ms/step\n",
      "Epoch 70/75\n",
      "6/6 - 0s - loss: 0.7614 - accuracy: 0.6433 - val_loss: 1.0822 - val_accuracy: 0.4884 - 279ms/epoch - 46ms/step\n",
      "Epoch 71/75\n",
      "6/6 - 0s - loss: 0.8762 - accuracy: 0.5848 - val_loss: 1.0075 - val_accuracy: 0.5814 - 290ms/epoch - 48ms/step\n",
      "Epoch 72/75\n",
      "6/6 - 0s - loss: 0.8382 - accuracy: 0.5439 - val_loss: 1.0014 - val_accuracy: 0.5581 - 279ms/epoch - 47ms/step\n",
      "Epoch 73/75\n",
      "6/6 - 0s - loss: 0.7972 - accuracy: 0.6023 - val_loss: 1.0395 - val_accuracy: 0.5581 - 309ms/epoch - 51ms/step\n",
      "Epoch 74/75\n",
      "6/6 - 0s - loss: 0.7614 - accuracy: 0.6491 - val_loss: 1.0914 - val_accuracy: 0.7209 - 277ms/epoch - 46ms/step\n",
      "Epoch 75/75\n",
      "6/6 - 0s - loss: 0.6957 - accuracy: 0.7251 - val_loss: 1.0756 - val_accuracy: 0.7674 - 315ms/epoch - 52ms/step\n"
     ]
    },
    {
     "data": {
      "text/plain": [
       "<keras.callbacks.History at 0x173123ef970>"
      ]
     },
     "execution_count": 10,
     "metadata": {},
     "output_type": "execute_result"
    }
   ],
   "source": [
    "#neural networks for glass = df6\n",
    "total_length=len(df6)\n",
    "train_length=int(0.8*total_length)\n",
    "test_length=int(0.2*total_length)\n",
    "\n",
    "x6_normalized=normalize(x6,axis=0)\n",
    "x_train67=x6_normalized[:train_length]\n",
    "x_test67=x6_normalized[train_length:]\n",
    "y_train67=y6[:train_length]\n",
    "y_test67=y6[train_length:]\n",
    "\n",
    "y_train67copy = y_train67\n",
    "#d = {\"'build wind float'\":0, \"'vehic wind float'\":1, 'tableware':2, \"'build wind non-float'\":3, 'headlamps':4,\n",
    "#    'containers':5}\n",
    "y_train67copy=[d[i] for i in y_train67copy]\n",
    "y_test67copy = y_test67\n",
    "y_test67copy=[d[i] for i in y_test67copy]\n",
    "y_train67copy=np_utils.to_categorical(y_train67copy,num_classes=6)\n",
    "y_test67copy=np_utils.to_categorical(y_test67copy,num_classes=6)\n",
    "\n",
    "model67=Sequential()\n",
    "model67.add(Dense(2000,input_dim=9,activation='relu'))\n",
    "model67.add(Dense(1500,activation='relu'))\n",
    "model67.add(Dense(1000,activation='relu'))\n",
    "model67.add(Dense(800,activation='relu'))\n",
    "model67.add(Dense(500,activation='relu'))\n",
    "model67.add(Dense(300,activation='relu'))\n",
    "model67.add(Dropout(0.2))\n",
    "model67.add(Dense(6,activation='softmax'))\n",
    "model67.compile(loss='categorical_crossentropy',optimizer='adam',metrics=['accuracy'])\n",
    "model67.fit(x_train67,y_train67copy,validation_data=(x_test67,y_test67copy),batch_size=32,epochs=75,verbose=2)"
   ]
  },
  {
   "cell_type": "code",
   "execution_count": 11,
   "id": "0ab3710a",
   "metadata": {},
   "outputs": [
    {
     "name": "stdout",
     "output_type": "stream",
     "text": [
      "Accuracy : 76.74418604651163\n"
     ]
    }
   ],
   "source": [
    "prediction=model67.predict(x_test67)\n",
    "length=len(prediction)\n",
    "y_label=np.argmax(y_test67copy,axis=1)\n",
    "predict_label=np.argmax(prediction,axis=1)\n",
    "\n",
    "accuracy=np.sum(y_label==predict_label)/length * 100 \n",
    "print(\"Accuracy :\",accuracy )"
   ]
  },
  {
   "cell_type": "code",
   "execution_count": null,
   "id": "9a874e12",
   "metadata": {},
   "outputs": [],
   "source": []
  }
 ],
 "metadata": {
  "kernelspec": {
   "display_name": "Python 3 (ipykernel)",
   "language": "python",
   "name": "python3"
  },
  "language_info": {
   "codemirror_mode": {
    "name": "ipython",
    "version": 3
   },
   "file_extension": ".py",
   "mimetype": "text/x-python",
   "name": "python",
   "nbconvert_exporter": "python",
   "pygments_lexer": "ipython3",
   "version": "3.10.4"
  }
 },
 "nbformat": 4,
 "nbformat_minor": 5
}
