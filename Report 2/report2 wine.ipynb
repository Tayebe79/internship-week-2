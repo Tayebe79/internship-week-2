{
 "cells": [
  {
   "cell_type": "code",
   "execution_count": 1,
   "id": "d4a269ad",
   "metadata": {},
   "outputs": [],
   "source": [
    "import pandas as pd\n",
    "import numpy as np\n",
    "from sklearn.linear_model import LinearRegression\n",
    "from sklearn.preprocessing import PolynomialFeatures\n",
    "from sklearn.model_selection import train_test_split\n",
    "from sklearn.metrics import accuracy_score,confusion_matrix\n",
    "from sklearn.metrics import precision_score, recall_score, f1_score, accuracy_score\n",
    "import matplotlib.pyplot as plt\n",
    "\n",
    "csv_file10 = 'datasetsForReport2/wine.csv'\n",
    "\n",
    "df0 = pd.read_csv(csv_file10)"
   ]
  },
  {
   "cell_type": "code",
   "execution_count": 2,
   "id": "a35a10c2",
   "metadata": {},
   "outputs": [],
   "source": [
    "first_column = df0.pop('class')\n",
    "df0.insert(13, 'class', first_column)"
   ]
  },
  {
   "cell_type": "code",
   "execution_count": 3,
   "id": "1129af7d",
   "metadata": {},
   "outputs": [],
   "source": [
    "x0=df0.iloc[:,:13]\n",
    "y0=df0.iloc[:,13]\n",
    "x_train0,x_test0,y_train0,y_test0=train_test_split(x0,y0,random_state=0)"
   ]
  },
  {
   "cell_type": "code",
   "execution_count": 4,
   "id": "1d9ed3ca",
   "metadata": {},
   "outputs": [
    {
     "name": "stdout",
     "output_type": "stream",
     "text": [
      "Accuracy: 0.93333\n"
     ]
    },
    {
     "name": "stderr",
     "output_type": "stream",
     "text": [
      "C:\\Users\\asus\\AppData\\Local\\Programs\\Python\\Python310\\lib\\site-packages\\sklearn\\linear_model\\_logistic.py:444: ConvergenceWarning: lbfgs failed to converge (status=1):\n",
      "STOP: TOTAL NO. of ITERATIONS REACHED LIMIT.\n",
      "\n",
      "Increase the number of iterations (max_iter) or scale the data as shown in:\n",
      "    https://scikit-learn.org/stable/modules/preprocessing.html\n",
      "Please also refer to the documentation for alternative solver options:\n",
      "    https://scikit-learn.org/stable/modules/linear_model.html#logistic-regression\n",
      "  n_iter_i = _check_optimize_result(\n"
     ]
    }
   ],
   "source": [
    "#Logistic Regression for wine = df0\n",
    "from sklearn.linear_model import LogisticRegression\n",
    "model01=LogisticRegression()\n",
    "model01.fit(x_train0,y_train0)\n",
    "y_pred01=model01.predict(x_test0)\n",
    "print('Accuracy: %.5f' % accuracy_score(y_test0, y_pred01))"
   ]
  },
  {
   "cell_type": "code",
   "execution_count": 5,
   "id": "672b402b",
   "metadata": {},
   "outputs": [
    {
     "name": "stdout",
     "output_type": "stream",
     "text": [
      "Accuracy: 0.97778\n"
     ]
    }
   ],
   "source": [
    "#Random forest for wine = df0\n",
    "from sklearn.ensemble import RandomForestClassifier \n",
    "model02= RandomForestClassifier(random_state = 100)\n",
    "model02= RandomForestClassifier(random_state = 100)\n",
    "model02.fit(x_train0,y_train0)\n",
    "y_pred02=model02.predict(x_test0)\n",
    "print('Accuracy: %.5f' % accuracy_score(y_test0, y_pred02))"
   ]
  },
  {
   "cell_type": "code",
   "execution_count": 6,
   "id": "b14f88e5",
   "metadata": {},
   "outputs": [
    {
     "name": "stdout",
     "output_type": "stream",
     "text": [
      "Accuracy: 0.82222\n"
     ]
    }
   ],
   "source": [
    "#SVG for wine = df0\n",
    "from sklearn.svm import SVC\n",
    "model03=SVC()\n",
    "model03.fit(x_train0,y_train0)\n",
    "y_pred03=model03.predict(x_test0)\n",
    "print('Accuracy: %.5f' % accuracy_score(y_test0, y_pred03))"
   ]
  },
  {
   "cell_type": "code",
   "execution_count": 7,
   "id": "b643426a",
   "metadata": {},
   "outputs": [
    {
     "name": "stdout",
     "output_type": "stream",
     "text": [
      "The accuracy for optimal k = 33 using brute is 80.0\n"
     ]
    }
   ],
   "source": [
    "#KNN for wine = df0\n",
    "from sklearn.neighbors import KNeighborsClassifier\n",
    "from sklearn.model_selection import cross_val_score\n",
    "cv_scores = []\n",
    "neighbors = list(np.arange(3,50,2))\n",
    "for n in neighbors:\n",
    "    knn = KNeighborsClassifier(n_neighbors = n,algorithm = 'brute')\n",
    "    \n",
    "    cross_val = cross_val_score(knn,x_train0,y_train0,cv = 5 , scoring = 'accuracy')\n",
    "    cv_scores.append(cross_val.mean())\n",
    "    \n",
    "error = [1-x for x in cv_scores]\n",
    "optimal_n = neighbors[ error.index(min(error)) ]\n",
    "knn_optimal = KNeighborsClassifier(n_neighbors = optimal_n,algorithm = 'brute')\n",
    "knn_optimal.fit(x_train0,y_train0)\n",
    "y_pred04 = knn_optimal.predict(x_test0)\n",
    "acc = accuracy_score(y_test0,y_pred04)*100\n",
    "print(\"The accuracy for optimal k = {0} using brute is {1}\".format(optimal_n,acc))"
   ]
  },
  {
   "cell_type": "code",
   "execution_count": 8,
   "id": "4c372ac5",
   "metadata": {},
   "outputs": [
    {
     "name": "stdout",
     "output_type": "stream",
     "text": [
      "Accuracy: 0.91111\n"
     ]
    }
   ],
   "source": [
    "#Decision tree for wine = df0\n",
    "from sklearn.tree import DecisionTreeClassifier\n",
    "model05 = DecisionTreeClassifier()\n",
    "model05.fit(x_train0,y_train0)\n",
    "y_pred05=model05.predict(x_test0)\n",
    "print('Accuracy: %.5f' % accuracy_score(y_test0, y_pred05))"
   ]
  },
  {
   "cell_type": "code",
   "execution_count": 9,
   "id": "195f212b",
   "metadata": {},
   "outputs": [
    {
     "name": "stdout",
     "output_type": "stream",
     "text": [
      "Accuracy: 0.95556\n"
     ]
    }
   ],
   "source": [
    "#xgboost for wine = df0\n",
    "from numpy import loadtxt\n",
    "from xgboost import XGBClassifier\n",
    "model06 = XGBClassifier()\n",
    "\n",
    "y_train0copy = y_train0\n",
    "d = {1:0, 2:1, 3:2}\n",
    "y_train0copy=[d[i] for i in y_train0copy]\n",
    "y_test0copy = y_test0\n",
    "y_test0copy=[d[i] for i in y_test0copy]\n",
    "\n",
    "model06.fit(x_train0,y_train0copy)\n",
    "y_pred06=model06.predict(x_test0)\n",
    "print('Accuracy: %.5f' % accuracy_score(y_test0copy, y_pred06))"
   ]
  },
  {
   "cell_type": "code",
   "execution_count": 10,
   "id": "80f591a9",
   "metadata": {},
   "outputs": [],
   "source": [
    "import keras\n",
    "import seaborn as sns\n",
    "from sklearn.preprocessing import normalize\n",
    "\n",
    "from keras.models import Sequential \n",
    "from keras.layers import Dense,Activation,Dropout \n",
    "from tensorflow.keras.layers import BatchNormalization\n",
    "from keras.utils import np_utils"
   ]
  },
  {
   "cell_type": "code",
   "execution_count": 11,
   "id": "a3683c82",
   "metadata": {},
   "outputs": [
    {
     "name": "stdout",
     "output_type": "stream",
     "text": [
      "Epoch 1/75\n",
      "5/5 - 1s - loss: 1.0520 - accuracy: 0.5563 - val_loss: 1.5179 - val_accuracy: 0.0000e+00 - 709ms/epoch - 142ms/step\n",
      "Epoch 2/75\n",
      "5/5 - 0s - loss: 0.9186 - accuracy: 0.5423 - val_loss: 2.6473 - val_accuracy: 0.0000e+00 - 49ms/epoch - 10ms/step\n",
      "Epoch 3/75\n",
      "5/5 - 0s - loss: 0.8845 - accuracy: 0.5986 - val_loss: 3.0176 - val_accuracy: 0.0000e+00 - 44ms/epoch - 9ms/step\n",
      "Epoch 4/75\n",
      "5/5 - 0s - loss: 0.8279 - accuracy: 0.6972 - val_loss: 2.5953 - val_accuracy: 0.0000e+00 - 49ms/epoch - 10ms/step\n",
      "Epoch 5/75\n",
      "5/5 - 0s - loss: 0.7599 - accuracy: 0.8028 - val_loss: 1.8869 - val_accuracy: 0.0000e+00 - 48ms/epoch - 10ms/step\n",
      "Epoch 6/75\n",
      "5/5 - 0s - loss: 0.6601 - accuracy: 0.8380 - val_loss: 1.8826 - val_accuracy: 0.0000e+00 - 46ms/epoch - 9ms/step\n",
      "Epoch 7/75\n",
      "5/5 - 0s - loss: 0.5792 - accuracy: 0.8028 - val_loss: 1.9922 - val_accuracy: 0.0000e+00 - 47ms/epoch - 9ms/step\n",
      "Epoch 8/75\n",
      "5/5 - 0s - loss: 0.4757 - accuracy: 0.8451 - val_loss: 1.9246 - val_accuracy: 0.0000e+00 - 50ms/epoch - 10ms/step\n",
      "Epoch 9/75\n",
      "5/5 - 0s - loss: 0.4236 - accuracy: 0.8521 - val_loss: 1.7218 - val_accuracy: 0.0000e+00 - 48ms/epoch - 10ms/step\n",
      "Epoch 10/75\n",
      "5/5 - 0s - loss: 0.3735 - accuracy: 0.8310 - val_loss: 1.5002 - val_accuracy: 0.0000e+00 - 47ms/epoch - 9ms/step\n",
      "Epoch 11/75\n",
      "5/5 - 0s - loss: 0.3163 - accuracy: 0.8662 - val_loss: 1.4211 - val_accuracy: 0.0000e+00 - 48ms/epoch - 10ms/step\n",
      "Epoch 12/75\n",
      "5/5 - 0s - loss: 0.2732 - accuracy: 0.8803 - val_loss: 1.4314 - val_accuracy: 0.0000e+00 - 44ms/epoch - 9ms/step\n",
      "Epoch 13/75\n",
      "5/5 - 0s - loss: 0.2476 - accuracy: 0.8803 - val_loss: 1.2854 - val_accuracy: 0.0278 - 44ms/epoch - 9ms/step\n",
      "Epoch 14/75\n",
      "5/5 - 0s - loss: 0.2682 - accuracy: 0.8592 - val_loss: 1.6048 - val_accuracy: 0.3056 - 44ms/epoch - 9ms/step\n",
      "Epoch 15/75\n",
      "5/5 - 0s - loss: 0.2567 - accuracy: 0.8732 - val_loss: 0.9465 - val_accuracy: 0.6111 - 46ms/epoch - 9ms/step\n",
      "Epoch 16/75\n",
      "5/5 - 0s - loss: 0.1881 - accuracy: 0.9296 - val_loss: 1.5508 - val_accuracy: 0.3333 - 46ms/epoch - 9ms/step\n",
      "Epoch 17/75\n",
      "5/5 - 0s - loss: 0.1798 - accuracy: 0.9507 - val_loss: 0.8736 - val_accuracy: 0.5833 - 50ms/epoch - 10ms/step\n",
      "Epoch 18/75\n",
      "5/5 - 0s - loss: 0.1709 - accuracy: 0.9366 - val_loss: 0.8003 - val_accuracy: 0.6111 - 47ms/epoch - 9ms/step\n",
      "Epoch 19/75\n",
      "5/5 - 0s - loss: 0.1294 - accuracy: 0.9577 - val_loss: 0.9804 - val_accuracy: 0.5833 - 46ms/epoch - 9ms/step\n",
      "Epoch 20/75\n",
      "5/5 - 0s - loss: 0.1226 - accuracy: 0.9648 - val_loss: 0.5897 - val_accuracy: 0.7500 - 44ms/epoch - 9ms/step\n",
      "Epoch 21/75\n",
      "5/5 - 0s - loss: 0.1106 - accuracy: 0.9648 - val_loss: 0.4785 - val_accuracy: 0.8611 - 43ms/epoch - 9ms/step\n",
      "Epoch 22/75\n",
      "5/5 - 0s - loss: 0.1020 - accuracy: 0.9718 - val_loss: 0.3392 - val_accuracy: 0.8611 - 46ms/epoch - 9ms/step\n",
      "Epoch 23/75\n",
      "5/5 - 0s - loss: 0.0931 - accuracy: 0.9718 - val_loss: 0.6092 - val_accuracy: 0.6944 - 46ms/epoch - 9ms/step\n",
      "Epoch 24/75\n",
      "5/5 - 0s - loss: 0.1117 - accuracy: 0.9648 - val_loss: 0.2441 - val_accuracy: 0.9167 - 47ms/epoch - 9ms/step\n",
      "Epoch 25/75\n",
      "5/5 - 0s - loss: 0.0774 - accuracy: 0.9859 - val_loss: 0.2828 - val_accuracy: 0.9167 - 47ms/epoch - 9ms/step\n",
      "Epoch 26/75\n",
      "5/5 - 0s - loss: 0.0678 - accuracy: 0.9718 - val_loss: 0.3206 - val_accuracy: 0.8889 - 47ms/epoch - 9ms/step\n",
      "Epoch 27/75\n",
      "5/5 - 0s - loss: 0.1153 - accuracy: 0.9577 - val_loss: 0.1630 - val_accuracy: 0.9722 - 44ms/epoch - 9ms/step\n",
      "Epoch 28/75\n",
      "5/5 - 0s - loss: 0.0676 - accuracy: 0.9718 - val_loss: 0.1279 - val_accuracy: 0.9722 - 45ms/epoch - 9ms/step\n",
      "Epoch 29/75\n",
      "5/5 - 0s - loss: 0.0652 - accuracy: 0.9718 - val_loss: 0.1799 - val_accuracy: 0.9444 - 46ms/epoch - 9ms/step\n",
      "Epoch 30/75\n",
      "5/5 - 0s - loss: 0.0620 - accuracy: 0.9859 - val_loss: 0.1529 - val_accuracy: 0.9444 - 46ms/epoch - 9ms/step\n",
      "Epoch 31/75\n",
      "5/5 - 0s - loss: 0.1043 - accuracy: 0.9366 - val_loss: 0.1823 - val_accuracy: 0.9722 - 47ms/epoch - 9ms/step\n",
      "Epoch 32/75\n",
      "5/5 - 0s - loss: 0.0787 - accuracy: 0.9577 - val_loss: 0.0710 - val_accuracy: 1.0000 - 45ms/epoch - 9ms/step\n",
      "Epoch 33/75\n",
      "5/5 - 0s - loss: 0.0584 - accuracy: 0.9859 - val_loss: 0.2415 - val_accuracy: 0.9167 - 45ms/epoch - 9ms/step\n",
      "Epoch 34/75\n",
      "5/5 - 0s - loss: 0.0481 - accuracy: 0.9859 - val_loss: 0.1788 - val_accuracy: 0.9167 - 44ms/epoch - 9ms/step\n",
      "Epoch 35/75\n",
      "5/5 - 0s - loss: 0.0831 - accuracy: 0.9789 - val_loss: 0.0987 - val_accuracy: 0.9722 - 44ms/epoch - 9ms/step\n",
      "Epoch 36/75\n",
      "5/5 - 0s - loss: 0.0814 - accuracy: 0.9648 - val_loss: 0.0738 - val_accuracy: 0.9722 - 47ms/epoch - 9ms/step\n",
      "Epoch 37/75\n",
      "5/5 - 0s - loss: 0.0517 - accuracy: 0.9789 - val_loss: 0.0829 - val_accuracy: 0.9722 - 45ms/epoch - 9ms/step\n",
      "Epoch 38/75\n",
      "5/5 - 0s - loss: 0.0377 - accuracy: 0.9930 - val_loss: 0.2163 - val_accuracy: 0.9444 - 47ms/epoch - 9ms/step\n",
      "Epoch 39/75\n",
      "5/5 - 0s - loss: 0.0550 - accuracy: 0.9718 - val_loss: 0.1178 - val_accuracy: 0.9722 - 46ms/epoch - 9ms/step\n",
      "Epoch 40/75\n",
      "5/5 - 0s - loss: 0.0449 - accuracy: 0.9930 - val_loss: 0.0457 - val_accuracy: 1.0000 - 44ms/epoch - 9ms/step\n",
      "Epoch 41/75\n",
      "5/5 - 0s - loss: 0.0392 - accuracy: 0.9859 - val_loss: 0.1216 - val_accuracy: 0.9722 - 46ms/epoch - 9ms/step\n",
      "Epoch 42/75\n",
      "5/5 - 0s - loss: 0.0370 - accuracy: 1.0000 - val_loss: 0.0804 - val_accuracy: 0.9722 - 46ms/epoch - 9ms/step\n",
      "Epoch 43/75\n",
      "5/5 - 0s - loss: 0.0585 - accuracy: 0.9648 - val_loss: 0.0729 - val_accuracy: 0.9722 - 50ms/epoch - 10ms/step\n",
      "Epoch 44/75\n",
      "5/5 - 0s - loss: 0.0402 - accuracy: 0.9930 - val_loss: 0.1731 - val_accuracy: 0.9444 - 46ms/epoch - 9ms/step\n",
      "Epoch 45/75\n",
      "5/5 - 0s - loss: 0.0650 - accuracy: 0.9718 - val_loss: 0.2265 - val_accuracy: 0.9167 - 46ms/epoch - 9ms/step\n",
      "Epoch 46/75\n",
      "5/5 - 0s - loss: 0.0470 - accuracy: 0.9859 - val_loss: 0.0250 - val_accuracy: 1.0000 - 47ms/epoch - 9ms/step\n",
      "Epoch 47/75\n",
      "5/5 - 0s - loss: 0.0504 - accuracy: 0.9859 - val_loss: 0.0566 - val_accuracy: 1.0000 - 45ms/epoch - 9ms/step\n",
      "Epoch 48/75\n",
      "5/5 - 0s - loss: 0.0464 - accuracy: 0.9859 - val_loss: 0.1337 - val_accuracy: 0.9722 - 46ms/epoch - 9ms/step\n",
      "Epoch 49/75\n",
      "5/5 - 0s - loss: 0.0379 - accuracy: 0.9930 - val_loss: 0.0702 - val_accuracy: 0.9722 - 46ms/epoch - 9ms/step\n",
      "Epoch 50/75\n",
      "5/5 - 0s - loss: 0.0320 - accuracy: 0.9930 - val_loss: 0.0168 - val_accuracy: 1.0000 - 47ms/epoch - 9ms/step\n",
      "Epoch 51/75\n",
      "5/5 - 0s - loss: 0.0388 - accuracy: 0.9859 - val_loss: 0.0407 - val_accuracy: 1.0000 - 50ms/epoch - 10ms/step\n",
      "Epoch 52/75\n",
      "5/5 - 0s - loss: 0.0327 - accuracy: 0.9859 - val_loss: 0.1656 - val_accuracy: 0.9722 - 44ms/epoch - 9ms/step\n",
      "Epoch 53/75\n",
      "5/5 - 0s - loss: 0.0279 - accuracy: 0.9930 - val_loss: 0.0383 - val_accuracy: 1.0000 - 45ms/epoch - 9ms/step\n",
      "Epoch 54/75\n",
      "5/5 - 0s - loss: 0.0501 - accuracy: 0.9789 - val_loss: 0.0118 - val_accuracy: 1.0000 - 48ms/epoch - 10ms/step\n",
      "Epoch 55/75\n",
      "5/5 - 0s - loss: 0.0291 - accuracy: 0.9859 - val_loss: 0.0717 - val_accuracy: 0.9722 - 48ms/epoch - 10ms/step\n",
      "Epoch 56/75\n",
      "5/5 - 0s - loss: 0.0310 - accuracy: 0.9930 - val_loss: 0.0711 - val_accuracy: 1.0000 - 46ms/epoch - 9ms/step\n",
      "Epoch 57/75\n",
      "5/5 - 0s - loss: 0.0465 - accuracy: 0.9648 - val_loss: 0.0423 - val_accuracy: 1.0000 - 47ms/epoch - 9ms/step\n",
      "Epoch 58/75\n",
      "5/5 - 0s - loss: 0.0705 - accuracy: 0.9789 - val_loss: 0.0145 - val_accuracy: 1.0000 - 51ms/epoch - 10ms/step\n",
      "Epoch 59/75\n",
      "5/5 - 0s - loss: 0.0883 - accuracy: 0.9577 - val_loss: 0.0658 - val_accuracy: 1.0000 - 45ms/epoch - 9ms/step\n",
      "Epoch 60/75\n",
      "5/5 - 0s - loss: 0.0171 - accuracy: 1.0000 - val_loss: 0.0521 - val_accuracy: 1.0000 - 45ms/epoch - 9ms/step\n",
      "Epoch 61/75\n",
      "5/5 - 0s - loss: 0.0212 - accuracy: 1.0000 - val_loss: 0.0362 - val_accuracy: 1.0000 - 43ms/epoch - 9ms/step\n",
      "Epoch 62/75\n",
      "5/5 - 0s - loss: 0.0344 - accuracy: 0.9859 - val_loss: 0.0292 - val_accuracy: 1.0000 - 45ms/epoch - 9ms/step\n",
      "Epoch 63/75\n",
      "5/5 - 0s - loss: 0.0323 - accuracy: 0.9930 - val_loss: 0.0204 - val_accuracy: 1.0000 - 46ms/epoch - 9ms/step\n",
      "Epoch 64/75\n",
      "5/5 - 0s - loss: 0.0342 - accuracy: 0.9859 - val_loss: 0.0741 - val_accuracy: 0.9722 - 46ms/epoch - 9ms/step\n",
      "Epoch 65/75\n",
      "5/5 - 0s - loss: 0.0292 - accuracy: 0.9859 - val_loss: 0.0420 - val_accuracy: 1.0000 - 48ms/epoch - 10ms/step\n",
      "Epoch 66/75\n",
      "5/5 - 0s - loss: 0.0181 - accuracy: 1.0000 - val_loss: 0.0310 - val_accuracy: 1.0000 - 44ms/epoch - 9ms/step\n",
      "Epoch 67/75\n",
      "5/5 - 0s - loss: 0.0359 - accuracy: 0.9859 - val_loss: 0.0320 - val_accuracy: 1.0000 - 45ms/epoch - 9ms/step\n",
      "Epoch 68/75\n",
      "5/5 - 0s - loss: 0.0267 - accuracy: 0.9930 - val_loss: 0.0194 - val_accuracy: 1.0000 - 49ms/epoch - 10ms/step\n"
     ]
    },
    {
     "name": "stdout",
     "output_type": "stream",
     "text": [
      "Epoch 69/75\n",
      "5/5 - 0s - loss: 0.0224 - accuracy: 0.9930 - val_loss: 0.0253 - val_accuracy: 1.0000 - 44ms/epoch - 9ms/step\n",
      "Epoch 70/75\n",
      "5/5 - 0s - loss: 0.0278 - accuracy: 0.9930 - val_loss: 0.0176 - val_accuracy: 1.0000 - 46ms/epoch - 9ms/step\n",
      "Epoch 71/75\n",
      "5/5 - 0s - loss: 0.0198 - accuracy: 0.9859 - val_loss: 0.0300 - val_accuracy: 1.0000 - 47ms/epoch - 9ms/step\n",
      "Epoch 72/75\n",
      "5/5 - 0s - loss: 0.0172 - accuracy: 1.0000 - val_loss: 0.0150 - val_accuracy: 1.0000 - 50ms/epoch - 10ms/step\n",
      "Epoch 73/75\n",
      "5/5 - 0s - loss: 0.0313 - accuracy: 0.9859 - val_loss: 0.0396 - val_accuracy: 1.0000 - 44ms/epoch - 9ms/step\n",
      "Epoch 74/75\n",
      "5/5 - 0s - loss: 0.0237 - accuracy: 1.0000 - val_loss: 0.0195 - val_accuracy: 1.0000 - 45ms/epoch - 9ms/step\n",
      "Epoch 75/75\n",
      "5/5 - 0s - loss: 0.0356 - accuracy: 0.9859 - val_loss: 0.0115 - val_accuracy: 1.0000 - 43ms/epoch - 9ms/step\n"
     ]
    },
    {
     "data": {
      "text/plain": [
       "<keras.callbacks.History at 0x22ab224bbb0>"
      ]
     },
     "execution_count": 11,
     "metadata": {},
     "output_type": "execute_result"
    }
   ],
   "source": [
    "#neural networks for wine = df0\n",
    "total_length=len(df0)\n",
    "train_length=int(0.8*total_length)\n",
    "test_length=int(0.2*total_length)\n",
    "\n",
    "x0_normalized=normalize(x0,axis=0)\n",
    "x_train07=x0_normalized[:train_length]\n",
    "x_test07=x0_normalized[train_length:]\n",
    "y_train07=y0[:train_length]\n",
    "y_test07=y0[train_length:]\n",
    "\n",
    "y_train07copy = y_train07\n",
    "d = {1:0, 2:1, 3:2}\n",
    "y_train07copy=[d[i] for i in y_train07copy]\n",
    "y_test07copy = y_test07\n",
    "y_test07copy=[d[i] for i in y_test07copy]\n",
    "\n",
    "y_train07copy=np_utils.to_categorical(y_train07copy,num_classes=3)\n",
    "y_test07copy=np_utils.to_categorical(y_test07copy,num_classes=3)\n",
    "\n",
    "model07=Sequential()\n",
    "model07.add(Dense(1000,input_dim=13,activation='relu'))\n",
    "model07.add(Dense(500,activation='relu'))\n",
    "model07.add(Dense(300,activation='relu'))\n",
    "model07.add(Dropout(0.2))\n",
    "model07.add(Dense(3,activation='softmax'))\n",
    "model07.compile(loss='categorical_crossentropy',optimizer='adam',metrics=['accuracy'])\n",
    "model07.fit(x_train07,y_train07copy,validation_data=(x_test07,y_test07copy),batch_size=32,epochs=75,verbose=2)"
   ]
  },
  {
   "cell_type": "code",
   "execution_count": 12,
   "id": "52fba4d1",
   "metadata": {},
   "outputs": [
    {
     "name": "stdout",
     "output_type": "stream",
     "text": [
      "Accuracy : 100.0\n"
     ]
    }
   ],
   "source": [
    "prediction=model07.predict(x_test07)\n",
    "length=len(prediction)\n",
    "y_label=np.argmax(y_test07copy,axis=1)\n",
    "predict_label=np.argmax(prediction,axis=1)\n",
    "\n",
    "accuracy=np.sum(y_label==predict_label)/length * 100 \n",
    "print(\"Accuracy :\",accuracy )"
   ]
  },
  {
   "cell_type": "code",
   "execution_count": null,
   "id": "d9f05e3f",
   "metadata": {},
   "outputs": [],
   "source": []
  }
 ],
 "metadata": {
  "kernelspec": {
   "display_name": "Python 3 (ipykernel)",
   "language": "python",
   "name": "python3"
  },
  "language_info": {
   "codemirror_mode": {
    "name": "ipython",
    "version": 3
   },
   "file_extension": ".py",
   "mimetype": "text/x-python",
   "name": "python",
   "nbconvert_exporter": "python",
   "pygments_lexer": "ipython3",
   "version": "3.10.4"
  }
 },
 "nbformat": 4,
 "nbformat_minor": 5
}
