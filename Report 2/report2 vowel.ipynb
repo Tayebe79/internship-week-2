{
 "cells": [
  {
   "cell_type": "code",
   "execution_count": 1,
   "id": "763ef0e6",
   "metadata": {},
   "outputs": [],
   "source": [
    "import pandas as pd\n",
    "import numpy as np\n",
    "from sklearn.linear_model import LinearRegression\n",
    "from sklearn.preprocessing import PolynomialFeatures\n",
    "from sklearn.model_selection import train_test_split\n",
    "from sklearn.metrics import accuracy_score,confusion_matrix\n",
    "from sklearn.metrics import precision_score, recall_score, f1_score, accuracy_score\n",
    "import matplotlib.pyplot as plt\n",
    "\n",
    "csv_file5 = 'datasetsForReport2/vowel.csv'\n",
    "\n",
    "df5 = pd.read_csv(csv_file5)"
   ]
  },
  {
   "cell_type": "code",
   "execution_count": 2,
   "id": "4a14c8a6",
   "metadata": {},
   "outputs": [],
   "source": [
    "df5 = df5.drop('id',axis=1)\n",
    "df5 = df5.drop('Train',axis=1)\n",
    "df5 = df5.drop('Sex',axis=1)\n",
    "df5 = df5.drop('Speaker',axis=1)"
   ]
  },
  {
   "cell_type": "code",
   "execution_count": 3,
   "id": "1ebc8673",
   "metadata": {},
   "outputs": [],
   "source": [
    "x5=df5.iloc[:,:10]\n",
    "y5=df5.iloc[:,10]\n",
    "x_train5,x_test5,y_train5,y_test5=train_test_split(x5,y5,random_state=0)"
   ]
  },
  {
   "cell_type": "code",
   "execution_count": 4,
   "id": "66344962",
   "metadata": {},
   "outputs": [
    {
     "name": "stdout",
     "output_type": "stream",
     "text": [
      "Accuracy: 0.66129\n"
     ]
    },
    {
     "name": "stderr",
     "output_type": "stream",
     "text": [
      "C:\\Users\\asus\\AppData\\Local\\Programs\\Python\\Python310\\lib\\site-packages\\sklearn\\linear_model\\_logistic.py:444: ConvergenceWarning: lbfgs failed to converge (status=1):\n",
      "STOP: TOTAL NO. of ITERATIONS REACHED LIMIT.\n",
      "\n",
      "Increase the number of iterations (max_iter) or scale the data as shown in:\n",
      "    https://scikit-learn.org/stable/modules/preprocessing.html\n",
      "Please also refer to the documentation for alternative solver options:\n",
      "    https://scikit-learn.org/stable/modules/linear_model.html#logistic-regression\n",
      "  n_iter_i = _check_optimize_result(\n"
     ]
    }
   ],
   "source": [
    "#Logistic Regression for vowel = df5\n",
    "from sklearn.linear_model import LogisticRegression\n",
    "model51=LogisticRegression()\n",
    "model51.fit(x_train5,y_train5)\n",
    "y_pred51=model51.predict(x_test5)\n",
    "print('Accuracy: %.5f' % accuracy_score(y_test5, y_pred51))"
   ]
  },
  {
   "cell_type": "code",
   "execution_count": 5,
   "id": "42983552",
   "metadata": {},
   "outputs": [
    {
     "name": "stdout",
     "output_type": "stream",
     "text": [
      "Accuracy: 0.96371\n"
     ]
    }
   ],
   "source": [
    "#Random forest for vowel = df5\n",
    "from sklearn.ensemble import RandomForestClassifier \n",
    "model52= RandomForestClassifier(random_state = 100)\n",
    "model52= RandomForestClassifier(random_state = 100)\n",
    "model52.fit(x_train5,y_train5)\n",
    "y_pred52=model52.predict(x_test5)\n",
    "print('Accuracy: %.5f' % accuracy_score(y_test5, y_pred52))"
   ]
  },
  {
   "cell_type": "code",
   "execution_count": 6,
   "id": "eca7b82a",
   "metadata": {},
   "outputs": [
    {
     "name": "stdout",
     "output_type": "stream",
     "text": [
      "Accuracy: 0.84677\n"
     ]
    }
   ],
   "source": [
    "#SVG for vowel = df5\n",
    "from sklearn.svm import SVC\n",
    "model53=SVC()\n",
    "model53.fit(x_train5,y_train5)\n",
    "y_pred53=model53.predict(x_test5)\n",
    "print('Accuracy: %.5f' % accuracy_score(y_test5, y_pred53))"
   ]
  },
  {
   "cell_type": "code",
   "execution_count": 7,
   "id": "f83b04f1",
   "metadata": {},
   "outputs": [
    {
     "name": "stdout",
     "output_type": "stream",
     "text": [
      "The accuracy for optimal k = 3 using brute is 96.37096774193549\n"
     ]
    }
   ],
   "source": [
    "#KNN for vowel = df5\n",
    "from sklearn.neighbors import KNeighborsClassifier\n",
    "from sklearn.model_selection import cross_val_score\n",
    "cv_scores = []\n",
    "neighbors = list(np.arange(3,50,2))\n",
    "for n in neighbors:\n",
    "    knn = KNeighborsClassifier(n_neighbors = n,algorithm = 'brute')\n",
    "    \n",
    "    cross_val = cross_val_score(knn,x_train5,y_train5,cv = 5 , scoring = 'accuracy')\n",
    "    cv_scores.append(cross_val.mean())\n",
    "    \n",
    "error = [1-x for x in cv_scores]\n",
    "optimal_n = neighbors[ error.index(min(error)) ]\n",
    "knn_optimal = KNeighborsClassifier(n_neighbors = optimal_n,algorithm = 'brute')\n",
    "knn_optimal.fit(x_train5,y_train5)\n",
    "y_pred54 = knn_optimal.predict(x_test5)\n",
    "acc = accuracy_score(y_test5,y_pred54)*100\n",
    "print(\"The accuracy for optimal k = {0} using brute is {1}\".format(optimal_n,acc))"
   ]
  },
  {
   "cell_type": "code",
   "execution_count": 8,
   "id": "80701023",
   "metadata": {},
   "outputs": [
    {
     "name": "stdout",
     "output_type": "stream",
     "text": [
      "Accuracy: 0.75806\n"
     ]
    }
   ],
   "source": [
    "#Decision tree for vowel = df5\n",
    "from sklearn.tree import DecisionTreeClassifier\n",
    "model55 = DecisionTreeClassifier()\n",
    "model55.fit(x_train5,y_train5)\n",
    "y_pred55=model55.predict(x_test5)\n",
    "print('Accuracy: %.5f' % accuracy_score(y_test5, y_pred55))"
   ]
  },
  {
   "cell_type": "code",
   "execution_count": 9,
   "id": "79c52fa1",
   "metadata": {},
   "outputs": [
    {
     "name": "stdout",
     "output_type": "stream",
     "text": [
      "Accuracy: 0.91935\n"
     ]
    }
   ],
   "source": [
    "#xgboost for vowel = df5\n",
    "from numpy import loadtxt\n",
    "from xgboost import XGBClassifier\n",
    "model56 = XGBClassifier()\n",
    "\n",
    "y_train5copy = y_train5\n",
    "d = {'had':0, 'hed':1, 'hid':2, 'hud':3, 'hOd':4, 'hod':5, 'hAd':6, 'hEd':7, 'hId':8, 'hUd':9, 'hYd':10}\n",
    "y_train5copy=[d[i] for i in y_train5copy]\n",
    "y_test5copy = y_test5\n",
    "y_test5copy=[d[i] for i in y_test5copy]\n",
    "\n",
    "model56.fit(x_train5,y_train5copy)\n",
    "y_pred56=model56.predict(x_test5)\n",
    "print('Accuracy: %.5f' % accuracy_score(y_test5copy, y_pred56))"
   ]
  },
  {
   "cell_type": "code",
   "execution_count": 10,
   "id": "af47d912",
   "metadata": {},
   "outputs": [],
   "source": [
    "import keras\n",
    "import seaborn as sns\n",
    "from sklearn.preprocessing import normalize\n",
    "\n",
    "from keras.models import Sequential \n",
    "from keras.layers import Dense,Activation,Dropout \n",
    "from tensorflow.keras.layers import BatchNormalization\n",
    "from keras.utils import np_utils"
   ]
  },
  {
   "cell_type": "code",
   "execution_count": 11,
   "id": "bea5613d",
   "metadata": {},
   "outputs": [
    {
     "name": "stdout",
     "output_type": "stream",
     "text": [
      "Epoch 1/100\n",
      "25/25 - 1s - loss: 2.3911 - accuracy: 0.1086 - val_loss: 2.3895 - val_accuracy: 0.0859 - 571ms/epoch - 23ms/step\n",
      "Epoch 2/100\n",
      "25/25 - 0s - loss: 2.3449 - accuracy: 0.1616 - val_loss: 2.3455 - val_accuracy: 0.1667 - 56ms/epoch - 2ms/step\n",
      "Epoch 3/100\n",
      "25/25 - 0s - loss: 2.2334 - accuracy: 0.2121 - val_loss: 2.2472 - val_accuracy: 0.1818 - 69ms/epoch - 3ms/step\n",
      "Epoch 4/100\n",
      "25/25 - 0s - loss: 2.1532 - accuracy: 0.1780 - val_loss: 2.1769 - val_accuracy: 0.2424 - 63ms/epoch - 3ms/step\n",
      "Epoch 5/100\n",
      "25/25 - 0s - loss: 2.0398 - accuracy: 0.2336 - val_loss: 2.0811 - val_accuracy: 0.2879 - 57ms/epoch - 2ms/step\n",
      "Epoch 6/100\n",
      "25/25 - 0s - loss: 2.0000 - accuracy: 0.2311 - val_loss: 2.0320 - val_accuracy: 0.3232 - 71ms/epoch - 3ms/step\n",
      "Epoch 7/100\n",
      "25/25 - 0s - loss: 1.9406 - accuracy: 0.2601 - val_loss: 1.9965 - val_accuracy: 0.2727 - 63ms/epoch - 3ms/step\n",
      "Epoch 8/100\n",
      "25/25 - 0s - loss: 1.8313 - accuracy: 0.2816 - val_loss: 1.9286 - val_accuracy: 0.2980 - 63ms/epoch - 3ms/step\n",
      "Epoch 9/100\n",
      "25/25 - 0s - loss: 1.8030 - accuracy: 0.3295 - val_loss: 1.8366 - val_accuracy: 0.3535 - 53ms/epoch - 2ms/step\n",
      "Epoch 10/100\n",
      "25/25 - 0s - loss: 1.7520 - accuracy: 0.3308 - val_loss: 1.7565 - val_accuracy: 0.3232 - 65ms/epoch - 3ms/step\n",
      "Epoch 11/100\n",
      "25/25 - 0s - loss: 1.6985 - accuracy: 0.3472 - val_loss: 1.7587 - val_accuracy: 0.3030 - 63ms/epoch - 3ms/step\n",
      "Epoch 12/100\n",
      "25/25 - 0s - loss: 1.5888 - accuracy: 0.3788 - val_loss: 1.6729 - val_accuracy: 0.3939 - 52ms/epoch - 2ms/step\n",
      "Epoch 13/100\n",
      "25/25 - 0s - loss: 1.5606 - accuracy: 0.3864 - val_loss: 1.6183 - val_accuracy: 0.4040 - 67ms/epoch - 3ms/step\n",
      "Epoch 14/100\n",
      "25/25 - 0s - loss: 1.4697 - accuracy: 0.4280 - val_loss: 1.5400 - val_accuracy: 0.4697 - 64ms/epoch - 3ms/step\n",
      "Epoch 15/100\n",
      "25/25 - 0s - loss: 1.4637 - accuracy: 0.4192 - val_loss: 1.5897 - val_accuracy: 0.3636 - 82ms/epoch - 3ms/step\n",
      "Epoch 16/100\n",
      "25/25 - 0s - loss: 1.4224 - accuracy: 0.4545 - val_loss: 1.4925 - val_accuracy: 0.4747 - 55ms/epoch - 2ms/step\n",
      "Epoch 17/100\n",
      "25/25 - 0s - loss: 1.3670 - accuracy: 0.4432 - val_loss: 1.4877 - val_accuracy: 0.4848 - 67ms/epoch - 3ms/step\n",
      "Epoch 18/100\n",
      "25/25 - 0s - loss: 1.3605 - accuracy: 0.4558 - val_loss: 1.4801 - val_accuracy: 0.4545 - 68ms/epoch - 3ms/step\n",
      "Epoch 19/100\n",
      "25/25 - 0s - loss: 1.2735 - accuracy: 0.4949 - val_loss: 1.4500 - val_accuracy: 0.4848 - 65ms/epoch - 3ms/step\n",
      "Epoch 20/100\n",
      "25/25 - 0s - loss: 1.2799 - accuracy: 0.5000 - val_loss: 1.5258 - val_accuracy: 0.4697 - 65ms/epoch - 3ms/step\n",
      "Epoch 21/100\n",
      "25/25 - 0s - loss: 1.2389 - accuracy: 0.5215 - val_loss: 1.4451 - val_accuracy: 0.4343 - 58ms/epoch - 2ms/step\n",
      "Epoch 22/100\n",
      "25/25 - 0s - loss: 1.2288 - accuracy: 0.5290 - val_loss: 1.3734 - val_accuracy: 0.4343 - 64ms/epoch - 3ms/step\n",
      "Epoch 23/100\n",
      "25/25 - 0s - loss: 1.1879 - accuracy: 0.5278 - val_loss: 1.3529 - val_accuracy: 0.5303 - 53ms/epoch - 2ms/step\n",
      "Epoch 24/100\n",
      "25/25 - 0s - loss: 1.1663 - accuracy: 0.5341 - val_loss: 1.3469 - val_accuracy: 0.4747 - 68ms/epoch - 3ms/step\n",
      "Epoch 25/100\n",
      "25/25 - 0s - loss: 1.1475 - accuracy: 0.5366 - val_loss: 1.2983 - val_accuracy: 0.4747 - 74ms/epoch - 3ms/step\n",
      "Epoch 26/100\n",
      "25/25 - 0s - loss: 1.1048 - accuracy: 0.5492 - val_loss: 1.3613 - val_accuracy: 0.5404 - 66ms/epoch - 3ms/step\n",
      "Epoch 27/100\n",
      "25/25 - 0s - loss: 1.0809 - accuracy: 0.5732 - val_loss: 1.2258 - val_accuracy: 0.4747 - 66ms/epoch - 3ms/step\n",
      "Epoch 28/100\n",
      "25/25 - 0s - loss: 1.0884 - accuracy: 0.5720 - val_loss: 1.2992 - val_accuracy: 0.4949 - 68ms/epoch - 3ms/step\n",
      "Epoch 29/100\n",
      "25/25 - 0s - loss: 1.0490 - accuracy: 0.5972 - val_loss: 1.2642 - val_accuracy: 0.4747 - 65ms/epoch - 3ms/step\n",
      "Epoch 30/100\n",
      "25/25 - 0s - loss: 1.0532 - accuracy: 0.5896 - val_loss: 1.3866 - val_accuracy: 0.4747 - 60ms/epoch - 2ms/step\n",
      "Epoch 31/100\n",
      "25/25 - 0s - loss: 1.0435 - accuracy: 0.5770 - val_loss: 1.3862 - val_accuracy: 0.5152 - 62ms/epoch - 2ms/step\n",
      "Epoch 32/100\n",
      "25/25 - 0s - loss: 1.0263 - accuracy: 0.5985 - val_loss: 1.4869 - val_accuracy: 0.4798 - 70ms/epoch - 3ms/step\n",
      "Epoch 33/100\n",
      "25/25 - 0s - loss: 1.0043 - accuracy: 0.5972 - val_loss: 1.3823 - val_accuracy: 0.5152 - 62ms/epoch - 2ms/step\n",
      "Epoch 34/100\n",
      "25/25 - 0s - loss: 0.9579 - accuracy: 0.6048 - val_loss: 1.4093 - val_accuracy: 0.5202 - 67ms/epoch - 3ms/step\n",
      "Epoch 35/100\n",
      "25/25 - 0s - loss: 1.0554 - accuracy: 0.5795 - val_loss: 1.3471 - val_accuracy: 0.5101 - 66ms/epoch - 3ms/step\n",
      "Epoch 36/100\n",
      "25/25 - 0s - loss: 1.0101 - accuracy: 0.5997 - val_loss: 1.2230 - val_accuracy: 0.5152 - 59ms/epoch - 2ms/step\n",
      "Epoch 37/100\n",
      "25/25 - 0s - loss: 0.9138 - accuracy: 0.6503 - val_loss: 1.2930 - val_accuracy: 0.4798 - 64ms/epoch - 3ms/step\n",
      "Epoch 38/100\n",
      "25/25 - 0s - loss: 0.9357 - accuracy: 0.6225 - val_loss: 1.4273 - val_accuracy: 0.4697 - 63ms/epoch - 3ms/step\n",
      "Epoch 39/100\n",
      "25/25 - 0s - loss: 0.9122 - accuracy: 0.6313 - val_loss: 1.3785 - val_accuracy: 0.5152 - 69ms/epoch - 3ms/step\n",
      "Epoch 40/100\n",
      "25/25 - 0s - loss: 0.9243 - accuracy: 0.6402 - val_loss: 1.3334 - val_accuracy: 0.4747 - 59ms/epoch - 2ms/step\n",
      "Epoch 41/100\n",
      "25/25 - 0s - loss: 0.9170 - accuracy: 0.6263 - val_loss: 1.1737 - val_accuracy: 0.5758 - 64ms/epoch - 3ms/step\n",
      "Epoch 42/100\n",
      "25/25 - 0s - loss: 0.9098 - accuracy: 0.6301 - val_loss: 1.2434 - val_accuracy: 0.5455 - 68ms/epoch - 3ms/step\n",
      "Epoch 43/100\n",
      "25/25 - 0s - loss: 0.8680 - accuracy: 0.6553 - val_loss: 1.2407 - val_accuracy: 0.5354 - 75ms/epoch - 3ms/step\n",
      "Epoch 44/100\n",
      "25/25 - 0s - loss: 0.8983 - accuracy: 0.6263 - val_loss: 1.1627 - val_accuracy: 0.5758 - 63ms/epoch - 3ms/step\n",
      "Epoch 45/100\n",
      "25/25 - 0s - loss: 0.8906 - accuracy: 0.6452 - val_loss: 1.3636 - val_accuracy: 0.4747 - 62ms/epoch - 2ms/step\n",
      "Epoch 46/100\n",
      "25/25 - 0s - loss: 0.8330 - accuracy: 0.6528 - val_loss: 1.2389 - val_accuracy: 0.5404 - 60ms/epoch - 2ms/step\n",
      "Epoch 47/100\n",
      "25/25 - 0s - loss: 0.8529 - accuracy: 0.6351 - val_loss: 1.3100 - val_accuracy: 0.5000 - 81ms/epoch - 3ms/step\n",
      "Epoch 48/100\n",
      "25/25 - 0s - loss: 0.8271 - accuracy: 0.6780 - val_loss: 1.1625 - val_accuracy: 0.5707 - 92ms/epoch - 4ms/step\n",
      "Epoch 49/100\n",
      "25/25 - 0s - loss: 0.8310 - accuracy: 0.6540 - val_loss: 1.3505 - val_accuracy: 0.5051 - 72ms/epoch - 3ms/step\n",
      "Epoch 50/100\n",
      "25/25 - 0s - loss: 0.8803 - accuracy: 0.6301 - val_loss: 1.2017 - val_accuracy: 0.5455 - 68ms/epoch - 3ms/step\n",
      "Epoch 51/100\n",
      "25/25 - 0s - loss: 0.8089 - accuracy: 0.6654 - val_loss: 1.2620 - val_accuracy: 0.5101 - 78ms/epoch - 3ms/step\n",
      "Epoch 52/100\n",
      "25/25 - 0s - loss: 0.8358 - accuracy: 0.6503 - val_loss: 1.4279 - val_accuracy: 0.4646 - 64ms/epoch - 3ms/step\n",
      "Epoch 53/100\n",
      "25/25 - 0s - loss: 0.8231 - accuracy: 0.6692 - val_loss: 1.0939 - val_accuracy: 0.6313 - 64ms/epoch - 3ms/step\n",
      "Epoch 54/100\n",
      "25/25 - 0s - loss: 0.8198 - accuracy: 0.6818 - val_loss: 1.1783 - val_accuracy: 0.5606 - 66ms/epoch - 3ms/step\n",
      "Epoch 55/100\n",
      "25/25 - 0s - loss: 0.8358 - accuracy: 0.6616 - val_loss: 1.2604 - val_accuracy: 0.5455 - 63ms/epoch - 3ms/step\n",
      "Epoch 56/100\n",
      "25/25 - 0s - loss: 0.7784 - accuracy: 0.6894 - val_loss: 1.3759 - val_accuracy: 0.5000 - 62ms/epoch - 2ms/step\n",
      "Epoch 57/100\n",
      "25/25 - 0s - loss: 0.7954 - accuracy: 0.6629 - val_loss: 1.1885 - val_accuracy: 0.5657 - 63ms/epoch - 3ms/step\n",
      "Epoch 58/100\n",
      "25/25 - 0s - loss: 0.8215 - accuracy: 0.6742 - val_loss: 1.3419 - val_accuracy: 0.5202 - 64ms/epoch - 3ms/step\n",
      "Epoch 59/100\n",
      "25/25 - 0s - loss: 0.7866 - accuracy: 0.6755 - val_loss: 1.1738 - val_accuracy: 0.5707 - 63ms/epoch - 3ms/step\n",
      "Epoch 60/100\n",
      "25/25 - 0s - loss: 0.7445 - accuracy: 0.7033 - val_loss: 1.1854 - val_accuracy: 0.5909 - 61ms/epoch - 2ms/step\n",
      "Epoch 61/100\n",
      "25/25 - 0s - loss: 0.7773 - accuracy: 0.6780 - val_loss: 1.2338 - val_accuracy: 0.5505 - 62ms/epoch - 2ms/step\n",
      "Epoch 62/100\n",
      "25/25 - 0s - loss: 0.7947 - accuracy: 0.6768 - val_loss: 1.6963 - val_accuracy: 0.4495 - 64ms/epoch - 3ms/step\n",
      "Epoch 63/100\n",
      "25/25 - 0s - loss: 0.7762 - accuracy: 0.6856 - val_loss: 1.2025 - val_accuracy: 0.5808 - 65ms/epoch - 3ms/step\n",
      "Epoch 64/100\n",
      "25/25 - 0s - loss: 0.7844 - accuracy: 0.6768 - val_loss: 1.3940 - val_accuracy: 0.5303 - 65ms/epoch - 3ms/step\n",
      "Epoch 65/100\n",
      "25/25 - 0s - loss: 0.7677 - accuracy: 0.6780 - val_loss: 1.3775 - val_accuracy: 0.5657 - 65ms/epoch - 3ms/step\n",
      "Epoch 66/100\n",
      "25/25 - 0s - loss: 0.7686 - accuracy: 0.6932 - val_loss: 1.2507 - val_accuracy: 0.5303 - 65ms/epoch - 3ms/step\n",
      "Epoch 67/100\n",
      "25/25 - 0s - loss: 0.7414 - accuracy: 0.7045 - val_loss: 1.2550 - val_accuracy: 0.5657 - 62ms/epoch - 2ms/step\n"
     ]
    },
    {
     "name": "stdout",
     "output_type": "stream",
     "text": [
      "Epoch 68/100\n",
      "25/25 - 0s - loss: 0.7224 - accuracy: 0.7247 - val_loss: 1.3633 - val_accuracy: 0.5354 - 63ms/epoch - 3ms/step\n",
      "Epoch 69/100\n",
      "25/25 - 0s - loss: 0.6812 - accuracy: 0.7449 - val_loss: 1.1590 - val_accuracy: 0.5808 - 63ms/epoch - 3ms/step\n",
      "Epoch 70/100\n",
      "25/25 - 0s - loss: 0.7106 - accuracy: 0.7071 - val_loss: 1.3057 - val_accuracy: 0.5606 - 63ms/epoch - 3ms/step\n",
      "Epoch 71/100\n",
      "25/25 - 0s - loss: 0.7409 - accuracy: 0.6907 - val_loss: 1.2907 - val_accuracy: 0.5152 - 69ms/epoch - 3ms/step\n",
      "Epoch 72/100\n",
      "25/25 - 0s - loss: 0.7215 - accuracy: 0.7071 - val_loss: 1.3712 - val_accuracy: 0.5354 - 61ms/epoch - 2ms/step\n",
      "Epoch 73/100\n",
      "25/25 - 0s - loss: 0.7462 - accuracy: 0.6793 - val_loss: 1.5197 - val_accuracy: 0.5000 - 58ms/epoch - 2ms/step\n",
      "Epoch 74/100\n",
      "25/25 - 0s - loss: 0.7018 - accuracy: 0.7121 - val_loss: 1.4727 - val_accuracy: 0.5000 - 66ms/epoch - 3ms/step\n",
      "Epoch 75/100\n",
      "25/25 - 0s - loss: 0.7473 - accuracy: 0.6894 - val_loss: 1.4245 - val_accuracy: 0.4949 - 66ms/epoch - 3ms/step\n",
      "Epoch 76/100\n",
      "25/25 - 0s - loss: 0.7333 - accuracy: 0.6970 - val_loss: 1.4594 - val_accuracy: 0.5253 - 64ms/epoch - 3ms/step\n",
      "Epoch 77/100\n",
      "25/25 - 0s - loss: 0.6890 - accuracy: 0.7184 - val_loss: 1.5340 - val_accuracy: 0.5101 - 63ms/epoch - 3ms/step\n",
      "Epoch 78/100\n",
      "25/25 - 0s - loss: 0.7034 - accuracy: 0.7096 - val_loss: 1.4191 - val_accuracy: 0.5505 - 63ms/epoch - 3ms/step\n",
      "Epoch 79/100\n",
      "25/25 - 0s - loss: 0.6927 - accuracy: 0.7121 - val_loss: 1.2722 - val_accuracy: 0.5556 - 54ms/epoch - 2ms/step\n",
      "Epoch 80/100\n",
      "25/25 - 0s - loss: 0.6740 - accuracy: 0.7285 - val_loss: 1.2689 - val_accuracy: 0.6162 - 67ms/epoch - 3ms/step\n",
      "Epoch 81/100\n",
      "25/25 - 0s - loss: 0.6626 - accuracy: 0.7235 - val_loss: 1.3939 - val_accuracy: 0.5657 - 66ms/epoch - 3ms/step\n",
      "Epoch 82/100\n",
      "25/25 - 0s - loss: 0.6502 - accuracy: 0.7247 - val_loss: 1.3929 - val_accuracy: 0.5455 - 67ms/epoch - 3ms/step\n",
      "Epoch 83/100\n",
      "25/25 - 0s - loss: 0.6399 - accuracy: 0.7298 - val_loss: 1.6928 - val_accuracy: 0.4949 - 64ms/epoch - 3ms/step\n",
      "Epoch 84/100\n",
      "25/25 - 0s - loss: 0.6717 - accuracy: 0.7361 - val_loss: 1.2378 - val_accuracy: 0.5808 - 65ms/epoch - 3ms/step\n",
      "Epoch 85/100\n",
      "25/25 - 0s - loss: 0.6742 - accuracy: 0.7311 - val_loss: 1.2065 - val_accuracy: 0.5859 - 65ms/epoch - 3ms/step\n",
      "Epoch 86/100\n",
      "25/25 - 0s - loss: 0.6125 - accuracy: 0.7715 - val_loss: 1.4994 - val_accuracy: 0.5253 - 63ms/epoch - 3ms/step\n",
      "Epoch 87/100\n",
      "25/25 - 0s - loss: 0.6439 - accuracy: 0.7538 - val_loss: 1.3915 - val_accuracy: 0.5758 - 64ms/epoch - 3ms/step\n",
      "Epoch 88/100\n",
      "25/25 - 0s - loss: 0.6214 - accuracy: 0.7538 - val_loss: 1.4883 - val_accuracy: 0.5152 - 62ms/epoch - 2ms/step\n",
      "Epoch 89/100\n",
      "25/25 - 0s - loss: 0.6152 - accuracy: 0.7424 - val_loss: 1.6649 - val_accuracy: 0.5051 - 64ms/epoch - 3ms/step\n",
      "Epoch 90/100\n",
      "25/25 - 0s - loss: 0.6344 - accuracy: 0.7475 - val_loss: 1.2870 - val_accuracy: 0.5404 - 62ms/epoch - 2ms/step\n",
      "Epoch 91/100\n",
      "25/25 - 0s - loss: 0.7019 - accuracy: 0.7184 - val_loss: 1.4700 - val_accuracy: 0.5404 - 64ms/epoch - 3ms/step\n",
      "Epoch 92/100\n",
      "25/25 - 0s - loss: 0.6250 - accuracy: 0.7311 - val_loss: 1.5771 - val_accuracy: 0.5404 - 62ms/epoch - 2ms/step\n",
      "Epoch 93/100\n",
      "25/25 - 0s - loss: 0.6046 - accuracy: 0.7626 - val_loss: 1.3507 - val_accuracy: 0.5808 - 62ms/epoch - 2ms/step\n",
      "Epoch 94/100\n",
      "25/25 - 0s - loss: 0.6422 - accuracy: 0.7399 - val_loss: 1.5070 - val_accuracy: 0.5354 - 62ms/epoch - 2ms/step\n",
      "Epoch 95/100\n",
      "25/25 - 0s - loss: 0.6170 - accuracy: 0.7487 - val_loss: 1.5313 - val_accuracy: 0.5152 - 64ms/epoch - 3ms/step\n",
      "Epoch 96/100\n",
      "25/25 - 0s - loss: 0.6546 - accuracy: 0.7058 - val_loss: 1.4961 - val_accuracy: 0.5707 - 62ms/epoch - 2ms/step\n",
      "Epoch 97/100\n",
      "25/25 - 0s - loss: 0.6023 - accuracy: 0.7462 - val_loss: 1.6265 - val_accuracy: 0.4899 - 78ms/epoch - 3ms/step\n",
      "Epoch 98/100\n",
      "25/25 - 0s - loss: 0.5788 - accuracy: 0.7588 - val_loss: 1.3799 - val_accuracy: 0.5505 - 58ms/epoch - 2ms/step\n",
      "Epoch 99/100\n",
      "25/25 - 0s - loss: 0.6352 - accuracy: 0.7500 - val_loss: 1.7756 - val_accuracy: 0.5000 - 65ms/epoch - 3ms/step\n",
      "Epoch 100/100\n",
      "25/25 - 0s - loss: 0.6198 - accuracy: 0.7538 - val_loss: 1.6393 - val_accuracy: 0.5404 - 61ms/epoch - 2ms/step\n"
     ]
    },
    {
     "data": {
      "text/plain": [
       "<keras.callbacks.History at 0x260b6e23a90>"
      ]
     },
     "execution_count": 11,
     "metadata": {},
     "output_type": "execute_result"
    }
   ],
   "source": [
    "#neural network for vowel = df5\n",
    "total_length=len(df5)\n",
    "train_length=int(0.8*total_length)\n",
    "test_length=int(0.2*total_length)\n",
    "\n",
    "x5_normalized=normalize(x5,axis=0)\n",
    "x_train57=x5_normalized[:train_length]\n",
    "x_test57=x5_normalized[train_length:]\n",
    "y_train57=y5[:train_length]\n",
    "y_test57=y5[train_length:]\n",
    "\n",
    "y_train57copy = y_train57\n",
    "d = {'had':0, 'hed':1, 'hid':2, 'hud':3, 'hOd':4, 'hod':5, 'hAd':6, 'hEd':7, 'hId':8, 'hUd':9, 'hYd':10}\n",
    "y_train57copy=[d[i] for i in y_train57copy]\n",
    "y_test57copy = y_test57\n",
    "y_test57copy=[d[i] for i in y_test57copy]\n",
    "\n",
    "y_train57copy=np_utils.to_categorical(y_train57copy,num_classes=11)\n",
    "y_test57copy=np_utils.to_categorical(y_test57copy,num_classes=11)\n",
    "\n",
    "model57=Sequential()\n",
    "model57.add(Dense(500,input_dim=10,activation='relu'))\n",
    "model57.add(Dense(300,activation='relu'))\n",
    "model57.add(Dense(100,activation='relu'))\n",
    "model57.add(Dropout(0.8))\n",
    "model57.add(Dense(11,activation='softmax'))\n",
    "model57.compile(loss='categorical_crossentropy',optimizer='adam',metrics=['accuracy'])\n",
    "model57.fit(x_train57,y_train57copy,validation_data=(x_test57,y_test57copy),batch_size=32,epochs=100,verbose=2)"
   ]
  },
  {
   "cell_type": "code",
   "execution_count": 12,
   "id": "299e084c",
   "metadata": {},
   "outputs": [
    {
     "name": "stdout",
     "output_type": "stream",
     "text": [
      "Accuracy : 54.04040404040404\n"
     ]
    }
   ],
   "source": [
    "prediction=model57.predict(x_test57)\n",
    "length=len(prediction)\n",
    "y_label=np.argmax(y_test57copy,axis=1)\n",
    "predict_label=np.argmax(prediction,axis=1)\n",
    "\n",
    "accuracy=np.sum(y_label==predict_label)/length * 100 \n",
    "print(\"Accuracy :\",accuracy )"
   ]
  },
  {
   "cell_type": "code",
   "execution_count": null,
   "id": "b36c3363",
   "metadata": {},
   "outputs": [],
   "source": []
  }
 ],
 "metadata": {
  "kernelspec": {
   "display_name": "Python 3 (ipykernel)",
   "language": "python",
   "name": "python3"
  },
  "language_info": {
   "codemirror_mode": {
    "name": "ipython",
    "version": 3
   },
   "file_extension": ".py",
   "mimetype": "text/x-python",
   "name": "python",
   "nbconvert_exporter": "python",
   "pygments_lexer": "ipython3",
   "version": "3.10.4"
  }
 },
 "nbformat": 4,
 "nbformat_minor": 5
}
