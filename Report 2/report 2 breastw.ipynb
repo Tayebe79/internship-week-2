{
 "cells": [
  {
   "cell_type": "code",
   "execution_count": 1,
   "id": "eae7cf51",
   "metadata": {},
   "outputs": [],
   "source": [
    "import pandas as pd\n",
    "import numpy as np\n",
    "from sklearn.linear_model import LinearRegression\n",
    "from sklearn.preprocessing import PolynomialFeatures\n",
    "from sklearn.model_selection import train_test_split\n",
    "from sklearn.metrics import accuracy_score,confusion_matrix\n",
    "from sklearn.metrics import precision_score, recall_score, f1_score, accuracy_score\n",
    "import matplotlib.pyplot as plt\n",
    "\n",
    "csv_file1 = 'datasetsForReport2/breastw.csv'\n",
    "\n",
    "df1 = pd.read_csv(csv_file1)"
   ]
  },
  {
   "cell_type": "code",
   "execution_count": 2,
   "id": "093d2678",
   "metadata": {},
   "outputs": [],
   "source": [
    "df1 = df1.drop(labels=[617,321,315,297,294,275,249,235,158,164,145,139,40,23,292,411], axis=0)\n",
    "df1['Bare_Nuclei'] = pd.to_numeric(df1['Bare_Nuclei'])\n",
    "x1=df1.iloc[:,:9]\n",
    "y1=df1.iloc[:,9]\n",
    "x_train1,x_test1,y_train1,y_test1=train_test_split(x1,y1,random_state=0)"
   ]
  },
  {
   "cell_type": "code",
   "execution_count": 3,
   "id": "e56ac654",
   "metadata": {},
   "outputs": [
    {
     "name": "stdout",
     "output_type": "stream",
     "text": [
      "Accuracy: 0.94737\n"
     ]
    }
   ],
   "source": [
    "#Logistic Regression for breastw = df1\n",
    "from sklearn.linear_model import LogisticRegression\n",
    "model11=LogisticRegression()\n",
    "model11.fit(x_train1,y_train1)\n",
    "y_pred11=model11.predict(x_test1)\n",
    "print('Accuracy: %.5f' % accuracy_score(y_test1, y_pred11))"
   ]
  },
  {
   "cell_type": "code",
   "execution_count": 4,
   "id": "6a1d96a6",
   "metadata": {},
   "outputs": [
    {
     "name": "stdout",
     "output_type": "stream",
     "text": [
      "Accuracy: 0.95322\n"
     ]
    }
   ],
   "source": [
    "#Random forest for breastw = df1\n",
    "from sklearn.ensemble import RandomForestClassifier \n",
    "model12= RandomForestClassifier(random_state = 100)\n",
    "model12= RandomForestClassifier(random_state = 100)\n",
    "model12.fit(x_train1,y_train1)\n",
    "y_pred12=model12.predict(x_test1)\n",
    "print('Accuracy: %.5f' % accuracy_score(y_test1, y_pred12))"
   ]
  },
  {
   "cell_type": "code",
   "execution_count": 5,
   "id": "1ac82d85",
   "metadata": {},
   "outputs": [
    {
     "name": "stdout",
     "output_type": "stream",
     "text": [
      "Accuracy: 0.95322\n"
     ]
    }
   ],
   "source": [
    "#SVG for breastw = df1\n",
    "from sklearn.svm import SVC\n",
    "model13=SVC()\n",
    "model13.fit(x_train1,y_train1)\n",
    "y_pred13=model13.predict(x_test1)\n",
    "print('Accuracy: %.5f' % accuracy_score(y_test1, y_pred13))"
   ]
  },
  {
   "cell_type": "code",
   "execution_count": 6,
   "id": "10993fd7",
   "metadata": {},
   "outputs": [
    {
     "name": "stdout",
     "output_type": "stream",
     "text": [
      "The accuracy for optimal k = 7 using brute is 94.73684210526315\n"
     ]
    }
   ],
   "source": [
    "#KNN for breastw = df1\n",
    "from sklearn.neighbors import KNeighborsClassifier\n",
    "from sklearn.model_selection import cross_val_score\n",
    "cv_scores = []\n",
    "neighbors = list(np.arange(3,50,2))\n",
    "for n in neighbors:\n",
    "    knn = KNeighborsClassifier(n_neighbors = n,algorithm = 'brute')\n",
    "    \n",
    "    cross_val = cross_val_score(knn,x_train1,y_train1,cv = 5 , scoring = 'accuracy')\n",
    "    cv_scores.append(cross_val.mean())\n",
    "    \n",
    "error = [1-x for x in cv_scores]\n",
    "optimal_n = neighbors[ error.index(min(error)) ]\n",
    "knn_optimal = KNeighborsClassifier(n_neighbors = optimal_n,algorithm = 'brute')\n",
    "knn_optimal.fit(x_train1,y_train1)\n",
    "y_pred14 = knn_optimal.predict(x_test1)\n",
    "acc = accuracy_score(y_test1,y_pred14)*100\n",
    "print(\"The accuracy for optimal k = {0} using brute is {1}\".format(optimal_n,acc))"
   ]
  },
  {
   "cell_type": "code",
   "execution_count": 7,
   "id": "30cd69ed",
   "metadata": {},
   "outputs": [
    {
     "name": "stdout",
     "output_type": "stream",
     "text": [
      "Accuracy: 0.94737\n"
     ]
    }
   ],
   "source": [
    "#Decision tree for breastw = df1\n",
    "from sklearn.tree import DecisionTreeClassifier\n",
    "model15 = DecisionTreeClassifier()\n",
    "model15.fit(x_train1,y_train1)\n",
    "y_pred15=model15.predict(x_test1)\n",
    "print('Accuracy: %.5f' % accuracy_score(y_test1, y_pred15))"
   ]
  },
  {
   "cell_type": "code",
   "execution_count": 8,
   "id": "8fb9f55a",
   "metadata": {},
   "outputs": [
    {
     "name": "stdout",
     "output_type": "stream",
     "text": [
      "Accuracy: 0.95322\n"
     ]
    }
   ],
   "source": [
    "#xgboost for breastw = df1\n",
    "from numpy import loadtxt\n",
    "from xgboost import XGBClassifier\n",
    "model16 = XGBClassifier()\n",
    "\n",
    "y_train1copy = y_train1\n",
    "d = {'benign':0, 'malignant':1}\n",
    "y_train1copy=[d[i] for i in y_train1copy]\n",
    "y_test1copy = y_test1\n",
    "y_test1copy=[d[i] for i in y_test1copy]\n",
    "\n",
    "model16.fit(x_train1,y_train1copy)\n",
    "y_pred16=model16.predict(x_test1)\n",
    "print('Accuracy: %.5f' % accuracy_score(y_test1copy, y_pred16))"
   ]
  },
  {
   "cell_type": "code",
   "execution_count": 9,
   "id": "e9a53f30",
   "metadata": {},
   "outputs": [],
   "source": [
    "import keras\n",
    "import seaborn as sns\n",
    "from sklearn.preprocessing import normalize\n",
    "\n",
    "from keras.models import Sequential \n",
    "from keras.layers import Dense,Activation,Dropout \n",
    "from tensorflow.keras.layers import BatchNormalization\n",
    "from keras.utils import np_utils"
   ]
  },
  {
   "cell_type": "code",
   "execution_count": 10,
   "id": "bdac48a8",
   "metadata": {},
   "outputs": [
    {
     "name": "stdout",
     "output_type": "stream",
     "text": [
      "Epoch 1/100\n",
      "18/18 - 1s - loss: 0.5435 - accuracy: 0.8791 - val_loss: 0.1633 - val_accuracy: 1.0000 - 1s/epoch - 78ms/step\n",
      "Epoch 2/100\n",
      "18/18 - 0s - loss: 0.1519 - accuracy: 0.9469 - val_loss: 0.0206 - val_accuracy: 0.9927 - 114ms/epoch - 6ms/step\n",
      "Epoch 3/100\n",
      "18/18 - 0s - loss: 0.1288 - accuracy: 0.9524 - val_loss: 0.0987 - val_accuracy: 0.9343 - 113ms/epoch - 6ms/step\n",
      "Epoch 4/100\n",
      "18/18 - 0s - loss: 0.1765 - accuracy: 0.9414 - val_loss: 0.0176 - val_accuracy: 1.0000 - 102ms/epoch - 6ms/step\n",
      "Epoch 5/100\n",
      "18/18 - 0s - loss: 0.1051 - accuracy: 0.9560 - val_loss: 0.0594 - val_accuracy: 0.9854 - 116ms/epoch - 6ms/step\n",
      "Epoch 6/100\n",
      "18/18 - 0s - loss: 0.1123 - accuracy: 0.9689 - val_loss: 0.0132 - val_accuracy: 1.0000 - 110ms/epoch - 6ms/step\n",
      "Epoch 7/100\n",
      "18/18 - 0s - loss: 0.1159 - accuracy: 0.9634 - val_loss: 0.0160 - val_accuracy: 1.0000 - 104ms/epoch - 6ms/step\n",
      "Epoch 8/100\n",
      "18/18 - 0s - loss: 0.0996 - accuracy: 0.9670 - val_loss: 0.0238 - val_accuracy: 0.9927 - 109ms/epoch - 6ms/step\n",
      "Epoch 9/100\n",
      "18/18 - 0s - loss: 0.0921 - accuracy: 0.9652 - val_loss: 0.0177 - val_accuracy: 1.0000 - 108ms/epoch - 6ms/step\n",
      "Epoch 10/100\n",
      "18/18 - 0s - loss: 0.0896 - accuracy: 0.9670 - val_loss: 0.0190 - val_accuracy: 1.0000 - 110ms/epoch - 6ms/step\n",
      "Epoch 11/100\n",
      "18/18 - 0s - loss: 0.0890 - accuracy: 0.9652 - val_loss: 0.0185 - val_accuracy: 1.0000 - 111ms/epoch - 6ms/step\n",
      "Epoch 12/100\n",
      "18/18 - 0s - loss: 0.0851 - accuracy: 0.9725 - val_loss: 0.0173 - val_accuracy: 1.0000 - 108ms/epoch - 6ms/step\n",
      "Epoch 13/100\n",
      "18/18 - 0s - loss: 0.0831 - accuracy: 0.9707 - val_loss: 0.0145 - val_accuracy: 1.0000 - 111ms/epoch - 6ms/step\n",
      "Epoch 14/100\n",
      "18/18 - 0s - loss: 0.0883 - accuracy: 0.9670 - val_loss: 0.0183 - val_accuracy: 1.0000 - 108ms/epoch - 6ms/step\n",
      "Epoch 15/100\n",
      "18/18 - 0s - loss: 0.0828 - accuracy: 0.9707 - val_loss: 0.0231 - val_accuracy: 0.9854 - 119ms/epoch - 7ms/step\n",
      "Epoch 16/100\n",
      "18/18 - 0s - loss: 0.0819 - accuracy: 0.9707 - val_loss: 0.0168 - val_accuracy: 1.0000 - 99ms/epoch - 5ms/step\n",
      "Epoch 17/100\n",
      "18/18 - 0s - loss: 0.1211 - accuracy: 0.9505 - val_loss: 0.0411 - val_accuracy: 0.9781 - 134ms/epoch - 7ms/step\n",
      "Epoch 18/100\n",
      "18/18 - 0s - loss: 0.0920 - accuracy: 0.9725 - val_loss: 0.0344 - val_accuracy: 0.9854 - 109ms/epoch - 6ms/step\n",
      "Epoch 19/100\n",
      "18/18 - 0s - loss: 0.0905 - accuracy: 0.9689 - val_loss: 0.0147 - val_accuracy: 1.0000 - 110ms/epoch - 6ms/step\n",
      "Epoch 20/100\n",
      "18/18 - 0s - loss: 0.0927 - accuracy: 0.9670 - val_loss: 0.0253 - val_accuracy: 1.0000 - 113ms/epoch - 6ms/step\n",
      "Epoch 21/100\n",
      "18/18 - 0s - loss: 0.1342 - accuracy: 0.9615 - val_loss: 0.0349 - val_accuracy: 0.9854 - 119ms/epoch - 7ms/step\n",
      "Epoch 22/100\n",
      "18/18 - 0s - loss: 0.0869 - accuracy: 0.9744 - val_loss: 0.0204 - val_accuracy: 0.9854 - 109ms/epoch - 6ms/step\n",
      "Epoch 23/100\n",
      "18/18 - 0s - loss: 0.1162 - accuracy: 0.9670 - val_loss: 0.0355 - val_accuracy: 0.9854 - 109ms/epoch - 6ms/step\n",
      "Epoch 24/100\n",
      "18/18 - 0s - loss: 0.0914 - accuracy: 0.9689 - val_loss: 0.0251 - val_accuracy: 0.9854 - 108ms/epoch - 6ms/step\n",
      "Epoch 25/100\n",
      "18/18 - 0s - loss: 0.0834 - accuracy: 0.9725 - val_loss: 0.0160 - val_accuracy: 1.0000 - 108ms/epoch - 6ms/step\n",
      "Epoch 26/100\n",
      "18/18 - 0s - loss: 0.0825 - accuracy: 0.9744 - val_loss: 0.0199 - val_accuracy: 0.9854 - 109ms/epoch - 6ms/step\n",
      "Epoch 27/100\n",
      "18/18 - 0s - loss: 0.0789 - accuracy: 0.9744 - val_loss: 0.0219 - val_accuracy: 0.9854 - 109ms/epoch - 6ms/step\n",
      "Epoch 28/100\n",
      "18/18 - 0s - loss: 0.0819 - accuracy: 0.9725 - val_loss: 0.0179 - val_accuracy: 1.0000 - 112ms/epoch - 6ms/step\n",
      "Epoch 29/100\n",
      "18/18 - 0s - loss: 0.0799 - accuracy: 0.9725 - val_loss: 0.0322 - val_accuracy: 0.9854 - 110ms/epoch - 6ms/step\n",
      "Epoch 30/100\n",
      "18/18 - 0s - loss: 0.0835 - accuracy: 0.9725 - val_loss: 0.0257 - val_accuracy: 0.9854 - 110ms/epoch - 6ms/step\n",
      "Epoch 31/100\n",
      "18/18 - 0s - loss: 0.0832 - accuracy: 0.9725 - val_loss: 0.0206 - val_accuracy: 0.9927 - 107ms/epoch - 6ms/step\n",
      "Epoch 32/100\n",
      "18/18 - 0s - loss: 0.0798 - accuracy: 0.9689 - val_loss: 0.0171 - val_accuracy: 1.0000 - 106ms/epoch - 6ms/step\n",
      "Epoch 33/100\n",
      "18/18 - 0s - loss: 0.0789 - accuracy: 0.9744 - val_loss: 0.0187 - val_accuracy: 0.9927 - 109ms/epoch - 6ms/step\n",
      "Epoch 34/100\n",
      "18/18 - 0s - loss: 0.0791 - accuracy: 0.9744 - val_loss: 0.0241 - val_accuracy: 0.9854 - 109ms/epoch - 6ms/step\n",
      "Epoch 35/100\n",
      "18/18 - 0s - loss: 0.0815 - accuracy: 0.9762 - val_loss: 0.0217 - val_accuracy: 0.9854 - 107ms/epoch - 6ms/step\n",
      "Epoch 36/100\n",
      "18/18 - 0s - loss: 0.0806 - accuracy: 0.9670 - val_loss: 0.0310 - val_accuracy: 0.9854 - 113ms/epoch - 6ms/step\n",
      "Epoch 37/100\n",
      "18/18 - 0s - loss: 0.0861 - accuracy: 0.9707 - val_loss: 0.0394 - val_accuracy: 0.9854 - 112ms/epoch - 6ms/step\n",
      "Epoch 38/100\n",
      "18/18 - 0s - loss: 0.0818 - accuracy: 0.9744 - val_loss: 0.0189 - val_accuracy: 0.9927 - 108ms/epoch - 6ms/step\n",
      "Epoch 39/100\n",
      "18/18 - 0s - loss: 0.0797 - accuracy: 0.9707 - val_loss: 0.0196 - val_accuracy: 0.9927 - 109ms/epoch - 6ms/step\n",
      "Epoch 40/100\n",
      "18/18 - 0s - loss: 0.0886 - accuracy: 0.9634 - val_loss: 0.0209 - val_accuracy: 1.0000 - 107ms/epoch - 6ms/step\n",
      "Epoch 41/100\n",
      "18/18 - 0s - loss: 0.0786 - accuracy: 0.9707 - val_loss: 0.0218 - val_accuracy: 0.9854 - 107ms/epoch - 6ms/step\n",
      "Epoch 42/100\n",
      "18/18 - 0s - loss: 0.0987 - accuracy: 0.9652 - val_loss: 0.0314 - val_accuracy: 0.9854 - 107ms/epoch - 6ms/step\n",
      "Epoch 43/100\n",
      "18/18 - 0s - loss: 0.0818 - accuracy: 0.9634 - val_loss: 0.0192 - val_accuracy: 0.9854 - 108ms/epoch - 6ms/step\n",
      "Epoch 44/100\n",
      "18/18 - 0s - loss: 0.0889 - accuracy: 0.9707 - val_loss: 0.0224 - val_accuracy: 0.9854 - 104ms/epoch - 6ms/step\n",
      "Epoch 45/100\n",
      "18/18 - 0s - loss: 0.0778 - accuracy: 0.9762 - val_loss: 0.0189 - val_accuracy: 1.0000 - 114ms/epoch - 6ms/step\n",
      "Epoch 46/100\n",
      "18/18 - 0s - loss: 0.0945 - accuracy: 0.9652 - val_loss: 0.0209 - val_accuracy: 1.0000 - 114ms/epoch - 6ms/step\n",
      "Epoch 47/100\n",
      "18/18 - 0s - loss: 0.0860 - accuracy: 0.9707 - val_loss: 0.0206 - val_accuracy: 0.9927 - 111ms/epoch - 6ms/step\n",
      "Epoch 48/100\n",
      "18/18 - 0s - loss: 0.0811 - accuracy: 0.9725 - val_loss: 0.0214 - val_accuracy: 1.0000 - 107ms/epoch - 6ms/step\n",
      "Epoch 49/100\n",
      "18/18 - 0s - loss: 0.1346 - accuracy: 0.9670 - val_loss: 0.0491 - val_accuracy: 0.9854 - 112ms/epoch - 6ms/step\n",
      "Epoch 50/100\n",
      "18/18 - 0s - loss: 0.0936 - accuracy: 0.9670 - val_loss: 0.0264 - val_accuracy: 0.9854 - 112ms/epoch - 6ms/step\n",
      "Epoch 51/100\n",
      "18/18 - 0s - loss: 0.0887 - accuracy: 0.9725 - val_loss: 0.0260 - val_accuracy: 0.9854 - 108ms/epoch - 6ms/step\n",
      "Epoch 52/100\n",
      "18/18 - 0s - loss: 0.0788 - accuracy: 0.9725 - val_loss: 0.0195 - val_accuracy: 0.9927 - 112ms/epoch - 6ms/step\n",
      "Epoch 53/100\n",
      "18/18 - 0s - loss: 0.1164 - accuracy: 0.9560 - val_loss: 0.0447 - val_accuracy: 0.9854 - 113ms/epoch - 6ms/step\n",
      "Epoch 54/100\n",
      "18/18 - 0s - loss: 0.0906 - accuracy: 0.9670 - val_loss: 0.0232 - val_accuracy: 0.9854 - 113ms/epoch - 6ms/step\n",
      "Epoch 55/100\n",
      "18/18 - 0s - loss: 0.0803 - accuracy: 0.9744 - val_loss: 0.0165 - val_accuracy: 1.0000 - 106ms/epoch - 6ms/step\n",
      "Epoch 56/100\n",
      "18/18 - 0s - loss: 0.0802 - accuracy: 0.9707 - val_loss: 0.0271 - val_accuracy: 0.9854 - 110ms/epoch - 6ms/step\n",
      "Epoch 57/100\n",
      "18/18 - 0s - loss: 0.0760 - accuracy: 0.9744 - val_loss: 0.0150 - val_accuracy: 1.0000 - 112ms/epoch - 6ms/step\n",
      "Epoch 58/100\n",
      "18/18 - 0s - loss: 0.0824 - accuracy: 0.9725 - val_loss: 0.0243 - val_accuracy: 0.9854 - 114ms/epoch - 6ms/step\n",
      "Epoch 59/100\n",
      "18/18 - 0s - loss: 0.0756 - accuracy: 0.9762 - val_loss: 0.0152 - val_accuracy: 1.0000 - 111ms/epoch - 6ms/step\n",
      "Epoch 60/100\n",
      "18/18 - 0s - loss: 0.0776 - accuracy: 0.9744 - val_loss: 0.0196 - val_accuracy: 0.9927 - 111ms/epoch - 6ms/step\n",
      "Epoch 61/100\n",
      "18/18 - 0s - loss: 0.0754 - accuracy: 0.9725 - val_loss: 0.0223 - val_accuracy: 0.9927 - 112ms/epoch - 6ms/step\n",
      "Epoch 62/100\n",
      "18/18 - 0s - loss: 0.0779 - accuracy: 0.9744 - val_loss: 0.0244 - val_accuracy: 0.9854 - 117ms/epoch - 6ms/step\n",
      "Epoch 63/100\n",
      "18/18 - 0s - loss: 0.0928 - accuracy: 0.9707 - val_loss: 0.0151 - val_accuracy: 1.0000 - 127ms/epoch - 7ms/step\n",
      "Epoch 64/100\n",
      "18/18 - 0s - loss: 0.0771 - accuracy: 0.9707 - val_loss: 0.0192 - val_accuracy: 0.9927 - 109ms/epoch - 6ms/step\n",
      "Epoch 65/100\n",
      "18/18 - 0s - loss: 0.0790 - accuracy: 0.9725 - val_loss: 0.0222 - val_accuracy: 0.9854 - 110ms/epoch - 6ms/step\n",
      "Epoch 66/100\n",
      "18/18 - 0s - loss: 0.0828 - accuracy: 0.9725 - val_loss: 0.0219 - val_accuracy: 0.9854 - 125ms/epoch - 7ms/step\n"
     ]
    },
    {
     "name": "stdout",
     "output_type": "stream",
     "text": [
      "Epoch 67/100\n",
      "18/18 - 0s - loss: 0.0817 - accuracy: 0.9670 - val_loss: 0.0251 - val_accuracy: 0.9854 - 103ms/epoch - 6ms/step\n",
      "Epoch 68/100\n",
      "18/18 - 0s - loss: 0.0797 - accuracy: 0.9689 - val_loss: 0.0169 - val_accuracy: 1.0000 - 113ms/epoch - 6ms/step\n",
      "Epoch 69/100\n",
      "18/18 - 0s - loss: 0.0765 - accuracy: 0.9707 - val_loss: 0.0296 - val_accuracy: 0.9854 - 111ms/epoch - 6ms/step\n",
      "Epoch 70/100\n",
      "18/18 - 0s - loss: 0.0793 - accuracy: 0.9744 - val_loss: 0.0222 - val_accuracy: 1.0000 - 113ms/epoch - 6ms/step\n",
      "Epoch 71/100\n",
      "18/18 - 0s - loss: 0.0818 - accuracy: 0.9725 - val_loss: 0.0230 - val_accuracy: 0.9854 - 110ms/epoch - 6ms/step\n",
      "Epoch 72/100\n",
      "18/18 - 0s - loss: 0.0777 - accuracy: 0.9725 - val_loss: 0.0244 - val_accuracy: 0.9854 - 109ms/epoch - 6ms/step\n",
      "Epoch 73/100\n",
      "18/18 - 0s - loss: 0.0890 - accuracy: 0.9670 - val_loss: 0.0354 - val_accuracy: 0.9854 - 110ms/epoch - 6ms/step\n",
      "Epoch 74/100\n",
      "18/18 - 0s - loss: 0.0882 - accuracy: 0.9670 - val_loss: 0.0119 - val_accuracy: 1.0000 - 129ms/epoch - 7ms/step\n",
      "Epoch 75/100\n",
      "18/18 - 0s - loss: 0.0984 - accuracy: 0.9634 - val_loss: 0.0269 - val_accuracy: 0.9854 - 105ms/epoch - 6ms/step\n",
      "Epoch 76/100\n",
      "18/18 - 0s - loss: 0.0804 - accuracy: 0.9744 - val_loss: 0.0221 - val_accuracy: 0.9854 - 98ms/epoch - 5ms/step\n",
      "Epoch 77/100\n",
      "18/18 - 0s - loss: 0.0812 - accuracy: 0.9744 - val_loss: 0.0210 - val_accuracy: 0.9854 - 111ms/epoch - 6ms/step\n",
      "Epoch 78/100\n",
      "18/18 - 0s - loss: 0.0741 - accuracy: 0.9707 - val_loss: 0.0223 - val_accuracy: 0.9927 - 111ms/epoch - 6ms/step\n",
      "Epoch 79/100\n",
      "18/18 - 0s - loss: 0.0787 - accuracy: 0.9725 - val_loss: 0.0274 - val_accuracy: 0.9854 - 108ms/epoch - 6ms/step\n",
      "Epoch 80/100\n",
      "18/18 - 0s - loss: 0.0836 - accuracy: 0.9689 - val_loss: 0.0178 - val_accuracy: 1.0000 - 113ms/epoch - 6ms/step\n",
      "Epoch 81/100\n",
      "18/18 - 0s - loss: 0.0776 - accuracy: 0.9689 - val_loss: 0.0227 - val_accuracy: 0.9854 - 112ms/epoch - 6ms/step\n",
      "Epoch 82/100\n",
      "18/18 - 0s - loss: 0.0742 - accuracy: 0.9744 - val_loss: 0.0229 - val_accuracy: 0.9854 - 126ms/epoch - 7ms/step\n",
      "Epoch 83/100\n",
      "18/18 - 0s - loss: 0.0735 - accuracy: 0.9725 - val_loss: 0.0156 - val_accuracy: 1.0000 - 125ms/epoch - 7ms/step\n",
      "Epoch 84/100\n",
      "18/18 - 0s - loss: 0.0759 - accuracy: 0.9689 - val_loss: 0.0213 - val_accuracy: 0.9927 - 126ms/epoch - 7ms/step\n",
      "Epoch 85/100\n",
      "18/18 - 0s - loss: 0.0717 - accuracy: 0.9762 - val_loss: 0.0189 - val_accuracy: 0.9927 - 118ms/epoch - 7ms/step\n",
      "Epoch 86/100\n",
      "18/18 - 0s - loss: 0.0728 - accuracy: 0.9725 - val_loss: 0.0223 - val_accuracy: 0.9854 - 105ms/epoch - 6ms/step\n",
      "Epoch 87/100\n",
      "18/18 - 0s - loss: 0.0691 - accuracy: 0.9744 - val_loss: 0.0141 - val_accuracy: 1.0000 - 114ms/epoch - 6ms/step\n",
      "Epoch 88/100\n",
      "18/18 - 0s - loss: 0.0687 - accuracy: 0.9725 - val_loss: 0.0265 - val_accuracy: 0.9854 - 102ms/epoch - 6ms/step\n",
      "Epoch 89/100\n",
      "18/18 - 0s - loss: 0.0784 - accuracy: 0.9707 - val_loss: 0.0351 - val_accuracy: 0.9854 - 114ms/epoch - 6ms/step\n",
      "Epoch 90/100\n",
      "18/18 - 0s - loss: 0.4177 - accuracy: 0.7857 - val_loss: 0.0709 - val_accuracy: 1.0000 - 113ms/epoch - 6ms/step\n",
      "Epoch 91/100\n",
      "18/18 - 0s - loss: 0.1166 - accuracy: 0.9670 - val_loss: 0.0128 - val_accuracy: 1.0000 - 113ms/epoch - 6ms/step\n",
      "Epoch 92/100\n",
      "18/18 - 0s - loss: 0.0846 - accuracy: 0.9707 - val_loss: 0.0169 - val_accuracy: 1.0000 - 128ms/epoch - 7ms/step\n",
      "Epoch 93/100\n",
      "18/18 - 0s - loss: 0.0843 - accuracy: 0.9707 - val_loss: 0.0177 - val_accuracy: 0.9854 - 103ms/epoch - 6ms/step\n",
      "Epoch 94/100\n",
      "18/18 - 0s - loss: 0.0810 - accuracy: 0.9744 - val_loss: 0.0186 - val_accuracy: 1.0000 - 100ms/epoch - 6ms/step\n",
      "Epoch 95/100\n",
      "18/18 - 0s - loss: 0.0861 - accuracy: 0.9725 - val_loss: 0.0204 - val_accuracy: 1.0000 - 115ms/epoch - 6ms/step\n",
      "Epoch 96/100\n",
      "18/18 - 0s - loss: 0.0803 - accuracy: 0.9707 - val_loss: 0.0240 - val_accuracy: 0.9854 - 115ms/epoch - 6ms/step\n",
      "Epoch 97/100\n",
      "18/18 - 0s - loss: 0.0788 - accuracy: 0.9707 - val_loss: 0.0187 - val_accuracy: 1.0000 - 152ms/epoch - 8ms/step\n",
      "Epoch 98/100\n",
      "18/18 - 0s - loss: 0.0799 - accuracy: 0.9762 - val_loss: 0.0181 - val_accuracy: 0.9854 - 129ms/epoch - 7ms/step\n",
      "Epoch 99/100\n",
      "18/18 - 0s - loss: 0.0834 - accuracy: 0.9670 - val_loss: 0.0210 - val_accuracy: 0.9854 - 122ms/epoch - 7ms/step\n",
      "Epoch 100/100\n",
      "18/18 - 0s - loss: 0.0833 - accuracy: 0.9744 - val_loss: 0.0214 - val_accuracy: 0.9854 - 120ms/epoch - 7ms/step\n"
     ]
    },
    {
     "data": {
      "text/plain": [
       "<keras.callbacks.History at 0x1e2a077b0d0>"
      ]
     },
     "execution_count": 10,
     "metadata": {},
     "output_type": "execute_result"
    }
   ],
   "source": [
    "#neural network for breastw = df1\n",
    "total_length=len(df1)\n",
    "train_length=int(0.8*total_length)\n",
    "test_length=int(0.2*total_length)\n",
    "\n",
    "x1_normalized=normalize(x1,axis=0)\n",
    "x_train17=x1_normalized[:train_length]\n",
    "x_test17=x1_normalized[train_length:]\n",
    "y_train17=y1[:train_length]\n",
    "y_test17=y1[train_length:]\n",
    "\n",
    "y_train17copy = y_train17\n",
    "d = {'benign':0, 'malignant':1}\n",
    "y_train17copy=[d[i] for i in y_train17copy]\n",
    "y_test17copy = y_test17\n",
    "y_test17copy=[d[i] for i in y_test17copy]\n",
    "\n",
    "y_train17copy=np_utils.to_categorical(y_train17copy,num_classes=2)\n",
    "y_test17copy=np_utils.to_categorical(y_test17copy,num_classes=2)\n",
    "\n",
    "model17=Sequential()\n",
    "model17.add(Dense(1000,input_dim=9,activation='relu'))\n",
    "model17.add(Dense(500,activation='relu'))\n",
    "model17.add(Dense(300,activation='relu'))\n",
    "model17.add(Dropout(0.2))\n",
    "model17.add(Dense(2,activation='softmax'))\n",
    "model17.compile(loss='categorical_crossentropy',optimizer='adam',metrics=['accuracy'])\n",
    "model17.fit(x_train17,y_train17copy,validation_data=(x_test17,y_test17copy),batch_size=32,epochs=100,verbose=2)"
   ]
  },
  {
   "cell_type": "code",
   "execution_count": 11,
   "id": "5cc6705f",
   "metadata": {},
   "outputs": [
    {
     "name": "stdout",
     "output_type": "stream",
     "text": [
      "Accuracy : 98.54014598540147\n"
     ]
    }
   ],
   "source": [
    "prediction=model17.predict(x_test17)\n",
    "length=len(prediction)\n",
    "y_label=np.argmax(y_test17copy,axis=1)\n",
    "predict_label=np.argmax(prediction,axis=1)\n",
    "\n",
    "accuracy=np.sum(y_label==predict_label)/length * 100 \n",
    "print(\"Accuracy :\",accuracy )"
   ]
  },
  {
   "cell_type": "code",
   "execution_count": null,
   "id": "45af4228",
   "metadata": {},
   "outputs": [],
   "source": []
  }
 ],
 "metadata": {
  "kernelspec": {
   "display_name": "Python 3 (ipykernel)",
   "language": "python",
   "name": "python3"
  },
  "language_info": {
   "codemirror_mode": {
    "name": "ipython",
    "version": 3
   },
   "file_extension": ".py",
   "mimetype": "text/x-python",
   "name": "python",
   "nbconvert_exporter": "python",
   "pygments_lexer": "ipython3",
   "version": "3.10.4"
  }
 },
 "nbformat": 4,
 "nbformat_minor": 5
}
