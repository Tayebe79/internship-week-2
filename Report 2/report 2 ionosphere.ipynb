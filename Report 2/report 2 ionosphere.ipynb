{
 "cells": [
  {
   "cell_type": "code",
   "execution_count": 1,
   "id": "492bb5e1",
   "metadata": {},
   "outputs": [],
   "source": [
    "import pandas as pd\n",
    "import numpy as np\n",
    "from sklearn.linear_model import LinearRegression\n",
    "from sklearn.preprocessing import PolynomialFeatures\n",
    "from sklearn.model_selection import train_test_split\n",
    "from sklearn.metrics import accuracy_score,confusion_matrix\n",
    "from sklearn.metrics import precision_score, recall_score, f1_score, accuracy_score\n",
    "import matplotlib.pyplot as plt\n",
    "\n",
    "csv_file9 = 'datasetsForReport2/ionosphere.data'\n",
    "\n",
    "df9 = pd.read_csv(csv_file9)"
   ]
  },
  {
   "cell_type": "code",
   "execution_count": 2,
   "id": "d9074b0a",
   "metadata": {},
   "outputs": [],
   "source": [
    "df9 = df9.drop('1',axis=1)\n",
    "df9 = df9.drop('0',axis=1)"
   ]
  },
  {
   "cell_type": "code",
   "execution_count": 3,
   "id": "9ad48263",
   "metadata": {},
   "outputs": [],
   "source": [
    "x9=df9.iloc[:,:32]\n",
    "y9=df9.iloc[:,32]\n",
    "x_train9,x_test9,y_train9,y_test9=train_test_split(x9,y9,random_state=0)"
   ]
  },
  {
   "cell_type": "code",
   "execution_count": 4,
   "id": "fa4dc56a",
   "metadata": {},
   "outputs": [
    {
     "name": "stdout",
     "output_type": "stream",
     "text": [
      "Accuracy: 0.89773\n"
     ]
    }
   ],
   "source": [
    "#Logistic Regression for ionosphere = df9\n",
    "from sklearn.linear_model import LogisticRegression\n",
    "model91=LogisticRegression()\n",
    "model91.fit(x_train9,y_train9)\n",
    "y_pred91=model91.predict(x_test9)\n",
    "print('Accuracy: %.5f' % accuracy_score(y_test9, y_pred91))"
   ]
  },
  {
   "cell_type": "code",
   "execution_count": 5,
   "id": "1199f5e5",
   "metadata": {},
   "outputs": [
    {
     "name": "stdout",
     "output_type": "stream",
     "text": [
      "Accuracy: 0.98864\n"
     ]
    }
   ],
   "source": [
    "#Random forest for ionosphere = df9\n",
    "from sklearn.ensemble import RandomForestClassifier \n",
    "model92= RandomForestClassifier(random_state = 100)\n",
    "model92= RandomForestClassifier(random_state = 100)\n",
    "model92.fit(x_train9,y_train9)\n",
    "y_pred92=model92.predict(x_test9)\n",
    "print('Accuracy: %.5f' % accuracy_score(y_test9, y_pred92))"
   ]
  },
  {
   "cell_type": "code",
   "execution_count": 6,
   "id": "cebbc6e0",
   "metadata": {},
   "outputs": [
    {
     "name": "stdout",
     "output_type": "stream",
     "text": [
      "Accuracy: 0.98864\n"
     ]
    }
   ],
   "source": [
    "#SVG for ionosphere = df9\n",
    "from sklearn.svm import SVC\n",
    "model93=SVC()\n",
    "model93.fit(x_train9,y_train9)\n",
    "y_pred93=model93.predict(x_test9)\n",
    "print('Accuracy: %.5f' % accuracy_score(y_test9, y_pred93))"
   ]
  },
  {
   "cell_type": "code",
   "execution_count": 7,
   "id": "6a44aa34",
   "metadata": {},
   "outputs": [
    {
     "name": "stdout",
     "output_type": "stream",
     "text": [
      "The accuracy for optimal k = 3 using brute is 93.18181818181817\n"
     ]
    }
   ],
   "source": [
    "#KNN for ionosphere = df9\n",
    "from sklearn.neighbors import KNeighborsClassifier\n",
    "from sklearn.model_selection import cross_val_score\n",
    "cv_scores = []\n",
    "neighbors = list(np.arange(3,50,2))\n",
    "for n in neighbors:\n",
    "    knn = KNeighborsClassifier(n_neighbors = n,algorithm = 'brute')\n",
    "    \n",
    "    cross_val = cross_val_score(knn,x_train9,y_train9,cv = 5 , scoring = 'accuracy')\n",
    "    cv_scores.append(cross_val.mean())\n",
    "    \n",
    "error = [1-x for x in cv_scores]\n",
    "optimal_n = neighbors[ error.index(min(error)) ]\n",
    "knn_optimal = KNeighborsClassifier(n_neighbors = optimal_n,algorithm = 'brute')\n",
    "knn_optimal.fit(x_train9,y_train9)\n",
    "y_pred94 = knn_optimal.predict(x_test9)\n",
    "acc = accuracy_score(y_test9,y_pred94)*100\n",
    "print(\"The accuracy for optimal k = {0} using brute is {1}\".format(optimal_n,acc))"
   ]
  },
  {
   "cell_type": "code",
   "execution_count": 8,
   "id": "e0cd43a8",
   "metadata": {},
   "outputs": [
    {
     "name": "stdout",
     "output_type": "stream",
     "text": [
      "Accuracy: 0.92045\n"
     ]
    }
   ],
   "source": [
    "#Decision tree for ionosphere = df9\n",
    "from sklearn.tree import DecisionTreeClassifier\n",
    "model95 = DecisionTreeClassifier()\n",
    "model95.fit(x_train9,y_train9)\n",
    "y_pred95=model95.predict(x_test9)\n",
    "print('Accuracy: %.5f' % accuracy_score(y_test9, y_pred95))"
   ]
  },
  {
   "cell_type": "code",
   "execution_count": 9,
   "id": "2cc22a3b",
   "metadata": {},
   "outputs": [
    {
     "name": "stdout",
     "output_type": "stream",
     "text": [
      "Accuracy: 0.98864\n"
     ]
    }
   ],
   "source": [
    "#xgboost for ionosphere = df9\n",
    "from numpy import loadtxt\n",
    "from xgboost import XGBClassifier\n",
    "model96 = XGBClassifier()\n",
    "\n",
    "y_train9copy = y_train9\n",
    "d = {'g':0, 'b':1}\n",
    "y_train9copy=[d[i] for i in y_train9copy]\n",
    "y_test9copy = y_test9\n",
    "y_test9copy=[d[i] for i in y_test9copy]\n",
    "\n",
    "model96.fit(x_train9,y_train9copy)\n",
    "y_pred96=model96.predict(x_test9)\n",
    "print('Accuracy: %.5f' % accuracy_score(y_test9copy, y_pred96))"
   ]
  },
  {
   "cell_type": "code",
   "execution_count": 10,
   "id": "6ae0d1cd",
   "metadata": {},
   "outputs": [],
   "source": [
    "import keras\n",
    "import seaborn as sns\n",
    "from sklearn.preprocessing import normalize\n",
    "\n",
    "from keras.models import Sequential \n",
    "from keras.layers import Dense,Activation,Dropout \n",
    "from tensorflow.keras.layers import BatchNormalization\n",
    "from keras.utils import np_utils"
   ]
  },
  {
   "cell_type": "code",
   "execution_count": 11,
   "id": "9fc7f636",
   "metadata": {},
   "outputs": [
    {
     "name": "stdout",
     "output_type": "stream",
     "text": [
      "Epoch 1/100\n",
      "9/9 - 1s - loss: 0.6785 - accuracy: 0.6179 - val_loss: 0.6317 - val_accuracy: 0.9857 - 567ms/epoch - 63ms/step\n",
      "Epoch 2/100\n",
      "9/9 - 0s - loss: 0.6240 - accuracy: 0.8000 - val_loss: 0.5484 - val_accuracy: 0.9571 - 40ms/epoch - 4ms/step\n",
      "Epoch 3/100\n",
      "9/9 - 0s - loss: 0.5553 - accuracy: 0.8179 - val_loss: 0.4665 - val_accuracy: 0.9000 - 37ms/epoch - 4ms/step\n",
      "Epoch 4/100\n",
      "9/9 - 0s - loss: 0.4247 - accuracy: 0.8571 - val_loss: 0.3194 - val_accuracy: 0.9714 - 40ms/epoch - 4ms/step\n",
      "Epoch 5/100\n",
      "9/9 - 0s - loss: 0.2986 - accuracy: 0.9000 - val_loss: 0.1894 - val_accuracy: 0.9714 - 39ms/epoch - 4ms/step\n",
      "Epoch 6/100\n",
      "9/9 - 0s - loss: 0.2326 - accuracy: 0.9250 - val_loss: 0.0972 - val_accuracy: 0.9857 - 40ms/epoch - 4ms/step\n",
      "Epoch 7/100\n",
      "9/9 - 0s - loss: 0.2173 - accuracy: 0.9321 - val_loss: 0.1293 - val_accuracy: 0.9714 - 39ms/epoch - 4ms/step\n",
      "Epoch 8/100\n",
      "9/9 - 0s - loss: 0.1841 - accuracy: 0.9429 - val_loss: 0.1201 - val_accuracy: 0.9857 - 37ms/epoch - 4ms/step\n",
      "Epoch 9/100\n",
      "9/9 - 0s - loss: 0.1497 - accuracy: 0.9607 - val_loss: 0.0530 - val_accuracy: 0.9857 - 38ms/epoch - 4ms/step\n",
      "Epoch 10/100\n",
      "9/9 - 0s - loss: 0.1397 - accuracy: 0.9679 - val_loss: 0.1576 - val_accuracy: 0.9429 - 37ms/epoch - 4ms/step\n",
      "Epoch 11/100\n",
      "9/9 - 0s - loss: 0.1301 - accuracy: 0.9536 - val_loss: 0.0236 - val_accuracy: 1.0000 - 36ms/epoch - 4ms/step\n",
      "Epoch 12/100\n",
      "9/9 - 0s - loss: 0.1293 - accuracy: 0.9714 - val_loss: 0.0991 - val_accuracy: 0.9857 - 36ms/epoch - 4ms/step\n",
      "Epoch 13/100\n",
      "9/9 - 0s - loss: 0.1041 - accuracy: 0.9714 - val_loss: 0.0238 - val_accuracy: 1.0000 - 48ms/epoch - 5ms/step\n",
      "Epoch 14/100\n",
      "9/9 - 0s - loss: 0.1014 - accuracy: 0.9643 - val_loss: 0.0927 - val_accuracy: 0.9714 - 40ms/epoch - 4ms/step\n",
      "Epoch 15/100\n",
      "9/9 - 0s - loss: 0.1201 - accuracy: 0.9571 - val_loss: 0.0217 - val_accuracy: 1.0000 - 38ms/epoch - 4ms/step\n",
      "Epoch 16/100\n",
      "9/9 - 0s - loss: 0.0926 - accuracy: 0.9821 - val_loss: 0.0791 - val_accuracy: 0.9714 - 40ms/epoch - 4ms/step\n",
      "Epoch 17/100\n",
      "9/9 - 0s - loss: 0.0730 - accuracy: 0.9893 - val_loss: 0.0344 - val_accuracy: 0.9857 - 40ms/epoch - 4ms/step\n",
      "Epoch 18/100\n",
      "9/9 - 0s - loss: 0.0797 - accuracy: 0.9786 - val_loss: 0.0535 - val_accuracy: 0.9857 - 39ms/epoch - 4ms/step\n",
      "Epoch 19/100\n",
      "9/9 - 0s - loss: 0.0635 - accuracy: 0.9857 - val_loss: 0.0214 - val_accuracy: 0.9857 - 40ms/epoch - 4ms/step\n",
      "Epoch 20/100\n",
      "9/9 - 0s - loss: 0.0780 - accuracy: 0.9786 - val_loss: 0.0513 - val_accuracy: 0.9714 - 38ms/epoch - 4ms/step\n",
      "Epoch 21/100\n",
      "9/9 - 0s - loss: 0.0666 - accuracy: 0.9786 - val_loss: 0.0099 - val_accuracy: 1.0000 - 39ms/epoch - 4ms/step\n",
      "Epoch 22/100\n",
      "9/9 - 0s - loss: 0.0824 - accuracy: 0.9679 - val_loss: 0.0850 - val_accuracy: 0.9714 - 40ms/epoch - 4ms/step\n",
      "Epoch 23/100\n",
      "9/9 - 0s - loss: 0.0861 - accuracy: 0.9786 - val_loss: 0.0122 - val_accuracy: 1.0000 - 39ms/epoch - 4ms/step\n",
      "Epoch 24/100\n",
      "9/9 - 0s - loss: 0.0783 - accuracy: 0.9786 - val_loss: 0.0354 - val_accuracy: 0.9857 - 40ms/epoch - 4ms/step\n",
      "Epoch 25/100\n",
      "9/9 - 0s - loss: 0.0574 - accuracy: 0.9857 - val_loss: 0.0690 - val_accuracy: 0.9857 - 36ms/epoch - 4ms/step\n",
      "Epoch 26/100\n",
      "9/9 - 0s - loss: 0.0443 - accuracy: 0.9893 - val_loss: 0.0185 - val_accuracy: 0.9857 - 39ms/epoch - 4ms/step\n",
      "Epoch 27/100\n",
      "9/9 - 0s - loss: 0.0453 - accuracy: 0.9893 - val_loss: 0.0327 - val_accuracy: 0.9857 - 39ms/epoch - 4ms/step\n",
      "Epoch 28/100\n",
      "9/9 - 0s - loss: 0.0525 - accuracy: 0.9893 - val_loss: 0.0370 - val_accuracy: 0.9857 - 37ms/epoch - 4ms/step\n",
      "Epoch 29/100\n",
      "9/9 - 0s - loss: 0.0314 - accuracy: 0.9929 - val_loss: 0.0145 - val_accuracy: 1.0000 - 40ms/epoch - 4ms/step\n",
      "Epoch 30/100\n",
      "9/9 - 0s - loss: 0.0328 - accuracy: 0.9929 - val_loss: 0.0376 - val_accuracy: 0.9857 - 39ms/epoch - 4ms/step\n",
      "Epoch 31/100\n",
      "9/9 - 0s - loss: 0.0344 - accuracy: 0.9964 - val_loss: 0.0145 - val_accuracy: 1.0000 - 40ms/epoch - 4ms/step\n",
      "Epoch 32/100\n",
      "9/9 - 0s - loss: 0.0338 - accuracy: 0.9929 - val_loss: 0.0183 - val_accuracy: 0.9857 - 39ms/epoch - 4ms/step\n",
      "Epoch 33/100\n",
      "9/9 - 0s - loss: 0.0269 - accuracy: 0.9964 - val_loss: 0.0163 - val_accuracy: 0.9857 - 39ms/epoch - 4ms/step\n",
      "Epoch 34/100\n",
      "9/9 - 0s - loss: 0.0370 - accuracy: 0.9929 - val_loss: 0.0203 - val_accuracy: 0.9857 - 39ms/epoch - 4ms/step\n",
      "Epoch 35/100\n",
      "9/9 - 0s - loss: 0.0261 - accuracy: 0.9964 - val_loss: 0.0072 - val_accuracy: 1.0000 - 36ms/epoch - 4ms/step\n",
      "Epoch 36/100\n",
      "9/9 - 0s - loss: 0.0243 - accuracy: 0.9964 - val_loss: 0.0549 - val_accuracy: 0.9857 - 39ms/epoch - 4ms/step\n",
      "Epoch 37/100\n",
      "9/9 - 0s - loss: 0.0362 - accuracy: 0.9929 - val_loss: 0.0117 - val_accuracy: 1.0000 - 39ms/epoch - 4ms/step\n",
      "Epoch 38/100\n",
      "9/9 - 0s - loss: 0.0192 - accuracy: 0.9964 - val_loss: 0.0134 - val_accuracy: 0.9857 - 39ms/epoch - 4ms/step\n",
      "Epoch 39/100\n",
      "9/9 - 0s - loss: 0.0314 - accuracy: 0.9929 - val_loss: 0.0509 - val_accuracy: 0.9857 - 38ms/epoch - 4ms/step\n",
      "Epoch 40/100\n",
      "9/9 - 0s - loss: 0.0202 - accuracy: 0.9964 - val_loss: 0.0123 - val_accuracy: 0.9857 - 40ms/epoch - 4ms/step\n",
      "Epoch 41/100\n",
      "9/9 - 0s - loss: 0.0217 - accuracy: 0.9964 - val_loss: 0.0350 - val_accuracy: 0.9857 - 37ms/epoch - 4ms/step\n",
      "Epoch 42/100\n",
      "9/9 - 0s - loss: 0.0294 - accuracy: 0.9929 - val_loss: 0.0088 - val_accuracy: 1.0000 - 38ms/epoch - 4ms/step\n",
      "Epoch 43/100\n",
      "9/9 - 0s - loss: 0.0493 - accuracy: 0.9857 - val_loss: 0.0639 - val_accuracy: 0.9857 - 37ms/epoch - 4ms/step\n",
      "Epoch 44/100\n",
      "9/9 - 0s - loss: 0.0625 - accuracy: 0.9893 - val_loss: 0.0159 - val_accuracy: 0.9857 - 38ms/epoch - 4ms/step\n",
      "Epoch 45/100\n",
      "9/9 - 0s - loss: 0.0298 - accuracy: 0.9929 - val_loss: 0.0031 - val_accuracy: 1.0000 - 38ms/epoch - 4ms/step\n",
      "Epoch 46/100\n",
      "9/9 - 0s - loss: 0.0405 - accuracy: 0.9964 - val_loss: 0.0768 - val_accuracy: 0.9714 - 39ms/epoch - 4ms/step\n",
      "Epoch 47/100\n",
      "9/9 - 0s - loss: 0.0233 - accuracy: 0.9964 - val_loss: 0.0238 - val_accuracy: 0.9857 - 38ms/epoch - 4ms/step\n",
      "Epoch 48/100\n",
      "9/9 - 0s - loss: 0.0185 - accuracy: 0.9929 - val_loss: 0.0169 - val_accuracy: 0.9857 - 37ms/epoch - 4ms/step\n",
      "Epoch 49/100\n",
      "9/9 - 0s - loss: 0.0213 - accuracy: 0.9964 - val_loss: 0.1018 - val_accuracy: 0.9571 - 38ms/epoch - 4ms/step\n",
      "Epoch 50/100\n",
      "9/9 - 0s - loss: 0.0161 - accuracy: 0.9964 - val_loss: 0.0152 - val_accuracy: 0.9857 - 39ms/epoch - 4ms/step\n",
      "Epoch 51/100\n",
      "9/9 - 0s - loss: 0.0260 - accuracy: 0.9964 - val_loss: 0.0346 - val_accuracy: 0.9857 - 39ms/epoch - 4ms/step\n",
      "Epoch 52/100\n",
      "9/9 - 0s - loss: 0.0213 - accuracy: 0.9964 - val_loss: 0.0313 - val_accuracy: 0.9857 - 40ms/epoch - 4ms/step\n",
      "Epoch 53/100\n",
      "9/9 - 0s - loss: 0.0158 - accuracy: 0.9964 - val_loss: 0.0428 - val_accuracy: 0.9857 - 40ms/epoch - 4ms/step\n",
      "Epoch 54/100\n",
      "9/9 - 0s - loss: 0.0198 - accuracy: 0.9929 - val_loss: 0.0535 - val_accuracy: 0.9857 - 40ms/epoch - 4ms/step\n",
      "Epoch 55/100\n",
      "9/9 - 0s - loss: 0.0312 - accuracy: 0.9964 - val_loss: 0.0134 - val_accuracy: 1.0000 - 39ms/epoch - 4ms/step\n",
      "Epoch 56/100\n",
      "9/9 - 0s - loss: 0.0115 - accuracy: 1.0000 - val_loss: 0.0470 - val_accuracy: 0.9857 - 38ms/epoch - 4ms/step\n",
      "Epoch 57/100\n",
      "9/9 - 0s - loss: 0.0235 - accuracy: 0.9964 - val_loss: 0.0663 - val_accuracy: 0.9857 - 38ms/epoch - 4ms/step\n",
      "Epoch 58/100\n",
      "9/9 - 0s - loss: 0.0182 - accuracy: 0.9964 - val_loss: 0.0204 - val_accuracy: 0.9857 - 38ms/epoch - 4ms/step\n",
      "Epoch 59/100\n",
      "9/9 - 0s - loss: 0.0192 - accuracy: 0.9893 - val_loss: 0.0466 - val_accuracy: 0.9857 - 38ms/epoch - 4ms/step\n",
      "Epoch 60/100\n",
      "9/9 - 0s - loss: 0.0062 - accuracy: 1.0000 - val_loss: 0.0023 - val_accuracy: 1.0000 - 38ms/epoch - 4ms/step\n",
      "Epoch 61/100\n",
      "9/9 - 0s - loss: 0.0139 - accuracy: 0.9964 - val_loss: 0.0492 - val_accuracy: 0.9857 - 38ms/epoch - 4ms/step\n",
      "Epoch 62/100\n",
      "9/9 - 0s - loss: 0.0247 - accuracy: 0.9893 - val_loss: 0.0040 - val_accuracy: 1.0000 - 37ms/epoch - 4ms/step\n",
      "Epoch 63/100\n",
      "9/9 - 0s - loss: 0.0295 - accuracy: 0.9964 - val_loss: 0.0742 - val_accuracy: 0.9714 - 38ms/epoch - 4ms/step\n",
      "Epoch 64/100\n",
      "9/9 - 0s - loss: 0.0105 - accuracy: 1.0000 - val_loss: 0.0372 - val_accuracy: 0.9857 - 38ms/epoch - 4ms/step\n",
      "Epoch 65/100\n",
      "9/9 - 0s - loss: 0.0056 - accuracy: 1.0000 - val_loss: 0.0228 - val_accuracy: 0.9857 - 39ms/epoch - 4ms/step\n",
      "Epoch 66/100\n",
      "9/9 - 0s - loss: 0.0091 - accuracy: 0.9964 - val_loss: 0.1945 - val_accuracy: 0.9000 - 38ms/epoch - 4ms/step\n",
      "Epoch 67/100\n",
      "9/9 - 0s - loss: 0.0116 - accuracy: 0.9964 - val_loss: 0.0029 - val_accuracy: 1.0000 - 39ms/epoch - 4ms/step\n",
      "Epoch 68/100\n",
      "9/9 - 0s - loss: 0.0189 - accuracy: 0.9964 - val_loss: 0.0241 - val_accuracy: 0.9857 - 38ms/epoch - 4ms/step\n"
     ]
    },
    {
     "name": "stdout",
     "output_type": "stream",
     "text": [
      "Epoch 69/100\n",
      "9/9 - 0s - loss: 0.0086 - accuracy: 1.0000 - val_loss: 0.0683 - val_accuracy: 0.9714 - 38ms/epoch - 4ms/step\n",
      "Epoch 70/100\n",
      "9/9 - 0s - loss: 0.0272 - accuracy: 0.9929 - val_loss: 0.0363 - val_accuracy: 0.9857 - 36ms/epoch - 4ms/step\n",
      "Epoch 71/100\n",
      "9/9 - 0s - loss: 0.0229 - accuracy: 0.9964 - val_loss: 0.0040 - val_accuracy: 1.0000 - 37ms/epoch - 4ms/step\n",
      "Epoch 72/100\n",
      "9/9 - 0s - loss: 0.0301 - accuracy: 0.9893 - val_loss: 0.0670 - val_accuracy: 0.9857 - 38ms/epoch - 4ms/step\n",
      "Epoch 73/100\n",
      "9/9 - 0s - loss: 0.0345 - accuracy: 0.9857 - val_loss: 0.0340 - val_accuracy: 0.9857 - 37ms/epoch - 4ms/step\n",
      "Epoch 74/100\n",
      "9/9 - 0s - loss: 0.0467 - accuracy: 0.9893 - val_loss: 0.1129 - val_accuracy: 0.9571 - 37ms/epoch - 4ms/step\n",
      "Epoch 75/100\n",
      "9/9 - 0s - loss: 0.0247 - accuracy: 0.9893 - val_loss: 0.0199 - val_accuracy: 0.9857 - 38ms/epoch - 4ms/step\n",
      "Epoch 76/100\n",
      "9/9 - 0s - loss: 0.0159 - accuracy: 0.9929 - val_loss: 0.1074 - val_accuracy: 0.9714 - 36ms/epoch - 4ms/step\n",
      "Epoch 77/100\n",
      "9/9 - 0s - loss: 0.0170 - accuracy: 0.9929 - val_loss: 0.0188 - val_accuracy: 0.9857 - 38ms/epoch - 4ms/step\n",
      "Epoch 78/100\n",
      "9/9 - 0s - loss: 0.0061 - accuracy: 1.0000 - val_loss: 0.0317 - val_accuracy: 0.9857 - 38ms/epoch - 4ms/step\n",
      "Epoch 79/100\n",
      "9/9 - 0s - loss: 0.0054 - accuracy: 1.0000 - val_loss: 0.0183 - val_accuracy: 0.9857 - 38ms/epoch - 4ms/step\n",
      "Epoch 80/100\n",
      "9/9 - 0s - loss: 0.0117 - accuracy: 0.9964 - val_loss: 0.0155 - val_accuracy: 0.9857 - 37ms/epoch - 4ms/step\n",
      "Epoch 81/100\n",
      "9/9 - 0s - loss: 0.0065 - accuracy: 1.0000 - val_loss: 0.0943 - val_accuracy: 0.9571 - 38ms/epoch - 4ms/step\n",
      "Epoch 82/100\n",
      "9/9 - 0s - loss: 0.0073 - accuracy: 1.0000 - val_loss: 0.0215 - val_accuracy: 0.9857 - 39ms/epoch - 4ms/step\n",
      "Epoch 83/100\n",
      "9/9 - 0s - loss: 0.0138 - accuracy: 0.9964 - val_loss: 0.0218 - val_accuracy: 0.9857 - 37ms/epoch - 4ms/step\n",
      "Epoch 84/100\n",
      "9/9 - 0s - loss: 0.0036 - accuracy: 1.0000 - val_loss: 0.1062 - val_accuracy: 0.9714 - 37ms/epoch - 4ms/step\n",
      "Epoch 85/100\n",
      "9/9 - 0s - loss: 0.0065 - accuracy: 1.0000 - val_loss: 0.0351 - val_accuracy: 0.9857 - 37ms/epoch - 4ms/step\n",
      "Epoch 86/100\n",
      "9/9 - 0s - loss: 0.0047 - accuracy: 1.0000 - val_loss: 0.0235 - val_accuracy: 0.9857 - 37ms/epoch - 4ms/step\n",
      "Epoch 87/100\n",
      "9/9 - 0s - loss: 0.0214 - accuracy: 0.9964 - val_loss: 0.1763 - val_accuracy: 0.9286 - 38ms/epoch - 4ms/step\n",
      "Epoch 88/100\n",
      "9/9 - 0s - loss: 0.0109 - accuracy: 0.9964 - val_loss: 0.0450 - val_accuracy: 0.9857 - 42ms/epoch - 5ms/step\n",
      "Epoch 89/100\n",
      "9/9 - 0s - loss: 0.0132 - accuracy: 0.9964 - val_loss: 0.0747 - val_accuracy: 0.9714 - 38ms/epoch - 4ms/step\n",
      "Epoch 90/100\n",
      "9/9 - 0s - loss: 0.0029 - accuracy: 1.0000 - val_loss: 0.0804 - val_accuracy: 0.9714 - 36ms/epoch - 4ms/step\n",
      "Epoch 91/100\n",
      "9/9 - 0s - loss: 0.0043 - accuracy: 1.0000 - val_loss: 0.0399 - val_accuracy: 0.9857 - 36ms/epoch - 4ms/step\n",
      "Epoch 92/100\n",
      "9/9 - 0s - loss: 0.0046 - accuracy: 1.0000 - val_loss: 0.0550 - val_accuracy: 0.9857 - 36ms/epoch - 4ms/step\n",
      "Epoch 93/100\n",
      "9/9 - 0s - loss: 0.0038 - accuracy: 1.0000 - val_loss: 0.0419 - val_accuracy: 0.9857 - 37ms/epoch - 4ms/step\n",
      "Epoch 94/100\n",
      "9/9 - 0s - loss: 0.0026 - accuracy: 1.0000 - val_loss: 0.0419 - val_accuracy: 0.9857 - 37ms/epoch - 4ms/step\n",
      "Epoch 95/100\n",
      "9/9 - 0s - loss: 0.0045 - accuracy: 1.0000 - val_loss: 0.0416 - val_accuracy: 0.9857 - 37ms/epoch - 4ms/step\n",
      "Epoch 96/100\n",
      "9/9 - 0s - loss: 0.0020 - accuracy: 1.0000 - val_loss: 0.0409 - val_accuracy: 0.9857 - 37ms/epoch - 4ms/step\n",
      "Epoch 97/100\n",
      "9/9 - 0s - loss: 0.0019 - accuracy: 1.0000 - val_loss: 0.0445 - val_accuracy: 0.9857 - 38ms/epoch - 4ms/step\n",
      "Epoch 98/100\n",
      "9/9 - 0s - loss: 6.3838e-04 - accuracy: 1.0000 - val_loss: 0.0468 - val_accuracy: 0.9857 - 37ms/epoch - 4ms/step\n",
      "Epoch 99/100\n",
      "9/9 - 0s - loss: 0.0032 - accuracy: 1.0000 - val_loss: 0.0540 - val_accuracy: 0.9857 - 36ms/epoch - 4ms/step\n",
      "Epoch 100/100\n",
      "9/9 - 0s - loss: 0.0051 - accuracy: 1.0000 - val_loss: 0.0564 - val_accuracy: 0.9857 - 37ms/epoch - 4ms/step\n"
     ]
    },
    {
     "data": {
      "text/plain": [
       "<keras.callbacks.History at 0x1aa5b6e3040>"
      ]
     },
     "execution_count": 11,
     "metadata": {},
     "output_type": "execute_result"
    }
   ],
   "source": [
    "#neural network for ionosphere = df9\n",
    "total_length=len(df9)\n",
    "train_length=int(0.8*total_length)\n",
    "test_length=int(0.2*total_length)\n",
    "\n",
    "x9_normalized=normalize(x9,axis=0)\n",
    "x_train97=x9_normalized[:train_length]\n",
    "x_test97=x9_normalized[train_length:]\n",
    "y_train97=y9[:train_length]\n",
    "y_test97=y9[train_length:]\n",
    "\n",
    "y_train97copy = y_train97\n",
    "d = {'g':0, 'b':1}\n",
    "y_train97copy=[d[i] for i in y_train97copy]\n",
    "y_test97copy = y_test97\n",
    "y_test97copy=[d[i] for i in y_test97copy]\n",
    "\n",
    "y_train97copy=np_utils.to_categorical(y_train97copy,num_classes=2)\n",
    "y_test97copy=np_utils.to_categorical(y_test97copy,num_classes=2)\n",
    "\n",
    "model97=Sequential()\n",
    "model97.add(Dense(500,input_dim=32,activation='relu'))\n",
    "model97.add(Dense(300,activation='relu'))\n",
    "model97.add(Dense(100,activation='relu'))\n",
    "model97.add(Dropout(0.8))\n",
    "model97.add(Dense(2,activation='softmax'))\n",
    "model97.compile(loss='categorical_crossentropy',optimizer='adam',metrics=['accuracy'])\n",
    "model97.fit(x_train97,y_train97copy,validation_data=(x_test97,y_test97copy),batch_size=32,epochs=100,verbose=2)"
   ]
  },
  {
   "cell_type": "code",
   "execution_count": 12,
   "id": "d98a0517",
   "metadata": {},
   "outputs": [
    {
     "name": "stdout",
     "output_type": "stream",
     "text": [
      "Accuracy : 98.57142857142858\n"
     ]
    }
   ],
   "source": [
    "prediction=model97.predict(x_test97)\n",
    "length=len(prediction)\n",
    "y_label=np.argmax(y_test97copy,axis=1)\n",
    "predict_label=np.argmax(prediction,axis=1)\n",
    "\n",
    "accuracy=np.sum(y_label==predict_label)/length * 100 \n",
    "print(\"Accuracy :\",accuracy )"
   ]
  },
  {
   "cell_type": "code",
   "execution_count": null,
   "id": "bf42a3a3",
   "metadata": {},
   "outputs": [],
   "source": []
  }
 ],
 "metadata": {
  "kernelspec": {
   "display_name": "Python 3 (ipykernel)",
   "language": "python",
   "name": "python3"
  },
  "language_info": {
   "codemirror_mode": {
    "name": "ipython",
    "version": 3
   },
   "file_extension": ".py",
   "mimetype": "text/x-python",
   "name": "python",
   "nbconvert_exporter": "python",
   "pygments_lexer": "ipython3",
   "version": "3.10.4"
  }
 },
 "nbformat": 4,
 "nbformat_minor": 5
}
