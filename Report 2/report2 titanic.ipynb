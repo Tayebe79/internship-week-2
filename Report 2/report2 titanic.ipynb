{
 "cells": [
  {
   "cell_type": "code",
   "execution_count": 1,
   "id": "a1d4c0b5",
   "metadata": {},
   "outputs": [],
   "source": [
    "import pandas as pd\n",
    "import numpy as np\n",
    "from sklearn.linear_model import LinearRegression\n",
    "from sklearn.preprocessing import PolynomialFeatures\n",
    "from sklearn.model_selection import train_test_split\n",
    "from sklearn.metrics import accuracy_score,confusion_matrix\n",
    "from sklearn.metrics import precision_score, recall_score, f1_score, accuracy_score\n",
    "import matplotlib.pyplot as plt\n",
    "\n",
    "csv_file7 = 'datasetsForReport2/titanic.csv'\n",
    "\n",
    "df7 = pd.read_csv(csv_file7)"
   ]
  },
  {
   "cell_type": "code",
   "execution_count": 2,
   "id": "152dd102",
   "metadata": {},
   "outputs": [],
   "source": [
    "first_column = df7.pop('Survived')\n",
    "df7.insert(7, 'Survived', first_column)"
   ]
  },
  {
   "cell_type": "code",
   "execution_count": 3,
   "id": "732e9cf4",
   "metadata": {},
   "outputs": [],
   "source": [
    "d = {'male':0, 'female':1}\n",
    "df7['Sex']=[d[i] for i in df7['Sex']]\n",
    "df7 = df7.drop('Name',axis=1)"
   ]
  },
  {
   "cell_type": "code",
   "execution_count": 4,
   "id": "2a870392",
   "metadata": {},
   "outputs": [],
   "source": [
    "x7=df7.iloc[:,:6]\n",
    "y7=df7.iloc[:,6]\n",
    "x_train7,x_test7,y_train7,y_test7=train_test_split(x7,y7,random_state=0)"
   ]
  },
  {
   "cell_type": "code",
   "execution_count": 5,
   "id": "14c3eed4",
   "metadata": {},
   "outputs": [
    {
     "name": "stdout",
     "output_type": "stream",
     "text": [
      "Accuracy: 0.79730\n"
     ]
    }
   ],
   "source": [
    "#Logistic Regression for titanic = df7\n",
    "from sklearn.linear_model import LogisticRegression\n",
    "model71=LogisticRegression()\n",
    "model71.fit(x_train7,y_train7)\n",
    "y_pred71=model71.predict(x_test7)\n",
    "print('Accuracy: %.5f' % accuracy_score(y_test7, y_pred71))"
   ]
  },
  {
   "cell_type": "code",
   "execution_count": 6,
   "id": "9e1da553",
   "metadata": {},
   "outputs": [
    {
     "name": "stdout",
     "output_type": "stream",
     "text": [
      "Accuracy: 0.81532\n"
     ]
    }
   ],
   "source": [
    "#Random forest for titanic = df7\n",
    "from sklearn.ensemble import RandomForestClassifier \n",
    "model72= RandomForestClassifier(random_state = 100)\n",
    "model72= RandomForestClassifier(random_state = 100)\n",
    "model72.fit(x_train7,y_train7)\n",
    "y_pred72=model72.predict(x_test7)\n",
    "print('Accuracy: %.5f' % accuracy_score(y_test7, y_pred72))"
   ]
  },
  {
   "cell_type": "code",
   "execution_count": 7,
   "id": "611deec7",
   "metadata": {},
   "outputs": [
    {
     "name": "stdout",
     "output_type": "stream",
     "text": [
      "Accuracy: 0.68468\n"
     ]
    }
   ],
   "source": [
    "#SVG for titanic = df7\n",
    "from sklearn.svm import SVC\n",
    "model73=SVC()\n",
    "model73.fit(x_train7,y_train7)\n",
    "y_pred73=model73.predict(x_test7)\n",
    "print('Accuracy: %.5f' % accuracy_score(y_test7, y_pred73))"
   ]
  },
  {
   "cell_type": "code",
   "execution_count": 8,
   "id": "e8c381e1",
   "metadata": {},
   "outputs": [
    {
     "name": "stdout",
     "output_type": "stream",
     "text": [
      "The accuracy for optimal k = 7 using brute is 72.52252252252252\n"
     ]
    }
   ],
   "source": [
    "#KNN for titanic = df7\n",
    "from sklearn.neighbors import KNeighborsClassifier\n",
    "from sklearn.model_selection import cross_val_score\n",
    "cv_scores = []\n",
    "neighbors = list(np.arange(3,50,2))\n",
    "for n in neighbors:\n",
    "    knn = KNeighborsClassifier(n_neighbors = n,algorithm = 'brute')\n",
    "    \n",
    "    cross_val = cross_val_score(knn,x_train7,y_train7,cv = 5 , scoring = 'accuracy')\n",
    "    cv_scores.append(cross_val.mean())\n",
    "    \n",
    "error = [1-x for x in cv_scores]\n",
    "optimal_n = neighbors[ error.index(min(error)) ]\n",
    "knn_optimal = KNeighborsClassifier(n_neighbors = optimal_n,algorithm = 'brute')\n",
    "knn_optimal.fit(x_train7,y_train7)\n",
    "y_pred74 = knn_optimal.predict(x_test7)\n",
    "acc = accuracy_score(y_test7,y_pred74)*100\n",
    "print(\"The accuracy for optimal k = {0} using brute is {1}\".format(optimal_n,acc))"
   ]
  },
  {
   "cell_type": "code",
   "execution_count": 9,
   "id": "4411e1c4",
   "metadata": {},
   "outputs": [
    {
     "name": "stdout",
     "output_type": "stream",
     "text": [
      "Accuracy: 0.78829\n"
     ]
    }
   ],
   "source": [
    "#Decision tree for titanic = df7\n",
    "from sklearn.tree import DecisionTreeClassifier\n",
    "model75 = DecisionTreeClassifier()\n",
    "model75.fit(x_train7,y_train7)\n",
    "y_pred75=model75.predict(x_test7)\n",
    "print('Accuracy: %.5f' % accuracy_score(y_test7, y_pred75))"
   ]
  },
  {
   "cell_type": "code",
   "execution_count": 10,
   "id": "05d02188",
   "metadata": {},
   "outputs": [
    {
     "name": "stdout",
     "output_type": "stream",
     "text": [
      "Accuracy: 0.81081\n"
     ]
    }
   ],
   "source": [
    "#xgboost for titanic = df7\n",
    "from numpy import loadtxt\n",
    "from xgboost import XGBClassifier\n",
    "model76 = XGBClassifier()\n",
    "\n",
    "y_train7copy = y_train7\n",
    "y_test7copy = y_test7\n",
    "\n",
    "model76.fit(x_train7,y_train7copy)\n",
    "y_pred76=model76.predict(x_test7)\n",
    "print('Accuracy: %.5f' % accuracy_score(y_test7copy, y_pred76))"
   ]
  },
  {
   "cell_type": "code",
   "execution_count": 11,
   "id": "df6323c5",
   "metadata": {},
   "outputs": [],
   "source": [
    "import keras\n",
    "import seaborn as sns\n",
    "from sklearn.preprocessing import normalize\n",
    "\n",
    "from keras.models import Sequential \n",
    "from keras.layers import Dense,Activation,Dropout \n",
    "from tensorflow.keras.layers import BatchNormalization\n",
    "from keras.utils import np_utils"
   ]
  },
  {
   "cell_type": "code",
   "execution_count": 12,
   "id": "dd4060df",
   "metadata": {},
   "outputs": [
    {
     "name": "stdout",
     "output_type": "stream",
     "text": [
      "Epoch 1/100\n",
      "23/23 - 1s - loss: 0.6784 - accuracy: 0.6121 - val_loss: 0.6346 - val_accuracy: 0.6629 - 590ms/epoch - 26ms/step\n",
      "Epoch 2/100\n",
      "23/23 - 0s - loss: 0.6166 - accuracy: 0.6812 - val_loss: 0.5208 - val_accuracy: 0.8146 - 61ms/epoch - 3ms/step\n",
      "Epoch 3/100\n",
      "23/23 - 0s - loss: 0.5595 - accuracy: 0.7405 - val_loss: 0.4572 - val_accuracy: 0.8202 - 64ms/epoch - 3ms/step\n",
      "Epoch 4/100\n",
      "23/23 - 0s - loss: 0.5384 - accuracy: 0.7828 - val_loss: 0.4425 - val_accuracy: 0.8258 - 63ms/epoch - 3ms/step\n",
      "Epoch 5/100\n",
      "23/23 - 0s - loss: 0.5029 - accuracy: 0.7997 - val_loss: 0.4291 - val_accuracy: 0.8258 - 65ms/epoch - 3ms/step\n",
      "Epoch 6/100\n",
      "23/23 - 0s - loss: 0.5224 - accuracy: 0.7842 - val_loss: 0.4316 - val_accuracy: 0.8258 - 63ms/epoch - 3ms/step\n",
      "Epoch 7/100\n",
      "23/23 - 0s - loss: 0.4985 - accuracy: 0.7828 - val_loss: 0.4179 - val_accuracy: 0.8258 - 56ms/epoch - 2ms/step\n",
      "Epoch 8/100\n",
      "23/23 - 0s - loss: 0.5037 - accuracy: 0.7898 - val_loss: 0.4335 - val_accuracy: 0.8315 - 59ms/epoch - 3ms/step\n",
      "Epoch 9/100\n",
      "23/23 - 0s - loss: 0.5114 - accuracy: 0.7701 - val_loss: 0.4234 - val_accuracy: 0.8258 - 63ms/epoch - 3ms/step\n",
      "Epoch 10/100\n",
      "23/23 - 0s - loss: 0.5087 - accuracy: 0.7898 - val_loss: 0.4195 - val_accuracy: 0.8315 - 54ms/epoch - 2ms/step\n",
      "Epoch 11/100\n",
      "23/23 - 0s - loss: 0.4803 - accuracy: 0.7983 - val_loss: 0.4178 - val_accuracy: 0.8258 - 60ms/epoch - 3ms/step\n",
      "Epoch 12/100\n",
      "23/23 - 0s - loss: 0.4897 - accuracy: 0.7927 - val_loss: 0.4067 - val_accuracy: 0.8315 - 62ms/epoch - 3ms/step\n",
      "Epoch 13/100\n",
      "23/23 - 0s - loss: 0.5150 - accuracy: 0.7828 - val_loss: 0.4176 - val_accuracy: 0.8315 - 61ms/epoch - 3ms/step\n",
      "Epoch 14/100\n",
      "23/23 - 0s - loss: 0.4867 - accuracy: 0.7969 - val_loss: 0.4184 - val_accuracy: 0.8315 - 66ms/epoch - 3ms/step\n",
      "Epoch 15/100\n",
      "23/23 - 0s - loss: 0.4860 - accuracy: 0.7856 - val_loss: 0.3989 - val_accuracy: 0.8315 - 62ms/epoch - 3ms/step\n",
      "Epoch 16/100\n",
      "23/23 - 0s - loss: 0.4827 - accuracy: 0.7941 - val_loss: 0.4009 - val_accuracy: 0.8202 - 60ms/epoch - 3ms/step\n",
      "Epoch 17/100\n",
      "23/23 - 0s - loss: 0.4951 - accuracy: 0.7715 - val_loss: 0.4105 - val_accuracy: 0.8202 - 62ms/epoch - 3ms/step\n",
      "Epoch 18/100\n",
      "23/23 - 0s - loss: 0.4732 - accuracy: 0.8011 - val_loss: 0.3885 - val_accuracy: 0.8315 - 60ms/epoch - 3ms/step\n",
      "Epoch 19/100\n",
      "23/23 - 0s - loss: 0.4873 - accuracy: 0.7969 - val_loss: 0.4174 - val_accuracy: 0.8315 - 62ms/epoch - 3ms/step\n",
      "Epoch 20/100\n",
      "23/23 - 0s - loss: 0.4703 - accuracy: 0.7870 - val_loss: 0.3844 - val_accuracy: 0.8202 - 59ms/epoch - 3ms/step\n",
      "Epoch 21/100\n",
      "23/23 - 0s - loss: 0.4799 - accuracy: 0.8011 - val_loss: 0.3825 - val_accuracy: 0.8258 - 58ms/epoch - 3ms/step\n",
      "Epoch 22/100\n",
      "23/23 - 0s - loss: 0.4630 - accuracy: 0.8011 - val_loss: 0.3807 - val_accuracy: 0.8258 - 60ms/epoch - 3ms/step\n",
      "Epoch 23/100\n",
      "23/23 - 0s - loss: 0.4697 - accuracy: 0.7997 - val_loss: 0.3833 - val_accuracy: 0.8202 - 60ms/epoch - 3ms/step\n",
      "Epoch 24/100\n",
      "23/23 - 0s - loss: 0.4610 - accuracy: 0.7955 - val_loss: 0.3774 - val_accuracy: 0.8258 - 59ms/epoch - 3ms/step\n",
      "Epoch 25/100\n",
      "23/23 - 0s - loss: 0.4576 - accuracy: 0.8068 - val_loss: 0.3790 - val_accuracy: 0.8146 - 64ms/epoch - 3ms/step\n",
      "Epoch 26/100\n",
      "23/23 - 0s - loss: 0.4503 - accuracy: 0.7955 - val_loss: 0.3913 - val_accuracy: 0.8371 - 55ms/epoch - 2ms/step\n",
      "Epoch 27/100\n",
      "23/23 - 0s - loss: 0.4829 - accuracy: 0.7786 - val_loss: 0.4290 - val_accuracy: 0.8427 - 62ms/epoch - 3ms/step\n",
      "Epoch 28/100\n",
      "23/23 - 0s - loss: 0.4672 - accuracy: 0.8054 - val_loss: 0.3784 - val_accuracy: 0.8258 - 60ms/epoch - 3ms/step\n",
      "Epoch 29/100\n",
      "23/23 - 0s - loss: 0.4784 - accuracy: 0.7898 - val_loss: 0.3872 - val_accuracy: 0.8315 - 61ms/epoch - 3ms/step\n",
      "Epoch 30/100\n",
      "23/23 - 0s - loss: 0.4635 - accuracy: 0.8011 - val_loss: 0.3735 - val_accuracy: 0.8202 - 58ms/epoch - 3ms/step\n",
      "Epoch 31/100\n",
      "23/23 - 0s - loss: 0.4618 - accuracy: 0.7983 - val_loss: 0.3897 - val_accuracy: 0.8371 - 47ms/epoch - 2ms/step\n",
      "Epoch 32/100\n",
      "23/23 - 0s - loss: 0.4683 - accuracy: 0.7955 - val_loss: 0.3784 - val_accuracy: 0.8258 - 47ms/epoch - 2ms/step\n",
      "Epoch 33/100\n",
      "23/23 - 0s - loss: 0.4500 - accuracy: 0.8011 - val_loss: 0.3766 - val_accuracy: 0.8371 - 66ms/epoch - 3ms/step\n",
      "Epoch 34/100\n",
      "23/23 - 0s - loss: 0.4660 - accuracy: 0.8054 - val_loss: 0.3966 - val_accuracy: 0.8090 - 58ms/epoch - 3ms/step\n",
      "Epoch 35/100\n",
      "23/23 - 0s - loss: 0.4571 - accuracy: 0.8138 - val_loss: 0.3702 - val_accuracy: 0.8202 - 59ms/epoch - 3ms/step\n",
      "Epoch 36/100\n",
      "23/23 - 0s - loss: 0.4469 - accuracy: 0.8082 - val_loss: 0.3781 - val_accuracy: 0.8371 - 48ms/epoch - 2ms/step\n",
      "Epoch 37/100\n",
      "23/23 - 0s - loss: 0.4626 - accuracy: 0.7898 - val_loss: 0.4095 - val_accuracy: 0.8483 - 58ms/epoch - 3ms/step\n",
      "Epoch 38/100\n",
      "23/23 - 0s - loss: 0.4496 - accuracy: 0.8054 - val_loss: 0.3704 - val_accuracy: 0.8146 - 70ms/epoch - 3ms/step\n",
      "Epoch 39/100\n",
      "23/23 - 0s - loss: 0.4598 - accuracy: 0.8025 - val_loss: 0.3678 - val_accuracy: 0.8483 - 43ms/epoch - 2ms/step\n",
      "Epoch 40/100\n",
      "23/23 - 0s - loss: 0.4473 - accuracy: 0.8039 - val_loss: 0.3653 - val_accuracy: 0.8539 - 70ms/epoch - 3ms/step\n",
      "Epoch 41/100\n",
      "23/23 - 0s - loss: 0.4533 - accuracy: 0.8082 - val_loss: 0.3614 - val_accuracy: 0.8483 - 46ms/epoch - 2ms/step\n",
      "Epoch 42/100\n",
      "23/23 - 0s - loss: 0.4522 - accuracy: 0.8096 - val_loss: 0.3641 - val_accuracy: 0.8371 - 58ms/epoch - 3ms/step\n",
      "Epoch 43/100\n",
      "23/23 - 0s - loss: 0.4513 - accuracy: 0.7997 - val_loss: 0.3654 - val_accuracy: 0.8539 - 68ms/epoch - 3ms/step\n",
      "Epoch 44/100\n",
      "23/23 - 0s - loss: 0.4537 - accuracy: 0.7997 - val_loss: 0.3648 - val_accuracy: 0.8258 - 48ms/epoch - 2ms/step\n",
      "Epoch 45/100\n",
      "23/23 - 0s - loss: 0.4466 - accuracy: 0.8054 - val_loss: 0.3631 - val_accuracy: 0.8539 - 45ms/epoch - 2ms/step\n",
      "Epoch 46/100\n",
      "23/23 - 0s - loss: 0.4490 - accuracy: 0.8082 - val_loss: 0.3609 - val_accuracy: 0.8315 - 69ms/epoch - 3ms/step\n",
      "Epoch 47/100\n",
      "23/23 - 0s - loss: 0.4504 - accuracy: 0.8039 - val_loss: 0.3736 - val_accuracy: 0.8539 - 60ms/epoch - 3ms/step\n",
      "Epoch 48/100\n",
      "23/23 - 0s - loss: 0.4523 - accuracy: 0.8054 - val_loss: 0.4030 - val_accuracy: 0.8539 - 48ms/epoch - 2ms/step\n",
      "Epoch 49/100\n",
      "23/23 - 0s - loss: 0.4429 - accuracy: 0.8124 - val_loss: 0.3575 - val_accuracy: 0.8427 - 54ms/epoch - 2ms/step\n",
      "Epoch 50/100\n",
      "23/23 - 0s - loss: 0.4512 - accuracy: 0.8082 - val_loss: 0.3621 - val_accuracy: 0.8539 - 62ms/epoch - 3ms/step\n",
      "Epoch 51/100\n",
      "23/23 - 0s - loss: 0.4540 - accuracy: 0.8124 - val_loss: 0.3638 - val_accuracy: 0.8483 - 59ms/epoch - 3ms/step\n",
      "Epoch 52/100\n",
      "23/23 - 0s - loss: 0.4584 - accuracy: 0.8082 - val_loss: 0.3766 - val_accuracy: 0.8483 - 57ms/epoch - 2ms/step\n",
      "Epoch 53/100\n",
      "23/23 - 0s - loss: 0.4392 - accuracy: 0.8124 - val_loss: 0.3576 - val_accuracy: 0.8427 - 50ms/epoch - 2ms/step\n",
      "Epoch 54/100\n",
      "23/23 - 0s - loss: 0.4371 - accuracy: 0.8138 - val_loss: 0.3594 - val_accuracy: 0.8483 - 67ms/epoch - 3ms/step\n",
      "Epoch 55/100\n",
      "23/23 - 0s - loss: 0.4501 - accuracy: 0.8124 - val_loss: 0.3663 - val_accuracy: 0.8483 - 58ms/epoch - 3ms/step\n",
      "Epoch 56/100\n",
      "23/23 - 0s - loss: 0.4368 - accuracy: 0.8124 - val_loss: 0.3563 - val_accuracy: 0.8539 - 57ms/epoch - 2ms/step\n",
      "Epoch 57/100\n",
      "23/23 - 0s - loss: 0.4402 - accuracy: 0.8110 - val_loss: 0.3614 - val_accuracy: 0.8596 - 55ms/epoch - 2ms/step\n",
      "Epoch 58/100\n",
      "23/23 - 0s - loss: 0.4487 - accuracy: 0.8209 - val_loss: 0.3576 - val_accuracy: 0.8539 - 58ms/epoch - 3ms/step\n",
      "Epoch 59/100\n",
      "23/23 - 0s - loss: 0.4540 - accuracy: 0.7941 - val_loss: 0.3589 - val_accuracy: 0.8371 - 58ms/epoch - 3ms/step\n",
      "Epoch 60/100\n",
      "23/23 - 0s - loss: 0.4451 - accuracy: 0.8181 - val_loss: 0.3618 - val_accuracy: 0.8427 - 58ms/epoch - 3ms/step\n",
      "Epoch 61/100\n",
      "23/23 - 0s - loss: 0.4409 - accuracy: 0.8054 - val_loss: 0.3531 - val_accuracy: 0.8371 - 56ms/epoch - 2ms/step\n",
      "Epoch 62/100\n",
      "23/23 - 0s - loss: 0.4438 - accuracy: 0.8251 - val_loss: 0.3593 - val_accuracy: 0.8315 - 58ms/epoch - 3ms/step\n",
      "Epoch 63/100\n",
      "23/23 - 0s - loss: 0.4418 - accuracy: 0.8138 - val_loss: 0.3558 - val_accuracy: 0.8596 - 65ms/epoch - 3ms/step\n",
      "Epoch 64/100\n",
      "23/23 - 0s - loss: 0.4422 - accuracy: 0.8138 - val_loss: 0.3690 - val_accuracy: 0.8708 - 53ms/epoch - 2ms/step\n",
      "Epoch 65/100\n",
      "23/23 - 0s - loss: 0.4388 - accuracy: 0.8195 - val_loss: 0.3562 - val_accuracy: 0.8652 - 63ms/epoch - 3ms/step\n",
      "Epoch 66/100\n",
      "23/23 - 0s - loss: 0.4454 - accuracy: 0.8265 - val_loss: 0.3890 - val_accuracy: 0.8764 - 62ms/epoch - 3ms/step\n",
      "Epoch 67/100\n",
      "23/23 - 0s - loss: 0.4414 - accuracy: 0.8152 - val_loss: 0.3470 - val_accuracy: 0.8483 - 60ms/epoch - 3ms/step\n"
     ]
    },
    {
     "name": "stdout",
     "output_type": "stream",
     "text": [
      "Epoch 68/100\n",
      "23/23 - 0s - loss: 0.4386 - accuracy: 0.8152 - val_loss: 0.3515 - val_accuracy: 0.8539 - 57ms/epoch - 2ms/step\n",
      "Epoch 69/100\n",
      "23/23 - 0s - loss: 0.4394 - accuracy: 0.8152 - val_loss: 0.3548 - val_accuracy: 0.8483 - 56ms/epoch - 2ms/step\n",
      "Epoch 70/100\n",
      "23/23 - 0s - loss: 0.4378 - accuracy: 0.8110 - val_loss: 0.3434 - val_accuracy: 0.8596 - 60ms/epoch - 3ms/step\n",
      "Epoch 71/100\n",
      "23/23 - 0s - loss: 0.4413 - accuracy: 0.8209 - val_loss: 0.3514 - val_accuracy: 0.8371 - 57ms/epoch - 2ms/step\n",
      "Epoch 72/100\n",
      "23/23 - 0s - loss: 0.4446 - accuracy: 0.8138 - val_loss: 0.3571 - val_accuracy: 0.8708 - 60ms/epoch - 3ms/step\n",
      "Epoch 73/100\n",
      "23/23 - 0s - loss: 0.4526 - accuracy: 0.8138 - val_loss: 0.3698 - val_accuracy: 0.8539 - 51ms/epoch - 2ms/step\n",
      "Epoch 74/100\n",
      "23/23 - 0s - loss: 0.4291 - accuracy: 0.8181 - val_loss: 0.3496 - val_accuracy: 0.8315 - 58ms/epoch - 3ms/step\n",
      "Epoch 75/100\n",
      "23/23 - 0s - loss: 0.4430 - accuracy: 0.8138 - val_loss: 0.3440 - val_accuracy: 0.8539 - 62ms/epoch - 3ms/step\n",
      "Epoch 76/100\n",
      "23/23 - 0s - loss: 0.4332 - accuracy: 0.8166 - val_loss: 0.3415 - val_accuracy: 0.8539 - 61ms/epoch - 3ms/step\n",
      "Epoch 77/100\n",
      "23/23 - 0s - loss: 0.4337 - accuracy: 0.8181 - val_loss: 0.3488 - val_accuracy: 0.8539 - 60ms/epoch - 3ms/step\n",
      "Epoch 78/100\n",
      "23/23 - 0s - loss: 0.4255 - accuracy: 0.8195 - val_loss: 0.3447 - val_accuracy: 0.8539 - 59ms/epoch - 3ms/step\n",
      "Epoch 79/100\n",
      "23/23 - 0s - loss: 0.4290 - accuracy: 0.8195 - val_loss: 0.3447 - val_accuracy: 0.8596 - 57ms/epoch - 2ms/step\n",
      "Epoch 80/100\n",
      "23/23 - 0s - loss: 0.4253 - accuracy: 0.8181 - val_loss: 0.3804 - val_accuracy: 0.8539 - 63ms/epoch - 3ms/step\n",
      "Epoch 81/100\n",
      "23/23 - 0s - loss: 0.4589 - accuracy: 0.8152 - val_loss: 0.3688 - val_accuracy: 0.8539 - 60ms/epoch - 3ms/step\n",
      "Epoch 82/100\n",
      "23/23 - 0s - loss: 0.4307 - accuracy: 0.8209 - val_loss: 0.3412 - val_accuracy: 0.8483 - 58ms/epoch - 3ms/step\n",
      "Epoch 83/100\n",
      "23/23 - 0s - loss: 0.4222 - accuracy: 0.8293 - val_loss: 0.3457 - val_accuracy: 0.8483 - 60ms/epoch - 3ms/step\n",
      "Epoch 84/100\n",
      "23/23 - 0s - loss: 0.4247 - accuracy: 0.8364 - val_loss: 0.3517 - val_accuracy: 0.8652 - 61ms/epoch - 3ms/step\n",
      "Epoch 85/100\n",
      "23/23 - 0s - loss: 0.4587 - accuracy: 0.8054 - val_loss: 0.3619 - val_accuracy: 0.8652 - 62ms/epoch - 3ms/step\n",
      "Epoch 86/100\n",
      "23/23 - 0s - loss: 0.4425 - accuracy: 0.8223 - val_loss: 0.3642 - val_accuracy: 0.8708 - 58ms/epoch - 3ms/step\n",
      "Epoch 87/100\n",
      "23/23 - 0s - loss: 0.4348 - accuracy: 0.8223 - val_loss: 0.3479 - val_accuracy: 0.8652 - 61ms/epoch - 3ms/step\n",
      "Epoch 88/100\n",
      "23/23 - 0s - loss: 0.4436 - accuracy: 0.8025 - val_loss: 0.3529 - val_accuracy: 0.8371 - 65ms/epoch - 3ms/step\n",
      "Epoch 89/100\n",
      "23/23 - 0s - loss: 0.4246 - accuracy: 0.8195 - val_loss: 0.3463 - val_accuracy: 0.8596 - 62ms/epoch - 3ms/step\n",
      "Epoch 90/100\n",
      "23/23 - 0s - loss: 0.4315 - accuracy: 0.8223 - val_loss: 0.3373 - val_accuracy: 0.8652 - 57ms/epoch - 2ms/step\n",
      "Epoch 91/100\n",
      "23/23 - 0s - loss: 0.4198 - accuracy: 0.8138 - val_loss: 0.3390 - val_accuracy: 0.8596 - 62ms/epoch - 3ms/step\n",
      "Epoch 92/100\n",
      "23/23 - 0s - loss: 0.4386 - accuracy: 0.8110 - val_loss: 0.3427 - val_accuracy: 0.8652 - 57ms/epoch - 2ms/step\n",
      "Epoch 93/100\n",
      "23/23 - 0s - loss: 0.4321 - accuracy: 0.8237 - val_loss: 0.3430 - val_accuracy: 0.8371 - 61ms/epoch - 3ms/step\n",
      "Epoch 94/100\n",
      "23/23 - 0s - loss: 0.4317 - accuracy: 0.8237 - val_loss: 0.3601 - val_accuracy: 0.8539 - 60ms/epoch - 3ms/step\n",
      "Epoch 95/100\n",
      "23/23 - 0s - loss: 0.4230 - accuracy: 0.8223 - val_loss: 0.3378 - val_accuracy: 0.8427 - 68ms/epoch - 3ms/step\n",
      "Epoch 96/100\n",
      "23/23 - 0s - loss: 0.4412 - accuracy: 0.8223 - val_loss: 0.3589 - val_accuracy: 0.8258 - 60ms/epoch - 3ms/step\n",
      "Epoch 97/100\n",
      "23/23 - 0s - loss: 0.4352 - accuracy: 0.8096 - val_loss: 0.3418 - val_accuracy: 0.8427 - 64ms/epoch - 3ms/step\n",
      "Epoch 98/100\n",
      "23/23 - 0s - loss: 0.4205 - accuracy: 0.8251 - val_loss: 0.3317 - val_accuracy: 0.8708 - 60ms/epoch - 3ms/step\n",
      "Epoch 99/100\n",
      "23/23 - 0s - loss: 0.4222 - accuracy: 0.8251 - val_loss: 0.3403 - val_accuracy: 0.8764 - 61ms/epoch - 3ms/step\n",
      "Epoch 100/100\n",
      "23/23 - 0s - loss: 0.4076 - accuracy: 0.8195 - val_loss: 0.3377 - val_accuracy: 0.8708 - 60ms/epoch - 3ms/step\n"
     ]
    },
    {
     "data": {
      "text/plain": [
       "<keras.callbacks.History at 0x1e596b92e30>"
      ]
     },
     "execution_count": 12,
     "metadata": {},
     "output_type": "execute_result"
    }
   ],
   "source": [
    "#neural network for titanic = df7\n",
    "total_length=len(df7)\n",
    "train_length=int(0.8*total_length)\n",
    "test_length=int(0.2*total_length)\n",
    "\n",
    "x7_normalized=normalize(x7,axis=0)\n",
    "x_train77=x7_normalized[:train_length]\n",
    "x_test77=x7_normalized[train_length:]\n",
    "y_train77=y7[:train_length]\n",
    "y_test77=y7[train_length:]\n",
    "\n",
    "y_train77copy = y_train77\n",
    "y_test77copy = y_test77\n",
    "\n",
    "y_train77copy=np_utils.to_categorical(y_train77copy,num_classes=2)\n",
    "y_test77copy=np_utils.to_categorical(y_test77copy,num_classes=2)\n",
    "\n",
    "model77=Sequential()\n",
    "model77.add(Dense(500,input_dim=6,activation='relu'))\n",
    "model77.add(Dense(300,activation='relu'))\n",
    "model77.add(Dense(100,activation='relu'))\n",
    "model77.add(Dropout(0.8))\n",
    "model77.add(Dense(2,activation='softmax'))\n",
    "model77.compile(loss='categorical_crossentropy',optimizer='adam',metrics=['accuracy'])\n",
    "model77.fit(x_train77,y_train77copy,validation_data=(x_test77,y_test77copy),batch_size=32,epochs=100,verbose=2)"
   ]
  },
  {
   "cell_type": "code",
   "execution_count": 13,
   "id": "7ee21f1d",
   "metadata": {},
   "outputs": [
    {
     "name": "stdout",
     "output_type": "stream",
     "text": [
      "Accuracy : 87.07865168539325\n"
     ]
    }
   ],
   "source": [
    "prediction=model77.predict(x_test77)\n",
    "length=len(prediction)\n",
    "y_label=np.argmax(y_test77copy,axis=1)\n",
    "predict_label=np.argmax(prediction,axis=1)\n",
    "\n",
    "accuracy=np.sum(y_label==predict_label)/length * 100 \n",
    "print(\"Accuracy :\",accuracy )"
   ]
  },
  {
   "cell_type": "code",
   "execution_count": null,
   "id": "683dc3e3",
   "metadata": {},
   "outputs": [],
   "source": []
  }
 ],
 "metadata": {
  "kernelspec": {
   "display_name": "Python 3 (ipykernel)",
   "language": "python",
   "name": "python3"
  },
  "language_info": {
   "codemirror_mode": {
    "name": "ipython",
    "version": 3
   },
   "file_extension": ".py",
   "mimetype": "text/x-python",
   "name": "python",
   "nbconvert_exporter": "python",
   "pygments_lexer": "ipython3",
   "version": "3.10.4"
  }
 },
 "nbformat": 4,
 "nbformat_minor": 5
}
