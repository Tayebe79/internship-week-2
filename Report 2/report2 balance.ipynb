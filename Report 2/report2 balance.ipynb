{
 "cells": [
  {
   "cell_type": "code",
   "execution_count": 4,
   "id": "aa527d18",
   "metadata": {},
   "outputs": [],
   "source": [
    "import pandas as pd\n",
    "import numpy as np\n",
    "from sklearn.linear_model import LinearRegression\n",
    "from sklearn.preprocessing import PolynomialFeatures\n",
    "from sklearn.model_selection import train_test_split\n",
    "from sklearn.metrics import accuracy_score,confusion_matrix\n",
    "from sklearn.metrics import precision_score, recall_score, f1_score, accuracy_score\n",
    "import matplotlib.pyplot as plt\n",
    "\n",
    "csv_file2 = 'datasetsForReport2/balancescale.csv'\n",
    "\n",
    "df2 = pd.read_csv(csv_file2)"
   ]
  },
  {
   "cell_type": "code",
   "execution_count": 5,
   "id": "dbee3743",
   "metadata": {},
   "outputs": [],
   "source": [
    "x2=df2.iloc[:,:4]\n",
    "y2=df2.iloc[:,4]\n",
    "x_train2,x_test2,y_train2,y_test2=train_test_split(x2,y2,random_state=0)"
   ]
  },
  {
   "cell_type": "code",
   "execution_count": 6,
   "id": "671541b9",
   "metadata": {},
   "outputs": [
    {
     "name": "stdout",
     "output_type": "stream",
     "text": [
      "Accuracy: 0.89172\n"
     ]
    }
   ],
   "source": [
    "#Logistic Regression for balancescale = df2\n",
    "from sklearn.linear_model import LogisticRegression\n",
    "model21=LogisticRegression()\n",
    "model21.fit(x_train2,y_train2)\n",
    "y_pred21=model21.predict(x_test2)\n",
    "print('Accuracy: %.5f' % accuracy_score(y_test2, y_pred21))"
   ]
  },
  {
   "cell_type": "code",
   "execution_count": 7,
   "id": "c53a3b7c",
   "metadata": {},
   "outputs": [
    {
     "name": "stdout",
     "output_type": "stream",
     "text": [
      "Accuracy: 0.83439\n"
     ]
    }
   ],
   "source": [
    "#Random forest for balancescale = df2\n",
    "from sklearn.ensemble import RandomForestClassifier \n",
    "model22= RandomForestClassifier(random_state = 100)\n",
    "model22= RandomForestClassifier(random_state = 100)\n",
    "model22.fit(x_train2,y_train2)\n",
    "y_pred22=model22.predict(x_test2)\n",
    "print('Accuracy: %.5f' % accuracy_score(y_test2, y_pred22))"
   ]
  },
  {
   "cell_type": "code",
   "execution_count": 8,
   "id": "dba87277",
   "metadata": {},
   "outputs": [
    {
     "name": "stdout",
     "output_type": "stream",
     "text": [
      "Accuracy: 0.93631\n"
     ]
    }
   ],
   "source": [
    "#SVG for balancescale = df2\n",
    "from sklearn.svm import SVC\n",
    "model23=SVC()\n",
    "model23.fit(x_train2,y_train2)\n",
    "y_pred23=model23.predict(x_test2)\n",
    "print('Accuracy: %.5f' % accuracy_score(y_test2, y_pred23))"
   ]
  },
  {
   "cell_type": "code",
   "execution_count": 9,
   "id": "00d89f96",
   "metadata": {},
   "outputs": [
    {
     "name": "stdout",
     "output_type": "stream",
     "text": [
      "The accuracy for optimal k = 9 using brute is 89.80891719745223\n"
     ]
    }
   ],
   "source": [
    "#KNN for balancescale = df2\n",
    "from sklearn.neighbors import KNeighborsClassifier\n",
    "from sklearn.model_selection import cross_val_score\n",
    "cv_scores = []\n",
    "neighbors = list(np.arange(3,50,2))\n",
    "for n in neighbors:\n",
    "    knn = KNeighborsClassifier(n_neighbors = n,algorithm = 'brute')\n",
    "    \n",
    "    cross_val = cross_val_score(knn,x_train2,y_train2,cv = 5 , scoring = 'accuracy')\n",
    "    cv_scores.append(cross_val.mean())\n",
    "    \n",
    "error = [1-x for x in cv_scores]\n",
    "optimal_n = neighbors[ error.index(min(error)) ]\n",
    "knn_optimal = KNeighborsClassifier(n_neighbors = optimal_n,algorithm = 'brute')\n",
    "knn_optimal.fit(x_train2,y_train2)\n",
    "y_pred24 = knn_optimal.predict(x_test2)\n",
    "acc = accuracy_score(y_test2,y_pred24)*100\n",
    "print(\"The accuracy for optimal k = {0} using brute is {1}\".format(optimal_n,acc))"
   ]
  },
  {
   "cell_type": "code",
   "execution_count": 10,
   "id": "7bd15d4b",
   "metadata": {},
   "outputs": [
    {
     "name": "stdout",
     "output_type": "stream",
     "text": [
      "Accuracy: 0.75796\n"
     ]
    }
   ],
   "source": [
    "#Decision tree for balancescale = df2\n",
    "from sklearn.tree import DecisionTreeClassifier\n",
    "model25 = DecisionTreeClassifier()\n",
    "model25.fit(x_train2,y_train2)\n",
    "y_pred25=model25.predict(x_test2)\n",
    "print('Accuracy: %.5f' % accuracy_score(y_test2, y_pred25))"
   ]
  },
  {
   "cell_type": "code",
   "execution_count": 12,
   "id": "9511d4e9",
   "metadata": {},
   "outputs": [
    {
     "name": "stdout",
     "output_type": "stream",
     "text": [
      "Accuracy: 0.87898\n"
     ]
    }
   ],
   "source": [
    "#xgboost for balancescale = df2\n",
    "from numpy import loadtxt\n",
    "from xgboost import XGBClassifier\n",
    "model26 = XGBClassifier()\n",
    "\n",
    "y_train2copy = y_train2\n",
    "d = {'R':0, 'L':1, 'B':2}\n",
    "y_train2copy=[d[i] for i in y_train2copy]\n",
    "y_test2copy = y_test2\n",
    "y_test2copy=[d[i] for i in y_test2copy]\n",
    "\n",
    "model26.fit(x_train2,y_train2copy)\n",
    "y_pred26=model26.predict(x_test2)\n",
    "print('Accuracy: %.5f' % accuracy_score(y_test2copy, y_pred26))"
   ]
  },
  {
   "cell_type": "code",
   "execution_count": 13,
   "id": "9066f8a6",
   "metadata": {},
   "outputs": [],
   "source": [
    "import keras\n",
    "import seaborn as sns\n",
    "from sklearn.preprocessing import normalize\n",
    "\n",
    "from keras.models import Sequential \n",
    "from keras.layers import Dense,Activation,Dropout \n",
    "from tensorflow.keras.layers import BatchNormalization\n",
    "from keras.utils import np_utils"
   ]
  },
  {
   "cell_type": "code",
   "execution_count": 17,
   "id": "fedd1074",
   "metadata": {},
   "outputs": [
    {
     "name": "stdout",
     "output_type": "stream",
     "text": [
      "Epoch 1/100\n",
      "16/16 - 1s - loss: 0.9783 - accuracy: 0.5120 - val_loss: 1.0393 - val_accuracy: 0.2240 - 518ms/epoch - 32ms/step\n",
      "Epoch 2/100\n",
      "16/16 - 0s - loss: 0.8844 - accuracy: 0.5600 - val_loss: 0.8581 - val_accuracy: 0.6480 - 99ms/epoch - 6ms/step\n",
      "Epoch 3/100\n",
      "16/16 - 0s - loss: 0.8146 - accuracy: 0.7200 - val_loss: 0.6594 - val_accuracy: 0.7360 - 116ms/epoch - 7ms/step\n",
      "Epoch 4/100\n",
      "16/16 - 0s - loss: 0.7027 - accuracy: 0.7380 - val_loss: 0.6198 - val_accuracy: 0.8000 - 108ms/epoch - 7ms/step\n",
      "Epoch 5/100\n",
      "16/16 - 0s - loss: 0.5248 - accuracy: 0.8280 - val_loss: 0.4156 - val_accuracy: 0.9120 - 114ms/epoch - 7ms/step\n",
      "Epoch 6/100\n",
      "16/16 - 0s - loss: 0.4020 - accuracy: 0.8640 - val_loss: 0.5388 - val_accuracy: 0.7840 - 113ms/epoch - 7ms/step\n",
      "Epoch 7/100\n",
      "16/16 - 0s - loss: 0.4058 - accuracy: 0.8420 - val_loss: 0.4705 - val_accuracy: 0.7840 - 110ms/epoch - 7ms/step\n",
      "Epoch 8/100\n",
      "16/16 - 0s - loss: 0.3711 - accuracy: 0.8540 - val_loss: 0.3979 - val_accuracy: 0.8640 - 95ms/epoch - 6ms/step\n",
      "Epoch 9/100\n",
      "16/16 - 0s - loss: 0.3565 - accuracy: 0.8780 - val_loss: 0.2818 - val_accuracy: 0.9120 - 109ms/epoch - 7ms/step\n",
      "Epoch 10/100\n",
      "16/16 - 0s - loss: 0.3330 - accuracy: 0.8620 - val_loss: 0.2573 - val_accuracy: 0.9120 - 90ms/epoch - 6ms/step\n",
      "Epoch 11/100\n",
      "16/16 - 0s - loss: 0.3100 - accuracy: 0.8800 - val_loss: 0.3269 - val_accuracy: 0.8640 - 115ms/epoch - 7ms/step\n",
      "Epoch 12/100\n",
      "16/16 - 0s - loss: 0.3015 - accuracy: 0.8840 - val_loss: 0.3194 - val_accuracy: 0.8640 - 99ms/epoch - 6ms/step\n",
      "Epoch 13/100\n",
      "16/16 - 0s - loss: 0.2978 - accuracy: 0.8760 - val_loss: 0.2894 - val_accuracy: 0.8640 - 100ms/epoch - 6ms/step\n",
      "Epoch 14/100\n",
      "16/16 - 0s - loss: 0.2609 - accuracy: 0.8820 - val_loss: 0.2537 - val_accuracy: 0.8640 - 102ms/epoch - 6ms/step\n",
      "Epoch 15/100\n",
      "16/16 - 0s - loss: 0.2612 - accuracy: 0.8840 - val_loss: 0.2336 - val_accuracy: 0.8720 - 114ms/epoch - 7ms/step\n",
      "Epoch 16/100\n",
      "16/16 - 0s - loss: 0.2629 - accuracy: 0.8860 - val_loss: 0.2497 - val_accuracy: 0.8720 - 102ms/epoch - 6ms/step\n",
      "Epoch 17/100\n",
      "16/16 - 0s - loss: 0.2739 - accuracy: 0.8660 - val_loss: 0.2498 - val_accuracy: 0.8880 - 99ms/epoch - 6ms/step\n",
      "Epoch 18/100\n",
      "16/16 - 0s - loss: 0.2598 - accuracy: 0.8960 - val_loss: 0.2427 - val_accuracy: 0.8960 - 102ms/epoch - 6ms/step\n",
      "Epoch 19/100\n",
      "16/16 - 0s - loss: 0.2713 - accuracy: 0.8760 - val_loss: 0.2174 - val_accuracy: 0.9120 - 116ms/epoch - 7ms/step\n",
      "Epoch 20/100\n",
      "16/16 - 0s - loss: 0.2932 - accuracy: 0.8860 - val_loss: 0.3943 - val_accuracy: 0.8640 - 107ms/epoch - 7ms/step\n",
      "Epoch 21/100\n",
      "16/16 - 0s - loss: 0.2516 - accuracy: 0.8820 - val_loss: 0.2755 - val_accuracy: 0.8640 - 115ms/epoch - 7ms/step\n",
      "Epoch 22/100\n",
      "16/16 - 0s - loss: 0.2631 - accuracy: 0.8900 - val_loss: 0.2944 - val_accuracy: 0.8640 - 129ms/epoch - 8ms/step\n",
      "Epoch 23/100\n",
      "16/16 - 0s - loss: 0.2687 - accuracy: 0.8840 - val_loss: 0.2052 - val_accuracy: 0.9280 - 94ms/epoch - 6ms/step\n",
      "Epoch 24/100\n",
      "16/16 - 0s - loss: 0.2372 - accuracy: 0.9120 - val_loss: 0.2513 - val_accuracy: 0.8640 - 99ms/epoch - 6ms/step\n",
      "Epoch 25/100\n",
      "16/16 - 0s - loss: 0.2640 - accuracy: 0.8920 - val_loss: 0.3540 - val_accuracy: 0.8640 - 101ms/epoch - 6ms/step\n",
      "Epoch 26/100\n",
      "16/16 - 0s - loss: 0.2798 - accuracy: 0.8740 - val_loss: 0.4503 - val_accuracy: 0.8080 - 113ms/epoch - 7ms/step\n",
      "Epoch 27/100\n",
      "16/16 - 0s - loss: 0.2459 - accuracy: 0.9020 - val_loss: 0.3553 - val_accuracy: 0.8640 - 101ms/epoch - 6ms/step\n",
      "Epoch 28/100\n",
      "16/16 - 0s - loss: 0.2343 - accuracy: 0.9000 - val_loss: 0.2624 - val_accuracy: 0.8880 - 98ms/epoch - 6ms/step\n",
      "Epoch 29/100\n",
      "16/16 - 0s - loss: 0.2781 - accuracy: 0.8900 - val_loss: 0.2220 - val_accuracy: 0.9360 - 99ms/epoch - 6ms/step\n",
      "Epoch 30/100\n",
      "16/16 - 0s - loss: 0.2466 - accuracy: 0.8840 - val_loss: 0.2083 - val_accuracy: 0.9280 - 100ms/epoch - 6ms/step\n",
      "Epoch 31/100\n",
      "16/16 - 0s - loss: 0.2659 - accuracy: 0.8860 - val_loss: 0.3742 - val_accuracy: 0.8640 - 101ms/epoch - 6ms/step\n",
      "Epoch 32/100\n",
      "16/16 - 0s - loss: 0.2618 - accuracy: 0.8820 - val_loss: 0.2828 - val_accuracy: 0.8720 - 101ms/epoch - 6ms/step\n",
      "Epoch 33/100\n",
      "16/16 - 0s - loss: 0.2178 - accuracy: 0.9280 - val_loss: 0.2175 - val_accuracy: 0.9200 - 99ms/epoch - 6ms/step\n",
      "Epoch 34/100\n",
      "16/16 - 0s - loss: 0.2388 - accuracy: 0.9160 - val_loss: 0.3592 - val_accuracy: 0.8640 - 100ms/epoch - 6ms/step\n",
      "Epoch 35/100\n",
      "16/16 - 0s - loss: 0.2231 - accuracy: 0.9200 - val_loss: 0.1858 - val_accuracy: 0.9360 - 100ms/epoch - 6ms/step\n",
      "Epoch 36/100\n",
      "16/16 - 0s - loss: 0.2105 - accuracy: 0.9160 - val_loss: 0.2132 - val_accuracy: 0.9200 - 117ms/epoch - 7ms/step\n",
      "Epoch 37/100\n",
      "16/16 - 0s - loss: 0.2167 - accuracy: 0.9140 - val_loss: 0.1922 - val_accuracy: 0.9360 - 114ms/epoch - 7ms/step\n",
      "Epoch 38/100\n",
      "16/16 - 0s - loss: 0.2137 - accuracy: 0.9060 - val_loss: 0.2091 - val_accuracy: 0.9200 - 110ms/epoch - 7ms/step\n",
      "Epoch 39/100\n",
      "16/16 - 0s - loss: 0.1973 - accuracy: 0.9280 - val_loss: 0.2717 - val_accuracy: 0.8720 - 89ms/epoch - 6ms/step\n",
      "Epoch 40/100\n",
      "16/16 - 0s - loss: 0.1962 - accuracy: 0.9140 - val_loss: 0.2173 - val_accuracy: 0.9040 - 101ms/epoch - 6ms/step\n",
      "Epoch 41/100\n",
      "16/16 - 0s - loss: 0.1907 - accuracy: 0.9300 - val_loss: 0.1593 - val_accuracy: 0.9600 - 100ms/epoch - 6ms/step\n",
      "Epoch 42/100\n",
      "16/16 - 0s - loss: 0.2135 - accuracy: 0.9160 - val_loss: 0.2038 - val_accuracy: 0.9200 - 100ms/epoch - 6ms/step\n",
      "Epoch 43/100\n",
      "16/16 - 0s - loss: 0.1870 - accuracy: 0.9280 - val_loss: 0.2457 - val_accuracy: 0.8960 - 102ms/epoch - 6ms/step\n",
      "Epoch 44/100\n",
      "16/16 - 0s - loss: 0.1693 - accuracy: 0.9560 - val_loss: 0.2088 - val_accuracy: 0.9120 - 115ms/epoch - 7ms/step\n",
      "Epoch 45/100\n",
      "16/16 - 0s - loss: 0.1631 - accuracy: 0.9440 - val_loss: 0.4792 - val_accuracy: 0.8560 - 99ms/epoch - 6ms/step\n",
      "Epoch 46/100\n",
      "16/16 - 0s - loss: 0.3052 - accuracy: 0.8580 - val_loss: 0.4064 - val_accuracy: 0.8560 - 101ms/epoch - 6ms/step\n",
      "Epoch 47/100\n",
      "16/16 - 0s - loss: 0.2846 - accuracy: 0.8680 - val_loss: 0.1439 - val_accuracy: 0.9760 - 99ms/epoch - 6ms/step\n",
      "Epoch 48/100\n",
      "16/16 - 0s - loss: 0.2001 - accuracy: 0.9140 - val_loss: 0.1778 - val_accuracy: 0.9280 - 102ms/epoch - 6ms/step\n",
      "Epoch 49/100\n",
      "16/16 - 0s - loss: 0.2139 - accuracy: 0.9100 - val_loss: 0.3559 - val_accuracy: 0.8640 - 100ms/epoch - 6ms/step\n",
      "Epoch 50/100\n",
      "16/16 - 0s - loss: 0.1938 - accuracy: 0.9260 - val_loss: 0.1618 - val_accuracy: 0.9360 - 100ms/epoch - 6ms/step\n",
      "Epoch 51/100\n",
      "16/16 - 0s - loss: 0.1999 - accuracy: 0.9140 - val_loss: 0.1674 - val_accuracy: 0.9280 - 100ms/epoch - 6ms/step\n",
      "Epoch 52/100\n",
      "16/16 - 0s - loss: 0.2270 - accuracy: 0.8980 - val_loss: 0.1527 - val_accuracy: 0.9440 - 99ms/epoch - 6ms/step\n",
      "Epoch 53/100\n",
      "16/16 - 0s - loss: 0.1842 - accuracy: 0.9160 - val_loss: 0.1512 - val_accuracy: 0.9440 - 100ms/epoch - 6ms/step\n",
      "Epoch 54/100\n",
      "16/16 - 0s - loss: 0.1774 - accuracy: 0.9280 - val_loss: 0.2069 - val_accuracy: 0.9040 - 117ms/epoch - 7ms/step\n",
      "Epoch 55/100\n",
      "16/16 - 0s - loss: 0.1925 - accuracy: 0.9060 - val_loss: 0.2780 - val_accuracy: 0.8720 - 100ms/epoch - 6ms/step\n",
      "Epoch 56/100\n",
      "16/16 - 0s - loss: 0.2087 - accuracy: 0.9100 - val_loss: 0.1639 - val_accuracy: 0.9280 - 100ms/epoch - 6ms/step\n",
      "Epoch 57/100\n",
      "16/16 - 0s - loss: 0.1687 - accuracy: 0.9440 - val_loss: 0.1340 - val_accuracy: 0.9680 - 101ms/epoch - 6ms/step\n",
      "Epoch 58/100\n",
      "16/16 - 0s - loss: 0.1335 - accuracy: 0.9720 - val_loss: 0.1666 - val_accuracy: 0.9280 - 112ms/epoch - 7ms/step\n",
      "Epoch 59/100\n",
      "16/16 - 0s - loss: 0.1220 - accuracy: 0.9680 - val_loss: 0.1037 - val_accuracy: 0.9760 - 99ms/epoch - 6ms/step\n",
      "Epoch 60/100\n",
      "16/16 - 0s - loss: 0.1446 - accuracy: 0.9480 - val_loss: 0.1974 - val_accuracy: 0.9200 - 84ms/epoch - 5ms/step\n",
      "Epoch 61/100\n",
      "16/16 - 0s - loss: 0.1914 - accuracy: 0.9120 - val_loss: 0.1755 - val_accuracy: 0.9200 - 86ms/epoch - 5ms/step\n",
      "Epoch 62/100\n",
      "16/16 - 0s - loss: 0.2048 - accuracy: 0.9140 - val_loss: 0.3248 - val_accuracy: 0.8560 - 249ms/epoch - 16ms/step\n",
      "Epoch 63/100\n",
      "16/16 - 0s - loss: 0.2129 - accuracy: 0.9020 - val_loss: 0.2534 - val_accuracy: 0.8960 - 100ms/epoch - 6ms/step\n",
      "Epoch 64/100\n",
      "16/16 - 0s - loss: 0.1427 - accuracy: 0.9480 - val_loss: 0.2468 - val_accuracy: 0.9040 - 107ms/epoch - 7ms/step\n",
      "Epoch 65/100\n",
      "16/16 - 0s - loss: 0.1425 - accuracy: 0.9480 - val_loss: 0.1789 - val_accuracy: 0.8800 - 106ms/epoch - 7ms/step\n",
      "Epoch 66/100\n",
      "16/16 - 0s - loss: 0.1193 - accuracy: 0.9660 - val_loss: 0.1658 - val_accuracy: 0.9120 - 101ms/epoch - 6ms/step\n"
     ]
    },
    {
     "name": "stdout",
     "output_type": "stream",
     "text": [
      "Epoch 67/100\n",
      "16/16 - 0s - loss: 0.1058 - accuracy: 0.9760 - val_loss: 0.2856 - val_accuracy: 0.8720 - 101ms/epoch - 6ms/step\n",
      "Epoch 68/100\n",
      "16/16 - 0s - loss: 0.1843 - accuracy: 0.9080 - val_loss: 0.2236 - val_accuracy: 0.8880 - 95ms/epoch - 6ms/step\n",
      "Epoch 69/100\n",
      "16/16 - 0s - loss: 0.2108 - accuracy: 0.9040 - val_loss: 0.2032 - val_accuracy: 0.9200 - 113ms/epoch - 7ms/step\n",
      "Epoch 70/100\n",
      "16/16 - 0s - loss: 0.1516 - accuracy: 0.9420 - val_loss: 0.1094 - val_accuracy: 0.9680 - 108ms/epoch - 7ms/step\n",
      "Epoch 71/100\n",
      "16/16 - 0s - loss: 0.1282 - accuracy: 0.9520 - val_loss: 0.1017 - val_accuracy: 0.9760 - 100ms/epoch - 6ms/step\n",
      "Epoch 72/100\n",
      "16/16 - 0s - loss: 0.1032 - accuracy: 0.9680 - val_loss: 0.1120 - val_accuracy: 0.9760 - 87ms/epoch - 5ms/step\n",
      "Epoch 73/100\n",
      "16/16 - 0s - loss: 0.1181 - accuracy: 0.9560 - val_loss: 0.0963 - val_accuracy: 0.9680 - 116ms/epoch - 7ms/step\n",
      "Epoch 74/100\n",
      "16/16 - 0s - loss: 0.1083 - accuracy: 0.9600 - val_loss: 0.1209 - val_accuracy: 0.9600 - 105ms/epoch - 7ms/step\n",
      "Epoch 75/100\n",
      "16/16 - 0s - loss: 0.1255 - accuracy: 0.9520 - val_loss: 0.1030 - val_accuracy: 0.9680 - 102ms/epoch - 6ms/step\n",
      "Epoch 76/100\n",
      "16/16 - 0s - loss: 0.1710 - accuracy: 0.9040 - val_loss: 0.2372 - val_accuracy: 0.8640 - 98ms/epoch - 6ms/step\n",
      "Epoch 77/100\n",
      "16/16 - 0s - loss: 0.1878 - accuracy: 0.9300 - val_loss: 0.3373 - val_accuracy: 0.8720 - 104ms/epoch - 7ms/step\n",
      "Epoch 78/100\n",
      "16/16 - 0s - loss: 0.1112 - accuracy: 0.9700 - val_loss: 0.1240 - val_accuracy: 0.9440 - 106ms/epoch - 7ms/step\n",
      "Epoch 79/100\n",
      "16/16 - 0s - loss: 0.0831 - accuracy: 0.9800 - val_loss: 0.0928 - val_accuracy: 0.9600 - 103ms/epoch - 6ms/step\n",
      "Epoch 80/100\n",
      "16/16 - 0s - loss: 0.0755 - accuracy: 0.9780 - val_loss: 0.0817 - val_accuracy: 0.9760 - 97ms/epoch - 6ms/step\n",
      "Epoch 81/100\n",
      "16/16 - 0s - loss: 0.0699 - accuracy: 0.9820 - val_loss: 0.0845 - val_accuracy: 0.9840 - 87ms/epoch - 5ms/step\n",
      "Epoch 82/100\n",
      "16/16 - 0s - loss: 0.0741 - accuracy: 0.9800 - val_loss: 0.0821 - val_accuracy: 0.9760 - 99ms/epoch - 6ms/step\n",
      "Epoch 83/100\n",
      "16/16 - 0s - loss: 0.0924 - accuracy: 0.9660 - val_loss: 0.1043 - val_accuracy: 0.9760 - 100ms/epoch - 6ms/step\n",
      "Epoch 84/100\n",
      "16/16 - 0s - loss: 0.0889 - accuracy: 0.9800 - val_loss: 0.0793 - val_accuracy: 0.9760 - 101ms/epoch - 6ms/step\n",
      "Epoch 85/100\n",
      "16/16 - 0s - loss: 0.1011 - accuracy: 0.9620 - val_loss: 0.0915 - val_accuracy: 0.9600 - 100ms/epoch - 6ms/step\n",
      "Epoch 86/100\n",
      "16/16 - 0s - loss: 0.1159 - accuracy: 0.9540 - val_loss: 0.1116 - val_accuracy: 0.9760 - 116ms/epoch - 7ms/step\n",
      "Epoch 87/100\n",
      "16/16 - 0s - loss: 0.1573 - accuracy: 0.9280 - val_loss: 0.1105 - val_accuracy: 0.9280 - 100ms/epoch - 6ms/step\n",
      "Epoch 88/100\n",
      "16/16 - 0s - loss: 0.0953 - accuracy: 0.9580 - val_loss: 0.3114 - val_accuracy: 0.8720 - 100ms/epoch - 6ms/step\n",
      "Epoch 89/100\n",
      "16/16 - 0s - loss: 0.1289 - accuracy: 0.9420 - val_loss: 0.1317 - val_accuracy: 0.9200 - 101ms/epoch - 6ms/step\n",
      "Epoch 90/100\n",
      "16/16 - 0s - loss: 0.0903 - accuracy: 0.9720 - val_loss: 0.0781 - val_accuracy: 0.9760 - 100ms/epoch - 6ms/step\n",
      "Epoch 91/100\n",
      "16/16 - 0s - loss: 0.0795 - accuracy: 0.9780 - val_loss: 0.0933 - val_accuracy: 0.9440 - 99ms/epoch - 6ms/step\n",
      "Epoch 92/100\n",
      "16/16 - 0s - loss: 0.0726 - accuracy: 0.9760 - val_loss: 0.0969 - val_accuracy: 0.9840 - 100ms/epoch - 6ms/step\n",
      "Epoch 93/100\n",
      "16/16 - 0s - loss: 0.0690 - accuracy: 0.9740 - val_loss: 0.0904 - val_accuracy: 0.9600 - 100ms/epoch - 6ms/step\n",
      "Epoch 94/100\n",
      "16/16 - 0s - loss: 0.1026 - accuracy: 0.9620 - val_loss: 0.0923 - val_accuracy: 0.9600 - 102ms/epoch - 6ms/step\n",
      "Epoch 95/100\n",
      "16/16 - 0s - loss: 0.0743 - accuracy: 0.9800 - val_loss: 0.0809 - val_accuracy: 0.9760 - 100ms/epoch - 6ms/step\n",
      "Epoch 96/100\n",
      "16/16 - 0s - loss: 0.0792 - accuracy: 0.9760 - val_loss: 0.0801 - val_accuracy: 0.9760 - 100ms/epoch - 6ms/step\n",
      "Epoch 97/100\n",
      "16/16 - 0s - loss: 0.0793 - accuracy: 0.9720 - val_loss: 0.2129 - val_accuracy: 0.8880 - 99ms/epoch - 6ms/step\n",
      "Epoch 98/100\n",
      "16/16 - 0s - loss: 0.0728 - accuracy: 0.9700 - val_loss: 0.1181 - val_accuracy: 0.9520 - 100ms/epoch - 6ms/step\n",
      "Epoch 99/100\n",
      "16/16 - 0s - loss: 0.1447 - accuracy: 0.9420 - val_loss: 0.1355 - val_accuracy: 0.9200 - 85ms/epoch - 5ms/step\n",
      "Epoch 100/100\n",
      "16/16 - 0s - loss: 0.1646 - accuracy: 0.9300 - val_loss: 0.0850 - val_accuracy: 0.9760 - 100ms/epoch - 6ms/step\n"
     ]
    },
    {
     "data": {
      "text/plain": [
       "<keras.callbacks.History at 0x23a7786d420>"
      ]
     },
     "execution_count": 17,
     "metadata": {},
     "output_type": "execute_result"
    }
   ],
   "source": [
    "#neural network for iris = df8\n",
    "total_length=len(df2)\n",
    "train_length=int(0.8*total_length)\n",
    "test_length=int(0.2*total_length)\n",
    "\n",
    "x2_normalized=normalize(x2,axis=0)\n",
    "x_train27=x2_normalized[:train_length]\n",
    "x_test27=x2_normalized[train_length:]\n",
    "y_train27=y2[:train_length]\n",
    "y_test27=y2[train_length:]\n",
    "\n",
    "y_train27copy = y_train27\n",
    "d = {'R':0, 'L':1, 'B':2}\n",
    "y_train27copy=[d[i] for i in y_train27copy]\n",
    "y_test27copy = y_test27\n",
    "y_test27copy=[d[i] for i in y_test27copy]\n",
    "\n",
    "y_train27copy=np_utils.to_categorical(y_train27copy,num_classes=3)\n",
    "y_test27copy=np_utils.to_categorical(y_test27copy,num_classes=3)\n",
    "\n",
    "model27=Sequential()\n",
    "model27.add(Dense(1000,input_dim=4,activation='relu'))\n",
    "model27.add(Dense(500,activation='relu'))\n",
    "model27.add(Dense(300,activation='relu'))\n",
    "model27.add(Dropout(0.2))\n",
    "model27.add(Dense(3,activation='softmax'))\n",
    "model27.compile(loss='categorical_crossentropy',optimizer='adam',metrics=['accuracy'])\n",
    "model27.fit(x_train27,y_train27copy,validation_data=(x_test27,y_test27copy),batch_size=32,epochs=100,verbose=2)"
   ]
  },
  {
   "cell_type": "code",
   "execution_count": 18,
   "id": "253ccd2c",
   "metadata": {},
   "outputs": [
    {
     "name": "stdout",
     "output_type": "stream",
     "text": [
      "Accuracy : 97.6\n"
     ]
    }
   ],
   "source": [
    "prediction=model27.predict(x_test27)\n",
    "length=len(prediction)\n",
    "y_label=np.argmax(y_test27copy,axis=1)\n",
    "predict_label=np.argmax(prediction,axis=1)\n",
    "\n",
    "accuracy=np.sum(y_label==predict_label)/length * 100 \n",
    "print(\"Accuracy :\",accuracy )"
   ]
  },
  {
   "cell_type": "code",
   "execution_count": null,
   "id": "184a67a9",
   "metadata": {},
   "outputs": [],
   "source": []
  }
 ],
 "metadata": {
  "kernelspec": {
   "display_name": "Python 3 (ipykernel)",
   "language": "python",
   "name": "python3"
  },
  "language_info": {
   "codemirror_mode": {
    "name": "ipython",
    "version": 3
   },
   "file_extension": ".py",
   "mimetype": "text/x-python",
   "name": "python",
   "nbconvert_exporter": "python",
   "pygments_lexer": "ipython3",
   "version": "3.10.4"
  }
 },
 "nbformat": 4,
 "nbformat_minor": 5
}
