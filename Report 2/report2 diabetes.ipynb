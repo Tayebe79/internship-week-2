{
 "cells": [
  {
   "cell_type": "code",
   "execution_count": 1,
   "id": "00d42229",
   "metadata": {},
   "outputs": [],
   "source": [
    "import pandas as pd\n",
    "import numpy as np\n",
    "from sklearn.linear_model import LinearRegression\n",
    "from sklearn.preprocessing import PolynomialFeatures\n",
    "from sklearn.model_selection import train_test_split\n",
    "from sklearn.metrics import accuracy_score,confusion_matrix\n",
    "from sklearn.metrics import precision_score, recall_score, f1_score, accuracy_score\n",
    "import matplotlib.pyplot as plt\n",
    "\n",
    "csv_file4 = 'datasetsForReport2/diabetes.csv'\n",
    "\n",
    "df4 = pd.read_csv(csv_file4)"
   ]
  },
  {
   "cell_type": "code",
   "execution_count": 2,
   "id": "15f46f53",
   "metadata": {},
   "outputs": [],
   "source": [
    "x4=df4.iloc[:,:8]\n",
    "y4=df4.iloc[:,8]\n",
    "x_train4,x_test4,y_train4,y_test4=train_test_split(x4,y4,random_state=0)"
   ]
  },
  {
   "cell_type": "code",
   "execution_count": 3,
   "id": "c9cb26de",
   "metadata": {},
   "outputs": [
    {
     "name": "stdout",
     "output_type": "stream",
     "text": [
      "Accuracy: 0.79167\n"
     ]
    },
    {
     "name": "stderr",
     "output_type": "stream",
     "text": [
      "C:\\Users\\asus\\AppData\\Local\\Programs\\Python\\Python310\\lib\\site-packages\\sklearn\\linear_model\\_logistic.py:444: ConvergenceWarning: lbfgs failed to converge (status=1):\n",
      "STOP: TOTAL NO. of ITERATIONS REACHED LIMIT.\n",
      "\n",
      "Increase the number of iterations (max_iter) or scale the data as shown in:\n",
      "    https://scikit-learn.org/stable/modules/preprocessing.html\n",
      "Please also refer to the documentation for alternative solver options:\n",
      "    https://scikit-learn.org/stable/modules/linear_model.html#logistic-regression\n",
      "  n_iter_i = _check_optimize_result(\n"
     ]
    }
   ],
   "source": [
    "#Logistic Regression for diabetes = df4\n",
    "from sklearn.linear_model import LogisticRegression\n",
    "model41=LogisticRegression()\n",
    "model41.fit(x_train4,y_train4)\n",
    "y_pred41=model41.predict(x_test4)\n",
    "print('Accuracy: %.5f' % accuracy_score(y_test4, y_pred41))"
   ]
  },
  {
   "cell_type": "code",
   "execution_count": 4,
   "id": "3a1c3b92",
   "metadata": {},
   "outputs": [
    {
     "name": "stdout",
     "output_type": "stream",
     "text": [
      "Accuracy: 0.78125\n"
     ]
    }
   ],
   "source": [
    "#Random forest for diabetes = df4\n",
    "from sklearn.ensemble import RandomForestClassifier \n",
    "model42= RandomForestClassifier(random_state = 100)\n",
    "model42= RandomForestClassifier(random_state = 100)\n",
    "model42.fit(x_train4,y_train4)\n",
    "y_pred42=model42.predict(x_test4)\n",
    "print('Accuracy: %.5f' % accuracy_score(y_test4, y_pred42))"
   ]
  },
  {
   "cell_type": "code",
   "execution_count": 5,
   "id": "7bbe8ddd",
   "metadata": {},
   "outputs": [
    {
     "name": "stdout",
     "output_type": "stream",
     "text": [
      "Accuracy: 0.77083\n"
     ]
    }
   ],
   "source": [
    "#SVG for diabetes = df4\n",
    "from sklearn.svm import SVC\n",
    "model43=SVC()\n",
    "model43.fit(x_train4,y_train4)\n",
    "y_pred43=model43.predict(x_test4)\n",
    "print('Accuracy: %.5f' % accuracy_score(y_test4, y_pred43))"
   ]
  },
  {
   "cell_type": "code",
   "execution_count": 6,
   "id": "a12e6d8c",
   "metadata": {},
   "outputs": [
    {
     "name": "stdout",
     "output_type": "stream",
     "text": [
      "The accuracy for optimal k = 7 using brute is 76.04166666666666\n"
     ]
    }
   ],
   "source": [
    "#KNN for diabetes = df4\n",
    "from sklearn.neighbors import KNeighborsClassifier\n",
    "from sklearn.model_selection import cross_val_score\n",
    "cv_scores = []\n",
    "neighbors = list(np.arange(3,50,2))\n",
    "for n in neighbors:\n",
    "    knn = KNeighborsClassifier(n_neighbors = n,algorithm = 'brute')\n",
    "    \n",
    "    cross_val = cross_val_score(knn,x_train4,y_train4,cv = 5 , scoring = 'accuracy')\n",
    "    cv_scores.append(cross_val.mean())\n",
    "    \n",
    "error = [1-x for x in cv_scores]\n",
    "optimal_n = neighbors[ error.index(min(error)) ]\n",
    "knn_optimal = KNeighborsClassifier(n_neighbors = optimal_n,algorithm = 'brute')\n",
    "knn_optimal.fit(x_train4,y_train4)\n",
    "y_pred44 = knn_optimal.predict(x_test4)\n",
    "acc = accuracy_score(y_test4,y_pred44)*100\n",
    "print(\"The accuracy for optimal k = {0} using brute is {1}\".format(optimal_n,acc))"
   ]
  },
  {
   "cell_type": "code",
   "execution_count": 7,
   "id": "030b06b3",
   "metadata": {},
   "outputs": [
    {
     "name": "stdout",
     "output_type": "stream",
     "text": [
      "Accuracy: 0.71354\n"
     ]
    }
   ],
   "source": [
    "#Decision tree for diabetes = df4\n",
    "from sklearn.tree import DecisionTreeClassifier\n",
    "model45 = DecisionTreeClassifier()\n",
    "model45.fit(x_train4,y_train4)\n",
    "y_pred45=model45.predict(x_test4)\n",
    "print('Accuracy: %.5f' % accuracy_score(y_test4, y_pred45))"
   ]
  },
  {
   "cell_type": "code",
   "execution_count": 8,
   "id": "d9569553",
   "metadata": {},
   "outputs": [
    {
     "name": "stdout",
     "output_type": "stream",
     "text": [
      "Accuracy: 0.76042\n"
     ]
    }
   ],
   "source": [
    "#xgboost for diabetes = df4\n",
    "from numpy import loadtxt\n",
    "from xgboost import XGBClassifier\n",
    "model46 = XGBClassifier()\n",
    "\n",
    "y_train4copy = y_train4\n",
    "d = {'tested_negative': 0, 'tested_positive': 1}\n",
    "y_train4copy=[d[i] for i in y_train4copy]\n",
    "\n",
    "y_test4copy = y_test4\n",
    "y_test4copy=[d[i] for i in y_test4copy]\n",
    "\n",
    "model46.fit(x_train4,y_train4copy)\n",
    "y_pred46=model46.predict(x_test4)\n",
    "print('Accuracy: %.5f' % accuracy_score(y_test4copy, y_pred46))"
   ]
  },
  {
   "cell_type": "code",
   "execution_count": 9,
   "id": "1791165b",
   "metadata": {},
   "outputs": [],
   "source": [
    "import keras\n",
    "import seaborn as sns\n",
    "from sklearn.preprocessing import normalize\n",
    "\n",
    "from keras.models import Sequential \n",
    "from keras.layers import Dense,Activation,Dropout \n",
    "from tensorflow.keras.layers import BatchNormalization\n",
    "from keras.utils import np_utils"
   ]
  },
  {
   "cell_type": "code",
   "execution_count": 14,
   "id": "9a3a2d00",
   "metadata": {},
   "outputs": [
    {
     "name": "stdout",
     "output_type": "stream",
     "text": [
      "Epoch 1/50\n",
      "20/20 - 1s - loss: 0.6623 - accuracy: 0.6466 - val_loss: 0.6527 - val_accuracy: 0.6429 - 543ms/epoch - 27ms/step\n",
      "Epoch 2/50\n",
      "20/20 - 0s - loss: 0.6410 - accuracy: 0.6531 - val_loss: 0.6413 - val_accuracy: 0.6429 - 57ms/epoch - 3ms/step\n",
      "Epoch 3/50\n",
      "20/20 - 0s - loss: 0.6343 - accuracy: 0.6547 - val_loss: 0.6365 - val_accuracy: 0.6429 - 84ms/epoch - 4ms/step\n",
      "Epoch 4/50\n",
      "20/20 - 0s - loss: 0.6162 - accuracy: 0.6612 - val_loss: 0.6126 - val_accuracy: 0.6558 - 73ms/epoch - 4ms/step\n",
      "Epoch 5/50\n",
      "20/20 - 0s - loss: 0.5913 - accuracy: 0.6938 - val_loss: 0.5929 - val_accuracy: 0.6818 - 67ms/epoch - 3ms/step\n",
      "Epoch 6/50\n",
      "20/20 - 0s - loss: 0.5754 - accuracy: 0.7052 - val_loss: 0.5725 - val_accuracy: 0.6818 - 66ms/epoch - 3ms/step\n",
      "Epoch 7/50\n",
      "20/20 - 0s - loss: 0.5631 - accuracy: 0.7085 - val_loss: 0.5625 - val_accuracy: 0.7143 - 65ms/epoch - 3ms/step\n",
      "Epoch 8/50\n",
      "20/20 - 0s - loss: 0.5678 - accuracy: 0.7036 - val_loss: 0.5632 - val_accuracy: 0.7013 - 58ms/epoch - 3ms/step\n",
      "Epoch 9/50\n",
      "20/20 - 0s - loss: 0.5510 - accuracy: 0.7296 - val_loss: 0.5849 - val_accuracy: 0.6753 - 74ms/epoch - 4ms/step\n",
      "Epoch 10/50\n",
      "20/20 - 0s - loss: 0.5549 - accuracy: 0.7036 - val_loss: 0.5405 - val_accuracy: 0.7338 - 58ms/epoch - 3ms/step\n",
      "Epoch 11/50\n",
      "20/20 - 0s - loss: 0.5728 - accuracy: 0.7166 - val_loss: 0.5425 - val_accuracy: 0.7403 - 74ms/epoch - 4ms/step\n",
      "Epoch 12/50\n",
      "20/20 - 0s - loss: 0.5296 - accuracy: 0.7248 - val_loss: 0.5454 - val_accuracy: 0.7078 - 64ms/epoch - 3ms/step\n",
      "Epoch 13/50\n",
      "20/20 - 0s - loss: 0.5182 - accuracy: 0.7313 - val_loss: 0.5185 - val_accuracy: 0.7403 - 64ms/epoch - 3ms/step\n",
      "Epoch 14/50\n",
      "20/20 - 0s - loss: 0.5111 - accuracy: 0.7492 - val_loss: 0.5693 - val_accuracy: 0.6883 - 64ms/epoch - 3ms/step\n",
      "Epoch 15/50\n",
      "20/20 - 0s - loss: 0.5217 - accuracy: 0.7427 - val_loss: 0.5662 - val_accuracy: 0.6883 - 65ms/epoch - 3ms/step\n",
      "Epoch 16/50\n",
      "20/20 - 0s - loss: 0.5136 - accuracy: 0.7394 - val_loss: 0.5023 - val_accuracy: 0.7662 - 71ms/epoch - 4ms/step\n",
      "Epoch 17/50\n",
      "20/20 - 0s - loss: 0.5101 - accuracy: 0.7476 - val_loss: 0.5030 - val_accuracy: 0.7273 - 74ms/epoch - 4ms/step\n",
      "Epoch 18/50\n",
      "20/20 - 0s - loss: 0.4900 - accuracy: 0.7508 - val_loss: 0.5412 - val_accuracy: 0.7143 - 62ms/epoch - 3ms/step\n",
      "Epoch 19/50\n",
      "20/20 - 0s - loss: 0.4995 - accuracy: 0.7638 - val_loss: 0.5070 - val_accuracy: 0.7597 - 66ms/epoch - 3ms/step\n",
      "Epoch 20/50\n",
      "20/20 - 0s - loss: 0.5211 - accuracy: 0.7476 - val_loss: 0.5930 - val_accuracy: 0.7468 - 68ms/epoch - 3ms/step\n",
      "Epoch 21/50\n",
      "20/20 - 0s - loss: 0.5273 - accuracy: 0.7394 - val_loss: 0.4966 - val_accuracy: 0.7662 - 66ms/epoch - 3ms/step\n",
      "Epoch 22/50\n",
      "20/20 - 0s - loss: 0.4837 - accuracy: 0.7687 - val_loss: 0.4923 - val_accuracy: 0.7792 - 71ms/epoch - 4ms/step\n",
      "Epoch 23/50\n",
      "20/20 - 0s - loss: 0.4841 - accuracy: 0.7622 - val_loss: 0.4813 - val_accuracy: 0.7662 - 64ms/epoch - 3ms/step\n",
      "Epoch 24/50\n",
      "20/20 - 0s - loss: 0.4902 - accuracy: 0.7720 - val_loss: 0.4816 - val_accuracy: 0.7922 - 71ms/epoch - 4ms/step\n",
      "Epoch 25/50\n",
      "20/20 - 0s - loss: 0.4773 - accuracy: 0.7801 - val_loss: 0.4769 - val_accuracy: 0.7792 - 69ms/epoch - 3ms/step\n",
      "Epoch 26/50\n",
      "20/20 - 0s - loss: 0.4858 - accuracy: 0.7687 - val_loss: 0.4793 - val_accuracy: 0.7922 - 67ms/epoch - 3ms/step\n",
      "Epoch 27/50\n",
      "20/20 - 0s - loss: 0.4736 - accuracy: 0.7785 - val_loss: 0.4878 - val_accuracy: 0.7532 - 62ms/epoch - 3ms/step\n",
      "Epoch 28/50\n",
      "20/20 - 0s - loss: 0.4726 - accuracy: 0.7818 - val_loss: 0.5022 - val_accuracy: 0.7468 - 65ms/epoch - 3ms/step\n",
      "Epoch 29/50\n",
      "20/20 - 0s - loss: 0.4676 - accuracy: 0.7850 - val_loss: 0.4934 - val_accuracy: 0.7662 - 66ms/epoch - 3ms/step\n",
      "Epoch 30/50\n",
      "20/20 - 0s - loss: 0.4759 - accuracy: 0.7704 - val_loss: 0.4766 - val_accuracy: 0.7727 - 64ms/epoch - 3ms/step\n",
      "Epoch 31/50\n",
      "20/20 - 0s - loss: 0.4678 - accuracy: 0.7752 - val_loss: 0.4866 - val_accuracy: 0.7597 - 67ms/epoch - 3ms/step\n",
      "Epoch 32/50\n",
      "20/20 - 0s - loss: 0.4978 - accuracy: 0.7573 - val_loss: 0.4824 - val_accuracy: 0.7792 - 71ms/epoch - 4ms/step\n",
      "Epoch 33/50\n",
      "20/20 - 0s - loss: 0.4761 - accuracy: 0.7785 - val_loss: 0.4941 - val_accuracy: 0.7662 - 66ms/epoch - 3ms/step\n",
      "Epoch 34/50\n",
      "20/20 - 0s - loss: 0.4881 - accuracy: 0.7622 - val_loss: 0.5590 - val_accuracy: 0.7078 - 56ms/epoch - 3ms/step\n",
      "Epoch 35/50\n",
      "20/20 - 0s - loss: 0.4771 - accuracy: 0.7720 - val_loss: 0.4875 - val_accuracy: 0.7662 - 75ms/epoch - 4ms/step\n",
      "Epoch 36/50\n",
      "20/20 - 0s - loss: 0.4615 - accuracy: 0.7769 - val_loss: 0.4721 - val_accuracy: 0.7857 - 56ms/epoch - 3ms/step\n",
      "Epoch 37/50\n",
      "20/20 - 0s - loss: 0.4738 - accuracy: 0.7769 - val_loss: 0.4897 - val_accuracy: 0.7597 - 75ms/epoch - 4ms/step\n",
      "Epoch 38/50\n",
      "20/20 - 0s - loss: 0.4719 - accuracy: 0.7720 - val_loss: 0.4854 - val_accuracy: 0.7532 - 68ms/epoch - 3ms/step\n",
      "Epoch 39/50\n",
      "20/20 - 0s - loss: 0.4638 - accuracy: 0.7883 - val_loss: 0.4859 - val_accuracy: 0.7597 - 69ms/epoch - 3ms/step\n",
      "Epoch 40/50\n",
      "20/20 - 0s - loss: 0.4712 - accuracy: 0.7834 - val_loss: 0.4732 - val_accuracy: 0.7792 - 70ms/epoch - 4ms/step\n",
      "Epoch 41/50\n",
      "20/20 - 0s - loss: 0.4704 - accuracy: 0.7883 - val_loss: 0.5094 - val_accuracy: 0.7338 - 68ms/epoch - 3ms/step\n",
      "Epoch 42/50\n",
      "20/20 - 0s - loss: 0.4716 - accuracy: 0.7720 - val_loss: 0.4765 - val_accuracy: 0.7922 - 56ms/epoch - 3ms/step\n",
      "Epoch 43/50\n",
      "20/20 - 0s - loss: 0.4656 - accuracy: 0.7948 - val_loss: 0.4768 - val_accuracy: 0.7468 - 74ms/epoch - 4ms/step\n",
      "Epoch 44/50\n",
      "20/20 - 0s - loss: 0.4673 - accuracy: 0.7769 - val_loss: 0.4731 - val_accuracy: 0.7987 - 63ms/epoch - 3ms/step\n",
      "Epoch 45/50\n",
      "20/20 - 0s - loss: 0.4602 - accuracy: 0.7752 - val_loss: 0.4901 - val_accuracy: 0.7597 - 64ms/epoch - 3ms/step\n",
      "Epoch 46/50\n",
      "20/20 - 0s - loss: 0.4644 - accuracy: 0.7801 - val_loss: 0.4882 - val_accuracy: 0.7662 - 66ms/epoch - 3ms/step\n",
      "Epoch 47/50\n",
      "20/20 - 0s - loss: 0.4782 - accuracy: 0.7801 - val_loss: 0.4786 - val_accuracy: 0.7857 - 63ms/epoch - 3ms/step\n",
      "Epoch 48/50\n",
      "20/20 - 0s - loss: 0.4682 - accuracy: 0.7687 - val_loss: 0.4852 - val_accuracy: 0.7727 - 63ms/epoch - 3ms/step\n",
      "Epoch 49/50\n",
      "20/20 - 0s - loss: 0.4775 - accuracy: 0.7818 - val_loss: 0.5087 - val_accuracy: 0.7792 - 66ms/epoch - 3ms/step\n",
      "Epoch 50/50\n",
      "20/20 - 0s - loss: 0.4739 - accuracy: 0.7655 - val_loss: 0.4792 - val_accuracy: 0.7857 - 63ms/epoch - 3ms/step\n"
     ]
    },
    {
     "data": {
      "text/plain": [
       "<keras.callbacks.History at 0x1f5dd689180>"
      ]
     },
     "execution_count": 14,
     "metadata": {},
     "output_type": "execute_result"
    }
   ],
   "source": [
    "#neural networks for diabetes = df4\n",
    "total_length=len(df4)\n",
    "train_length=int(0.8*total_length)\n",
    "test_length=int(0.2*total_length)\n",
    "\n",
    "x4_normalized=normalize(x4,axis=0)\n",
    "x_train47=x4_normalized[:train_length]\n",
    "x_test47=x4_normalized[train_length:]\n",
    "y_train47=y4[:train_length]\n",
    "y_test47=y4[train_length:]\n",
    "\n",
    "y_train47copy = y_train47\n",
    "d = {'tested_negative': 0, 'tested_positive': 1}\n",
    "y_train47copy=[d[i] for i in y_train47copy]\n",
    "y_test47copy = y_test47\n",
    "y_test47copy=[d[i] for i in y_test47copy]\n",
    "\n",
    "y_train47copy=np_utils.to_categorical(y_train47copy,num_classes=2)\n",
    "y_test47copy=np_utils.to_categorical(y_test47copy,num_classes=2)\n",
    "\n",
    "model47=Sequential()\n",
    "model47.add(Dense(800,input_dim=8,activation='relu'))\n",
    "#model47.add(Dense(500,activation='relu'))\n",
    "model47.add(Dense(300,activation='relu'))\n",
    "model47.add(Dropout(0.2))\n",
    "model47.add(Dense(2,activation='softmax'))\n",
    "model47.compile(loss='categorical_crossentropy',optimizer='adam',metrics=['accuracy'])\n",
    "model47.fit(x_train47,y_train47copy,validation_data=(x_test47,y_test47copy),batch_size=32,epochs=50,verbose=2)"
   ]
  },
  {
   "cell_type": "code",
   "execution_count": 15,
   "id": "c140d286",
   "metadata": {},
   "outputs": [
    {
     "name": "stdout",
     "output_type": "stream",
     "text": [
      "Accuracy : 78.57142857142857\n"
     ]
    }
   ],
   "source": [
    "prediction=model47.predict(x_test47)\n",
    "length=len(prediction)\n",
    "y_label=np.argmax(y_test47copy,axis=1)\n",
    "predict_label=np.argmax(prediction,axis=1)\n",
    "\n",
    "accuracy=np.sum(y_label==predict_label)/length * 100 \n",
    "print(\"Accuracy :\",accuracy )"
   ]
  },
  {
   "cell_type": "code",
   "execution_count": null,
   "id": "eeb0fc20",
   "metadata": {},
   "outputs": [],
   "source": []
  }
 ],
 "metadata": {
  "kernelspec": {
   "display_name": "Python 3 (ipykernel)",
   "language": "python",
   "name": "python3"
  },
  "language_info": {
   "codemirror_mode": {
    "name": "ipython",
    "version": 3
   },
   "file_extension": ".py",
   "mimetype": "text/x-python",
   "name": "python",
   "nbconvert_exporter": "python",
   "pygments_lexer": "ipython3",
   "version": "3.10.4"
  }
 },
 "nbformat": 4,
 "nbformat_minor": 5
}
