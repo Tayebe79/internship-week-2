{
 "cells": [
  {
   "cell_type": "code",
   "execution_count": 1,
   "id": "de381694",
   "metadata": {
    "scrolled": true
   },
   "outputs": [],
   "source": [
    "import pandas as pd\n",
    "import numpy as np\n",
    "from sklearn.linear_model import LinearRegression\n",
    "from sklearn.preprocessing import PolynomialFeatures\n",
    "from sklearn.model_selection import train_test_split\n",
    "from sklearn.metrics import accuracy_score,confusion_matrix\n",
    "from sklearn.metrics import precision_score, recall_score, f1_score, accuracy_score\n",
    "import matplotlib.pyplot as plt\n",
    "\n",
    "csv_file8 = 'datasetsForReport2/iris.csv'\n",
    "\n",
    "df8 = pd.read_csv(csv_file8)"
   ]
  },
  {
   "cell_type": "code",
   "execution_count": 2,
   "id": "c422d770",
   "metadata": {},
   "outputs": [
    {
     "name": "stdout",
     "output_type": "stream",
     "text": [
      "Accuracy: 0.97368\n"
     ]
    },
    {
     "name": "stderr",
     "output_type": "stream",
     "text": [
      "C:\\Users\\asus\\AppData\\Local\\Programs\\Python\\Python310\\lib\\site-packages\\sklearn\\linear_model\\_logistic.py:444: ConvergenceWarning: lbfgs failed to converge (status=1):\n",
      "STOP: TOTAL NO. of ITERATIONS REACHED LIMIT.\n",
      "\n",
      "Increase the number of iterations (max_iter) or scale the data as shown in:\n",
      "    https://scikit-learn.org/stable/modules/preprocessing.html\n",
      "Please also refer to the documentation for alternative solver options:\n",
      "    https://scikit-learn.org/stable/modules/linear_model.html#logistic-regression\n",
      "  n_iter_i = _check_optimize_result(\n"
     ]
    }
   ],
   "source": [
    "#Logistic Regression for iris = df8\n",
    "from sklearn.linear_model import LogisticRegression\n",
    "x8=df8.iloc[:,:4]\n",
    "y8=df8.iloc[:,4]\n",
    "x_train8,x_test8,y_train8,y_test8=train_test_split(x8,y8,random_state=0)\n",
    "model81=LogisticRegression()\n",
    "model81.fit(x_train8,y_train8)\n",
    "y_pred81=model81.predict(x_test8)\n",
    "print('Accuracy: %.5f' % accuracy_score(y_test8, y_pred81))"
   ]
  },
  {
   "cell_type": "code",
   "execution_count": 3,
   "id": "330a2b09",
   "metadata": {},
   "outputs": [
    {
     "name": "stdout",
     "output_type": "stream",
     "text": [
      "Accuracy: 0.97368\n"
     ]
    }
   ],
   "source": [
    "#Random forest for iris = df8\n",
    "from sklearn.ensemble import RandomForestClassifier \n",
    "model82= RandomForestClassifier(random_state = 100)\n",
    "model82= RandomForestClassifier(random_state = 100)\n",
    "model82.fit(x_train8,y_train8)\n",
    "y_pred82=model82.predict(x_test8)\n",
    "print('Accuracy: %.5f' % accuracy_score(y_test8, y_pred81))"
   ]
  },
  {
   "cell_type": "code",
   "execution_count": 4,
   "id": "a9ad84a1",
   "metadata": {},
   "outputs": [
    {
     "name": "stdout",
     "output_type": "stream",
     "text": [
      "Accuracy: 0.97368\n"
     ]
    }
   ],
   "source": [
    "#SVG for iris = df8\n",
    "from sklearn.svm import SVC\n",
    "model83=SVC()\n",
    "model83.fit(x_train8,y_train8)\n",
    "y_pred83=model83.predict(x_test8)\n",
    "print('Accuracy: %.5f' % accuracy_score(y_test8, y_pred83))"
   ]
  },
  {
   "cell_type": "code",
   "execution_count": 5,
   "id": "38d639b7",
   "metadata": {},
   "outputs": [
    {
     "name": "stdout",
     "output_type": "stream",
     "text": [
      "The accuracy for optimal k = 5 using brute is 97.36842105263158\n"
     ]
    }
   ],
   "source": [
    "#KNN for iris = df8\n",
    "from sklearn.neighbors import KNeighborsClassifier\n",
    "from sklearn.model_selection import cross_val_score\n",
    "cv_scores = []\n",
    "neighbors = list(np.arange(3,50,2))\n",
    "for n in neighbors:\n",
    "    knn = KNeighborsClassifier(n_neighbors = n,algorithm = 'brute')\n",
    "    \n",
    "    cross_val = cross_val_score(knn,x_train8,y_train8,cv = 5 , scoring = 'accuracy')\n",
    "    cv_scores.append(cross_val.mean())\n",
    "    \n",
    "error = [1-x for x in cv_scores]\n",
    "optimal_n = neighbors[ error.index(min(error)) ]\n",
    "knn_optimal = KNeighborsClassifier(n_neighbors = optimal_n,algorithm = 'brute')\n",
    "knn_optimal.fit(x_train8,y_train8)\n",
    "y_pred84 = knn_optimal.predict(x_test8)\n",
    "acc = accuracy_score(y_test8,y_pred84)*100\n",
    "print(\"The accuracy for optimal k = {0} using brute is {1}\".format(optimal_n,acc))"
   ]
  },
  {
   "cell_type": "code",
   "execution_count": 6,
   "id": "05376158",
   "metadata": {},
   "outputs": [
    {
     "name": "stdout",
     "output_type": "stream",
     "text": [
      "Accuracy: 0.97368\n"
     ]
    }
   ],
   "source": [
    "#Decision tree for iris = df8\n",
    "from sklearn.tree import DecisionTreeClassifier\n",
    "model85 = DecisionTreeClassifier()\n",
    "model85.fit(x_train8,y_train8)\n",
    "y_pred85=model85.predict(x_test8)\n",
    "print('Accuracy: %.5f' % accuracy_score(y_test8, y_pred85))"
   ]
  },
  {
   "cell_type": "code",
   "execution_count": 7,
   "id": "d93c3041",
   "metadata": {},
   "outputs": [
    {
     "name": "stdout",
     "output_type": "stream",
     "text": [
      "Accuracy: 0.97368\n"
     ]
    }
   ],
   "source": [
    "#xgboost for iris = df8\n",
    "from numpy import loadtxt\n",
    "from xgboost import XGBClassifier\n",
    "model86 = XGBClassifier()\n",
    "\n",
    "y_train8copy = y_train8\n",
    "d = {'Setosa': 0, 'Versicolor': 1, 'Virginica': 2}\n",
    "y_train8copy=[d[i] for i in y_train8copy]\n",
    "\n",
    "y_test8copy = y_test8\n",
    "d = {'Setosa': 0, 'Versicolor': 1, 'Virginica': 2}\n",
    "y_test8copy=[d[i] for i in y_test8copy]\n",
    "\n",
    "\n",
    "model86.fit(x_train8,y_train8copy)\n",
    "y_pred86=model86.predict(x_test8)\n",
    "print('Accuracy: %.5f' % accuracy_score(y_test8copy, y_pred86))"
   ]
  },
  {
   "cell_type": "code",
   "execution_count": 8,
   "id": "2df93f8b",
   "metadata": {},
   "outputs": [],
   "source": [
    "import keras\n",
    "import seaborn as sns\n",
    "from sklearn.preprocessing import normalize\n",
    "\n",
    "from keras.models import Sequential \n",
    "from keras.layers import Dense,Activation,Dropout \n",
    "from tensorflow.keras.layers import BatchNormalization\n",
    "from keras.utils import np_utils"
   ]
  },
  {
   "cell_type": "code",
   "execution_count": 11,
   "id": "cde95160",
   "metadata": {},
   "outputs": [
    {
     "name": "stdout",
     "output_type": "stream",
     "text": [
      "Epoch 1/100\n",
      "6/6 - 0s - loss: 1.0798 - accuracy: 0.5917 - val_loss: 1.2194 - val_accuracy: 0.0000e+00 - 445ms/epoch - 74ms/step\n",
      "Epoch 2/100\n",
      "6/6 - 0s - loss: 1.0020 - accuracy: 0.8333 - val_loss: 1.3928 - val_accuracy: 0.0000e+00 - 48ms/epoch - 8ms/step\n",
      "Epoch 3/100\n",
      "6/6 - 0s - loss: 0.8763 - accuracy: 0.8333 - val_loss: 1.4895 - val_accuracy: 0.0000e+00 - 47ms/epoch - 8ms/step\n",
      "Epoch 4/100\n",
      "6/6 - 0s - loss: 0.6904 - accuracy: 0.8333 - val_loss: 1.3947 - val_accuracy: 0.0000e+00 - 47ms/epoch - 8ms/step\n",
      "Epoch 5/100\n",
      "6/6 - 0s - loss: 0.5386 - accuracy: 0.8333 - val_loss: 1.1718 - val_accuracy: 0.0000e+00 - 48ms/epoch - 8ms/step\n",
      "Epoch 6/100\n",
      "6/6 - 0s - loss: 0.4063 - accuracy: 0.8333 - val_loss: 1.0934 - val_accuracy: 0.0000e+00 - 46ms/epoch - 8ms/step\n",
      "Epoch 7/100\n",
      "6/6 - 0s - loss: 0.3350 - accuracy: 0.8417 - val_loss: 0.7255 - val_accuracy: 0.5000 - 46ms/epoch - 8ms/step\n",
      "Epoch 8/100\n",
      "6/6 - 0s - loss: 0.2520 - accuracy: 0.8833 - val_loss: 0.8626 - val_accuracy: 0.3333 - 46ms/epoch - 8ms/step\n",
      "Epoch 9/100\n",
      "6/6 - 0s - loss: 0.1902 - accuracy: 0.9583 - val_loss: 0.4015 - val_accuracy: 0.9000 - 45ms/epoch - 8ms/step\n",
      "Epoch 10/100\n",
      "6/6 - 0s - loss: 0.1686 - accuracy: 0.9500 - val_loss: 0.3574 - val_accuracy: 0.8667 - 44ms/epoch - 7ms/step\n",
      "Epoch 11/100\n",
      "6/6 - 0s - loss: 0.1682 - accuracy: 0.9333 - val_loss: 0.6647 - val_accuracy: 0.6333 - 47ms/epoch - 8ms/step\n",
      "Epoch 12/100\n",
      "6/6 - 0s - loss: 0.1197 - accuracy: 0.9583 - val_loss: 0.4153 - val_accuracy: 0.7333 - 47ms/epoch - 8ms/step\n",
      "Epoch 13/100\n",
      "6/6 - 0s - loss: 0.0834 - accuracy: 0.9750 - val_loss: 0.2878 - val_accuracy: 0.9000 - 47ms/epoch - 8ms/step\n",
      "Epoch 14/100\n",
      "6/6 - 0s - loss: 0.0793 - accuracy: 1.0000 - val_loss: 0.4666 - val_accuracy: 0.7000 - 48ms/epoch - 8ms/step\n",
      "Epoch 15/100\n",
      "6/6 - 0s - loss: 0.0949 - accuracy: 0.9500 - val_loss: 0.0640 - val_accuracy: 1.0000 - 48ms/epoch - 8ms/step\n",
      "Epoch 16/100\n",
      "6/6 - 0s - loss: 0.0968 - accuracy: 0.9667 - val_loss: 0.6969 - val_accuracy: 0.6667 - 49ms/epoch - 8ms/step\n",
      "Epoch 17/100\n",
      "6/6 - 0s - loss: 0.0730 - accuracy: 0.9667 - val_loss: 0.1048 - val_accuracy: 0.9667 - 47ms/epoch - 8ms/step\n",
      "Epoch 18/100\n",
      "6/6 - 0s - loss: 0.0806 - accuracy: 0.9667 - val_loss: 0.6969 - val_accuracy: 0.7000 - 44ms/epoch - 7ms/step\n",
      "Epoch 19/100\n",
      "6/6 - 0s - loss: 0.0568 - accuracy: 0.9750 - val_loss: 0.1387 - val_accuracy: 0.9667 - 45ms/epoch - 8ms/step\n",
      "Epoch 20/100\n",
      "6/6 - 0s - loss: 0.0503 - accuracy: 0.9917 - val_loss: 0.3472 - val_accuracy: 0.8000 - 45ms/epoch - 8ms/step\n",
      "Epoch 21/100\n",
      "6/6 - 0s - loss: 0.0648 - accuracy: 0.9750 - val_loss: 0.2986 - val_accuracy: 0.8333 - 44ms/epoch - 7ms/step\n",
      "Epoch 22/100\n",
      "6/6 - 0s - loss: 0.0596 - accuracy: 0.9667 - val_loss: 0.4913 - val_accuracy: 0.7333 - 45ms/epoch - 8ms/step\n",
      "Epoch 23/100\n",
      "6/6 - 0s - loss: 0.0695 - accuracy: 0.9667 - val_loss: 0.1590 - val_accuracy: 0.9333 - 46ms/epoch - 8ms/step\n",
      "Epoch 24/100\n",
      "6/6 - 0s - loss: 0.0463 - accuracy: 0.9833 - val_loss: 0.5369 - val_accuracy: 0.7000 - 46ms/epoch - 8ms/step\n",
      "Epoch 25/100\n",
      "6/6 - 0s - loss: 0.0803 - accuracy: 0.9667 - val_loss: 0.0906 - val_accuracy: 0.9667 - 46ms/epoch - 8ms/step\n",
      "Epoch 26/100\n",
      "6/6 - 0s - loss: 0.0889 - accuracy: 0.9583 - val_loss: 0.2894 - val_accuracy: 0.8333 - 46ms/epoch - 8ms/step\n",
      "Epoch 27/100\n",
      "6/6 - 0s - loss: 0.0560 - accuracy: 0.9833 - val_loss: 0.3926 - val_accuracy: 0.7667 - 47ms/epoch - 8ms/step\n",
      "Epoch 28/100\n",
      "6/6 - 0s - loss: 0.0514 - accuracy: 0.9750 - val_loss: 0.0266 - val_accuracy: 1.0000 - 49ms/epoch - 8ms/step\n",
      "Epoch 29/100\n",
      "6/6 - 0s - loss: 0.1481 - accuracy: 0.9333 - val_loss: 1.2891 - val_accuracy: 0.5000 - 47ms/epoch - 8ms/step\n",
      "Epoch 30/100\n",
      "6/6 - 0s - loss: 0.1196 - accuracy: 0.9500 - val_loss: 0.0518 - val_accuracy: 1.0000 - 47ms/epoch - 8ms/step\n",
      "Epoch 31/100\n",
      "6/6 - 0s - loss: 0.0333 - accuracy: 0.9917 - val_loss: 0.9397 - val_accuracy: 0.6667 - 45ms/epoch - 8ms/step\n",
      "Epoch 32/100\n",
      "6/6 - 0s - loss: 0.0848 - accuracy: 0.9750 - val_loss: 0.0990 - val_accuracy: 0.9667 - 44ms/epoch - 7ms/step\n",
      "Epoch 33/100\n",
      "6/6 - 0s - loss: 0.1224 - accuracy: 0.9583 - val_loss: 0.7420 - val_accuracy: 0.7000 - 45ms/epoch - 8ms/step\n",
      "Epoch 34/100\n",
      "6/6 - 0s - loss: 0.0671 - accuracy: 0.9750 - val_loss: 0.0478 - val_accuracy: 1.0000 - 46ms/epoch - 8ms/step\n",
      "Epoch 35/100\n",
      "6/6 - 0s - loss: 0.0918 - accuracy: 0.9750 - val_loss: 0.6004 - val_accuracy: 0.7000 - 45ms/epoch - 7ms/step\n",
      "Epoch 36/100\n",
      "6/6 - 0s - loss: 0.1030 - accuracy: 0.9500 - val_loss: 0.1172 - val_accuracy: 0.9667 - 45ms/epoch - 7ms/step\n",
      "Epoch 37/100\n",
      "6/6 - 0s - loss: 0.0635 - accuracy: 0.9750 - val_loss: 0.6421 - val_accuracy: 0.7000 - 56ms/epoch - 9ms/step\n",
      "Epoch 38/100\n",
      "6/6 - 0s - loss: 0.0499 - accuracy: 0.9750 - val_loss: 0.1298 - val_accuracy: 0.9333 - 45ms/epoch - 7ms/step\n",
      "Epoch 39/100\n",
      "6/6 - 0s - loss: 0.0473 - accuracy: 0.9750 - val_loss: 0.5239 - val_accuracy: 0.7333 - 45ms/epoch - 8ms/step\n",
      "Epoch 40/100\n",
      "6/6 - 0s - loss: 0.0524 - accuracy: 0.9833 - val_loss: 0.1437 - val_accuracy: 0.9333 - 47ms/epoch - 8ms/step\n",
      "Epoch 41/100\n",
      "6/6 - 0s - loss: 0.0495 - accuracy: 0.9667 - val_loss: 0.4273 - val_accuracy: 0.7667 - 48ms/epoch - 8ms/step\n",
      "Epoch 42/100\n",
      "6/6 - 0s - loss: 0.0374 - accuracy: 0.9833 - val_loss: 0.1757 - val_accuracy: 0.9333 - 46ms/epoch - 8ms/step\n",
      "Epoch 43/100\n",
      "6/6 - 0s - loss: 0.0706 - accuracy: 0.9667 - val_loss: 0.3620 - val_accuracy: 0.8000 - 46ms/epoch - 8ms/step\n",
      "Epoch 44/100\n",
      "6/6 - 0s - loss: 0.0748 - accuracy: 0.9750 - val_loss: 0.2256 - val_accuracy: 0.9333 - 47ms/epoch - 8ms/step\n",
      "Epoch 45/100\n",
      "6/6 - 0s - loss: 0.0528 - accuracy: 0.9750 - val_loss: 0.3344 - val_accuracy: 0.8333 - 46ms/epoch - 8ms/step\n",
      "Epoch 46/100\n",
      "6/6 - 0s - loss: 0.0512 - accuracy: 0.9833 - val_loss: 0.1904 - val_accuracy: 0.9333 - 45ms/epoch - 8ms/step\n",
      "Epoch 47/100\n",
      "6/6 - 0s - loss: 0.0348 - accuracy: 0.9833 - val_loss: 0.2316 - val_accuracy: 0.9333 - 46ms/epoch - 8ms/step\n",
      "Epoch 48/100\n",
      "6/6 - 0s - loss: 0.0394 - accuracy: 0.9833 - val_loss: 0.2608 - val_accuracy: 0.9000 - 47ms/epoch - 8ms/step\n",
      "Epoch 49/100\n",
      "6/6 - 0s - loss: 0.0378 - accuracy: 0.9833 - val_loss: 0.2346 - val_accuracy: 0.9000 - 45ms/epoch - 7ms/step\n",
      "Epoch 50/100\n",
      "6/6 - 0s - loss: 0.0342 - accuracy: 0.9917 - val_loss: 0.1717 - val_accuracy: 0.9333 - 46ms/epoch - 8ms/step\n",
      "Epoch 51/100\n",
      "6/6 - 0s - loss: 0.0432 - accuracy: 0.9833 - val_loss: 0.6188 - val_accuracy: 0.7000 - 46ms/epoch - 8ms/step\n",
      "Epoch 52/100\n",
      "6/6 - 0s - loss: 0.0414 - accuracy: 0.9833 - val_loss: 0.0840 - val_accuracy: 0.9667 - 46ms/epoch - 8ms/step\n",
      "Epoch 53/100\n",
      "6/6 - 0s - loss: 0.0374 - accuracy: 0.9833 - val_loss: 0.4585 - val_accuracy: 0.7667 - 45ms/epoch - 8ms/step\n",
      "Epoch 54/100\n",
      "6/6 - 0s - loss: 0.0437 - accuracy: 0.9833 - val_loss: 0.1636 - val_accuracy: 0.9333 - 45ms/epoch - 7ms/step\n",
      "Epoch 55/100\n",
      "6/6 - 0s - loss: 0.0336 - accuracy: 0.9833 - val_loss: 0.2949 - val_accuracy: 0.8333 - 46ms/epoch - 8ms/step\n",
      "Epoch 56/100\n",
      "6/6 - 0s - loss: 0.0480 - accuracy: 0.9833 - val_loss: 0.1613 - val_accuracy: 0.9333 - 45ms/epoch - 8ms/step\n",
      "Epoch 57/100\n",
      "6/6 - 0s - loss: 0.0494 - accuracy: 0.9750 - val_loss: 0.4764 - val_accuracy: 0.7667 - 45ms/epoch - 8ms/step\n",
      "Epoch 58/100\n",
      "6/6 - 0s - loss: 0.0589 - accuracy: 0.9750 - val_loss: 0.1715 - val_accuracy: 0.9333 - 46ms/epoch - 8ms/step\n",
      "Epoch 59/100\n",
      "6/6 - 0s - loss: 0.0578 - accuracy: 0.9750 - val_loss: 0.4002 - val_accuracy: 0.8000 - 44ms/epoch - 7ms/step\n",
      "Epoch 60/100\n",
      "6/6 - 0s - loss: 0.0962 - accuracy: 0.9667 - val_loss: 0.2069 - val_accuracy: 0.9333 - 44ms/epoch - 7ms/step\n",
      "Epoch 61/100\n",
      "6/6 - 0s - loss: 0.1140 - accuracy: 0.9667 - val_loss: 0.4151 - val_accuracy: 0.8000 - 46ms/epoch - 8ms/step\n",
      "Epoch 62/100\n",
      "6/6 - 0s - loss: 0.0500 - accuracy: 0.9750 - val_loss: 0.1565 - val_accuracy: 0.9333 - 48ms/epoch - 8ms/step\n",
      "Epoch 63/100\n",
      "6/6 - 0s - loss: 0.0582 - accuracy: 0.9583 - val_loss: 0.5029 - val_accuracy: 0.7667 - 46ms/epoch - 8ms/step\n",
      "Epoch 64/100\n",
      "6/6 - 0s - loss: 0.0396 - accuracy: 0.9917 - val_loss: 0.2521 - val_accuracy: 0.9000 - 46ms/epoch - 8ms/step\n",
      "Epoch 65/100\n",
      "6/6 - 0s - loss: 0.0308 - accuracy: 0.9917 - val_loss: 0.2390 - val_accuracy: 0.9000 - 47ms/epoch - 8ms/step\n",
      "Epoch 66/100\n",
      "6/6 - 0s - loss: 0.0367 - accuracy: 0.9833 - val_loss: 0.3467 - val_accuracy: 0.8333 - 45ms/epoch - 7ms/step\n",
      "Epoch 67/100\n",
      "6/6 - 0s - loss: 0.0265 - accuracy: 0.9833 - val_loss: 0.2028 - val_accuracy: 0.9333 - 45ms/epoch - 7ms/step\n",
      "Epoch 68/100\n"
     ]
    },
    {
     "name": "stdout",
     "output_type": "stream",
     "text": [
      "6/6 - 0s - loss: 0.0310 - accuracy: 1.0000 - val_loss: 0.3840 - val_accuracy: 0.8000 - 44ms/epoch - 7ms/step\n",
      "Epoch 69/100\n",
      "6/6 - 0s - loss: 0.0529 - accuracy: 0.9833 - val_loss: 0.0865 - val_accuracy: 0.9667 - 45ms/epoch - 8ms/step\n",
      "Epoch 70/100\n",
      "6/6 - 0s - loss: 0.0407 - accuracy: 0.9750 - val_loss: 0.5703 - val_accuracy: 0.7333 - 45ms/epoch - 8ms/step\n",
      "Epoch 71/100\n",
      "6/6 - 0s - loss: 0.0812 - accuracy: 0.9667 - val_loss: 0.0570 - val_accuracy: 0.9667 - 43ms/epoch - 7ms/step\n",
      "Epoch 72/100\n",
      "6/6 - 0s - loss: 0.1141 - accuracy: 0.9583 - val_loss: 0.7509 - val_accuracy: 0.7000 - 45ms/epoch - 8ms/step\n",
      "Epoch 73/100\n",
      "6/6 - 0s - loss: 0.0658 - accuracy: 0.9750 - val_loss: 0.1850 - val_accuracy: 0.9333 - 46ms/epoch - 8ms/step\n",
      "Epoch 74/100\n",
      "6/6 - 0s - loss: 0.0457 - accuracy: 0.9750 - val_loss: 0.1400 - val_accuracy: 0.9333 - 45ms/epoch - 8ms/step\n",
      "Epoch 75/100\n",
      "6/6 - 0s - loss: 0.0334 - accuracy: 0.9833 - val_loss: 0.6804 - val_accuracy: 0.7000 - 46ms/epoch - 8ms/step\n",
      "Epoch 76/100\n",
      "6/6 - 0s - loss: 0.0866 - accuracy: 0.9583 - val_loss: 0.0497 - val_accuracy: 0.9667 - 43ms/epoch - 7ms/step\n",
      "Epoch 77/100\n",
      "6/6 - 0s - loss: 0.0590 - accuracy: 0.9750 - val_loss: 0.6806 - val_accuracy: 0.7000 - 47ms/epoch - 8ms/step\n",
      "Epoch 78/100\n",
      "6/6 - 0s - loss: 0.0371 - accuracy: 0.9917 - val_loss: 0.1835 - val_accuracy: 0.9333 - 45ms/epoch - 7ms/step\n",
      "Epoch 79/100\n",
      "6/6 - 0s - loss: 0.0298 - accuracy: 0.9917 - val_loss: 0.3525 - val_accuracy: 0.8333 - 48ms/epoch - 8ms/step\n",
      "Epoch 80/100\n",
      "6/6 - 0s - loss: 0.0289 - accuracy: 0.9917 - val_loss: 0.3698 - val_accuracy: 0.8333 - 45ms/epoch - 8ms/step\n",
      "Epoch 81/100\n",
      "6/6 - 0s - loss: 0.0288 - accuracy: 0.9833 - val_loss: 0.2962 - val_accuracy: 0.8333 - 45ms/epoch - 8ms/step\n",
      "Epoch 82/100\n",
      "6/6 - 0s - loss: 0.0278 - accuracy: 0.9917 - val_loss: 0.2479 - val_accuracy: 0.8667 - 48ms/epoch - 8ms/step\n",
      "Epoch 83/100\n",
      "6/6 - 0s - loss: 0.0398 - accuracy: 0.9750 - val_loss: 0.2776 - val_accuracy: 0.8667 - 45ms/epoch - 8ms/step\n",
      "Epoch 84/100\n",
      "6/6 - 0s - loss: 0.0414 - accuracy: 0.9833 - val_loss: 0.2348 - val_accuracy: 0.9333 - 47ms/epoch - 8ms/step\n",
      "Epoch 85/100\n",
      "6/6 - 0s - loss: 0.0333 - accuracy: 0.9833 - val_loss: 0.5938 - val_accuracy: 0.7333 - 45ms/epoch - 7ms/step\n",
      "Epoch 86/100\n",
      "6/6 - 0s - loss: 0.0638 - accuracy: 0.9667 - val_loss: 0.0321 - val_accuracy: 1.0000 - 45ms/epoch - 8ms/step\n",
      "Epoch 87/100\n",
      "6/6 - 0s - loss: 0.0613 - accuracy: 0.9750 - val_loss: 0.8944 - val_accuracy: 0.6667 - 45ms/epoch - 8ms/step\n",
      "Epoch 88/100\n",
      "6/6 - 0s - loss: 0.0807 - accuracy: 0.9667 - val_loss: 0.0459 - val_accuracy: 0.9667 - 44ms/epoch - 7ms/step\n",
      "Epoch 89/100\n",
      "6/6 - 0s - loss: 0.1005 - accuracy: 0.9667 - val_loss: 0.4035 - val_accuracy: 0.8000 - 45ms/epoch - 7ms/step\n",
      "Epoch 90/100\n",
      "6/6 - 0s - loss: 0.0284 - accuracy: 0.9833 - val_loss: 0.2964 - val_accuracy: 0.8333 - 46ms/epoch - 8ms/step\n",
      "Epoch 91/100\n",
      "6/6 - 0s - loss: 0.0242 - accuracy: 1.0000 - val_loss: 0.1900 - val_accuracy: 0.9333 - 45ms/epoch - 8ms/step\n",
      "Epoch 92/100\n",
      "6/6 - 0s - loss: 0.0214 - accuracy: 1.0000 - val_loss: 0.1784 - val_accuracy: 0.9333 - 45ms/epoch - 8ms/step\n",
      "Epoch 93/100\n",
      "6/6 - 0s - loss: 0.0666 - accuracy: 0.9583 - val_loss: 0.4484 - val_accuracy: 0.8000 - 49ms/epoch - 8ms/step\n",
      "Epoch 94/100\n",
      "6/6 - 0s - loss: 0.0958 - accuracy: 0.9583 - val_loss: 0.2300 - val_accuracy: 0.9333 - 46ms/epoch - 8ms/step\n",
      "Epoch 95/100\n",
      "6/6 - 0s - loss: 0.0413 - accuracy: 0.9833 - val_loss: 0.5171 - val_accuracy: 0.7667 - 45ms/epoch - 8ms/step\n",
      "Epoch 96/100\n",
      "6/6 - 0s - loss: 0.0233 - accuracy: 0.9917 - val_loss: 0.2145 - val_accuracy: 0.9333 - 45ms/epoch - 8ms/step\n",
      "Epoch 97/100\n",
      "6/6 - 0s - loss: 0.0424 - accuracy: 0.9833 - val_loss: 0.4436 - val_accuracy: 0.8000 - 45ms/epoch - 8ms/step\n",
      "Epoch 98/100\n",
      "6/6 - 0s - loss: 0.0333 - accuracy: 0.9833 - val_loss: 0.2189 - val_accuracy: 0.9333 - 47ms/epoch - 8ms/step\n",
      "Epoch 99/100\n",
      "6/6 - 0s - loss: 0.0291 - accuracy: 0.9917 - val_loss: 0.2379 - val_accuracy: 0.9000 - 51ms/epoch - 9ms/step\n",
      "Epoch 100/100\n",
      "6/6 - 0s - loss: 0.0293 - accuracy: 1.0000 - val_loss: 0.4033 - val_accuracy: 0.8000 - 46ms/epoch - 8ms/step\n"
     ]
    },
    {
     "data": {
      "text/plain": [
       "<keras.callbacks.History at 0x189e23fe500>"
      ]
     },
     "execution_count": 11,
     "metadata": {},
     "output_type": "execute_result"
    }
   ],
   "source": [
    "#neural network for iris = df8\n",
    "total_length=len(df8)\n",
    "train_length=int(0.8*total_length)\n",
    "test_length=int(0.2*total_length)\n",
    "\n",
    "x8_normalized=normalize(x8,axis=0)\n",
    "x_train87=x8_normalized[:train_length]\n",
    "x_test87=x8_normalized[train_length:]\n",
    "y_train87=y8[:train_length]\n",
    "y_test87=y8[train_length:]\n",
    "\n",
    "y_train87copy = y_train87\n",
    "d = {'Setosa': 0, 'Versicolor': 1, 'Virginica': 2}\n",
    "y_train87copy=[d[i] for i in y_train87copy]\n",
    "y_test87copy = y_test87\n",
    "y_test87copy=[d[i] for i in y_test87copy]\n",
    "\n",
    "y_train87copy=np_utils.to_categorical(y_train87copy,num_classes=3)\n",
    "y_test87copy=np_utils.to_categorical(y_test87copy,num_classes=3)\n",
    "\n",
    "model87=Sequential()\n",
    "model87.add(Dense(1000,input_dim=4,activation='relu'))\n",
    "model87.add(Dense(500,activation='relu'))\n",
    "model87.add(Dense(300,activation='relu'))\n",
    "model87.add(Dropout(0.2))\n",
    "model87.add(Dense(3,activation='softmax'))\n",
    "model87.compile(loss='categorical_crossentropy',optimizer='adam',metrics=['accuracy'])\n",
    "model87.fit(x_train87,y_train87copy,validation_data=(x_test87,y_test87copy),batch_size=20,epochs=100,verbose=2)"
   ]
  },
  {
   "cell_type": "code",
   "execution_count": 12,
   "id": "029598c1",
   "metadata": {},
   "outputs": [
    {
     "name": "stdout",
     "output_type": "stream",
     "text": [
      "Accuracy : 80.0\n"
     ]
    }
   ],
   "source": [
    "prediction=model87.predict(x_test87)\n",
    "length=len(prediction)\n",
    "y_label=np.argmax(y_test87copy,axis=1)\n",
    "predict_label=np.argmax(prediction,axis=1)\n",
    "\n",
    "accuracy=np.sum(y_label==predict_label)/length * 100 \n",
    "print(\"Accuracy :\",accuracy )"
   ]
  },
  {
   "cell_type": "code",
   "execution_count": null,
   "id": "7afa495d",
   "metadata": {},
   "outputs": [],
   "source": []
  }
 ],
 "metadata": {
  "kernelspec": {
   "display_name": "Python 3 (ipykernel)",
   "language": "python",
   "name": "python3"
  },
  "language_info": {
   "codemirror_mode": {
    "name": "ipython",
    "version": 3
   },
   "file_extension": ".py",
   "mimetype": "text/x-python",
   "name": "python",
   "nbconvert_exporter": "python",
   "pygments_lexer": "ipython3",
   "version": "3.10.4"
  }
 },
 "nbformat": 4,
 "nbformat_minor": 5
}
